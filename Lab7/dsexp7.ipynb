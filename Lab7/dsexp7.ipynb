{
 "cells": [
  {
   "cell_type": "code",
   "execution_count": 1,
   "id": "19f1e13d",
   "metadata": {
    "_cell_guid": "b1076dfc-b9ad-4769-8c92-a6c4dae69d19",
    "_uuid": "8f2839f25d086af736a60e9eeb907d3b93b6e0e5",
    "execution": {
     "iopub.execute_input": "2022-03-31T06:57:28.973400Z",
     "iopub.status.busy": "2022-03-31T06:57:28.972582Z",
     "iopub.status.idle": "2022-03-31T06:57:28.986894Z",
     "shell.execute_reply": "2022-03-31T06:57:28.987935Z",
     "shell.execute_reply.started": "2022-03-31T06:23:10.244890Z"
    },
    "papermill": {
     "duration": 0.066298,
     "end_time": "2022-03-31T06:57:28.988329",
     "exception": false,
     "start_time": "2022-03-31T06:57:28.922031",
     "status": "completed"
    },
    "tags": []
   },
   "outputs": [
    {
     "name": "stdout",
     "output_type": "stream",
     "text": [
      "/kaggle/input/spam-ham-emails/emails.csv\n"
     ]
    }
   ],
   "source": [
    "# This Python 3 environment comes with many helpful analytics libraries installed\n",
    "# It is defined by the kaggle/python Docker image: https://github.com/kaggle/docker-python\n",
    "# For example, here's several helpful packages to load\n",
    "\n",
    "import numpy as np # linear algebra\n",
    "import pandas as pd # data processing, CSV file I/O (e.g. pd.read_csv)\n",
    "\n",
    "# Input data files are available in the read-only \"../input/\" directory\n",
    "# For example, running this (by clicking run or pressing Shift+Enter) will list all files under the input directory\n",
    "\n",
    "import os\n",
    "for dirname, _, filenames in os.walk('/kaggle/input'):\n",
    "    for filename in filenames:\n",
    "        print(os.path.join(dirname, filename))\n",
    "\n",
    "# You can write up to 20GB to the current directory (/kaggle/working/) that gets preserved as output when you create a version using \"Save & Run All\" \n",
    "# You can also write temporary files to /kaggle/temp/, but they won't be saved outside of the current session"
   ]
  },
  {
   "cell_type": "code",
   "execution_count": 2,
   "id": "a1f7baf7",
   "metadata": {
    "execution": {
     "iopub.execute_input": "2022-03-31T06:57:29.067173Z",
     "iopub.status.busy": "2022-03-31T06:57:29.066447Z",
     "iopub.status.idle": "2022-03-31T06:57:29.274981Z",
     "shell.execute_reply": "2022-03-31T06:57:29.275505Z",
     "shell.execute_reply.started": "2022-03-31T06:23:10.272039Z"
    },
    "papermill": {
     "duration": 0.250006,
     "end_time": "2022-03-31T06:57:29.275700",
     "exception": false,
     "start_time": "2022-03-31T06:57:29.025694",
     "status": "completed"
    },
    "tags": []
   },
   "outputs": [],
   "source": [
    "emails = pd.read_csv('../input/spam-ham-emails/emails.csv')"
   ]
  },
  {
   "cell_type": "code",
   "execution_count": 3,
   "id": "feea9042",
   "metadata": {
    "execution": {
     "iopub.execute_input": "2022-03-31T06:57:29.351414Z",
     "iopub.status.busy": "2022-03-31T06:57:29.350585Z",
     "iopub.status.idle": "2022-03-31T06:57:29.375283Z",
     "shell.execute_reply": "2022-03-31T06:57:29.374628Z",
     "shell.execute_reply.started": "2022-03-31T06:23:10.368358Z"
    },
    "papermill": {
     "duration": 0.064397,
     "end_time": "2022-03-31T06:57:29.375445",
     "exception": false,
     "start_time": "2022-03-31T06:57:29.311048",
     "status": "completed"
    },
    "tags": []
   },
   "outputs": [
    {
     "data": {
      "text/html": [
       "<div>\n",
       "<style scoped>\n",
       "    .dataframe tbody tr th:only-of-type {\n",
       "        vertical-align: middle;\n",
       "    }\n",
       "\n",
       "    .dataframe tbody tr th {\n",
       "        vertical-align: top;\n",
       "    }\n",
       "\n",
       "    .dataframe thead th {\n",
       "        text-align: right;\n",
       "    }\n",
       "</style>\n",
       "<table border=\"1\" class=\"dataframe\">\n",
       "  <thead>\n",
       "    <tr style=\"text-align: right;\">\n",
       "      <th></th>\n",
       "      <th>text</th>\n",
       "      <th>spam</th>\n",
       "    </tr>\n",
       "  </thead>\n",
       "  <tbody>\n",
       "    <tr>\n",
       "      <th>0</th>\n",
       "      <td>Subject: naturally irresistible your corporate...</td>\n",
       "      <td>1</td>\n",
       "    </tr>\n",
       "    <tr>\n",
       "      <th>1</th>\n",
       "      <td>Subject: the stock trading gunslinger  fanny i...</td>\n",
       "      <td>1</td>\n",
       "    </tr>\n",
       "    <tr>\n",
       "      <th>2</th>\n",
       "      <td>Subject: unbelievable new homes made easy  im ...</td>\n",
       "      <td>1</td>\n",
       "    </tr>\n",
       "    <tr>\n",
       "      <th>3</th>\n",
       "      <td>Subject: 4 color printing special  request add...</td>\n",
       "      <td>1</td>\n",
       "    </tr>\n",
       "    <tr>\n",
       "      <th>4</th>\n",
       "      <td>Subject: do not have money , get software cds ...</td>\n",
       "      <td>1</td>\n",
       "    </tr>\n",
       "    <tr>\n",
       "      <th>...</th>\n",
       "      <td>...</td>\n",
       "      <td>...</td>\n",
       "    </tr>\n",
       "    <tr>\n",
       "      <th>5723</th>\n",
       "      <td>Subject: re : research and development charges...</td>\n",
       "      <td>0</td>\n",
       "    </tr>\n",
       "    <tr>\n",
       "      <th>5724</th>\n",
       "      <td>Subject: re : receipts from visit  jim ,  than...</td>\n",
       "      <td>0</td>\n",
       "    </tr>\n",
       "    <tr>\n",
       "      <th>5725</th>\n",
       "      <td>Subject: re : enron case study update  wow ! a...</td>\n",
       "      <td>0</td>\n",
       "    </tr>\n",
       "    <tr>\n",
       "      <th>5726</th>\n",
       "      <td>Subject: re : interest  david ,  please , call...</td>\n",
       "      <td>0</td>\n",
       "    </tr>\n",
       "    <tr>\n",
       "      <th>5727</th>\n",
       "      <td>Subject: news : aurora 5 . 2 update  aurora ve...</td>\n",
       "      <td>0</td>\n",
       "    </tr>\n",
       "  </tbody>\n",
       "</table>\n",
       "<p>5728 rows × 2 columns</p>\n",
       "</div>"
      ],
      "text/plain": [
       "                                                   text  spam\n",
       "0     Subject: naturally irresistible your corporate...     1\n",
       "1     Subject: the stock trading gunslinger  fanny i...     1\n",
       "2     Subject: unbelievable new homes made easy  im ...     1\n",
       "3     Subject: 4 color printing special  request add...     1\n",
       "4     Subject: do not have money , get software cds ...     1\n",
       "...                                                 ...   ...\n",
       "5723  Subject: re : research and development charges...     0\n",
       "5724  Subject: re : receipts from visit  jim ,  than...     0\n",
       "5725  Subject: re : enron case study update  wow ! a...     0\n",
       "5726  Subject: re : interest  david ,  please , call...     0\n",
       "5727  Subject: news : aurora 5 . 2 update  aurora ve...     0\n",
       "\n",
       "[5728 rows x 2 columns]"
      ]
     },
     "execution_count": 3,
     "metadata": {},
     "output_type": "execute_result"
    }
   ],
   "source": [
    "emails"
   ]
  },
  {
   "cell_type": "code",
   "execution_count": 4,
   "id": "44cc12b2",
   "metadata": {
    "execution": {
     "iopub.execute_input": "2022-03-31T06:57:29.458069Z",
     "iopub.status.busy": "2022-03-31T06:57:29.457300Z",
     "iopub.status.idle": "2022-03-31T06:57:29.477914Z",
     "shell.execute_reply": "2022-03-31T06:57:29.478707Z",
     "shell.execute_reply.started": "2022-03-31T06:23:10.387334Z"
    },
    "papermill": {
     "duration": 0.067068,
     "end_time": "2022-03-31T06:57:29.478961",
     "exception": false,
     "start_time": "2022-03-31T06:57:29.411893",
     "status": "completed"
    },
    "tags": []
   },
   "outputs": [
    {
     "name": "stdout",
     "output_type": "stream",
     "text": [
      "<class 'pandas.core.frame.DataFrame'>\n",
      "RangeIndex: 5728 entries, 0 to 5727\n",
      "Data columns (total 2 columns):\n",
      " #   Column  Non-Null Count  Dtype \n",
      "---  ------  --------------  ----- \n",
      " 0   text    5728 non-null   object\n",
      " 1   spam    5728 non-null   int64 \n",
      "dtypes: int64(1), object(1)\n",
      "memory usage: 89.6+ KB\n"
     ]
    }
   ],
   "source": [
    "emails.info()"
   ]
  },
  {
   "cell_type": "markdown",
   "id": "c345b866",
   "metadata": {
    "papermill": {
     "duration": 0.036173,
     "end_time": "2022-03-31T06:57:29.552375",
     "exception": false,
     "start_time": "2022-03-31T06:57:29.516202",
     "status": "completed"
    },
    "tags": []
   },
   "source": [
    "There are "
   ]
  },
  {
   "cell_type": "code",
   "execution_count": 5,
   "id": "49e59d7f",
   "metadata": {
    "execution": {
     "iopub.execute_input": "2022-03-31T06:57:29.632770Z",
     "iopub.status.busy": "2022-03-31T06:57:29.631986Z",
     "iopub.status.idle": "2022-03-31T06:57:29.643865Z",
     "shell.execute_reply": "2022-03-31T06:57:29.644409Z",
     "shell.execute_reply.started": "2022-03-31T06:23:10.406390Z"
    },
    "papermill": {
     "duration": 0.053059,
     "end_time": "2022-03-31T06:57:29.644609",
     "exception": false,
     "start_time": "2022-03-31T06:57:29.591550",
     "status": "completed"
    },
    "tags": []
   },
   "outputs": [],
   "source": [
    "sw = (\"i\", \"me\", \"my\", \"myself\", \"we\", \"our\", \"ours\", \"ourselves\", \"you\", \"your\", \"yours\", \"yourself\", \"yourselves\", \"he\", \"him\", \"his\", \"himself\", \"she\", \"her\", \"hers\", \"herself\", \"it\", \"its\", \"itself\", \"they\", \"them\", \"their\", \"theirs\", \"themselves\", \"what\", \"which\", \"who\", \"whom\", \"this\", \"that\", \"these\", \"those\", \"am\", \"is\", \"are\", \"was\", \"were\", \"be\", \"been\", \"being\", \"have\", \"has\", \"had\", \"having\", \"do\", \"does\", \"did\", \"doing\", \"would\", \"should\", \"could\", \"ought\", \"i'm\", \"you're\", \"he's\", \"she's\", \"it's\", \"we're\", \"they're\", \"i've\", \"you've\", \"we've\", \"they've\", \"i'd\", \"you'd\", \"he'd\", \"she'd\", \"we'd\", \"they'd\", \"i'll\", \"you'll\", \"he'll\", \"she'll\", \"we'll\", \"they'll\", \"isn't\", \"aren't\", \"wasn't\", \"weren't\", \"hasn't\", \"haven't\", \"hadn't\", \"doesn't\", \"don't\", \"didn't\", \"won't\", \"wouldn't\", \"shan't\", \"shouldn't\", \"can't\", \"cannot\", \"couldn't\", \"mustn't\", \"let's\", \"that's\", \"who's\", \"what's\", \"here's\", \"there's\", \"when's\", \"where's\", \"why's\", \"how's\", \"a\", \"an\", \"the\", \"and\", \"but\", \"if\", \"or\", \"because\", \"as\", \"until\", \"while\", \"of\", \"at\", \"by\", \"for\", \"with\", \"about\", \"against\", \"between\", \"into\", \"through\", \"during\", \"before\", \"after\", \"above\", \"below\", \"to\", \"from\", \"up\", \"down\", \"in\", \"out\", \"on\", \"off\", \"over\", \"under\", \"again\", \"further\", \"then\", \"once\", \"here\", \"there\", \"when\", \"where\", \"why\", \"how\", \"all\", \"any\", \"both\", \"each\", \"few\", \"more\", \"most\", \"other\", \"some\", \"such\", \"no\", \"nor\", \"not\", \"only\", \"own\", \"same\", \"so\", \"than\", \"too\", \"very\")"
   ]
  },
  {
   "cell_type": "code",
   "execution_count": 6,
   "id": "7449548c",
   "metadata": {
    "execution": {
     "iopub.execute_input": "2022-03-31T06:57:29.721221Z",
     "iopub.status.busy": "2022-03-31T06:57:29.720516Z",
     "iopub.status.idle": "2022-03-31T06:57:29.726893Z",
     "shell.execute_reply": "2022-03-31T06:57:29.727415Z",
     "shell.execute_reply.started": "2022-03-31T06:23:10.418802Z"
    },
    "papermill": {
     "duration": 0.046386,
     "end_time": "2022-03-31T06:57:29.727597",
     "exception": false,
     "start_time": "2022-03-31T06:57:29.681211",
     "status": "completed"
    },
    "tags": []
   },
   "outputs": [
    {
     "data": {
      "text/plain": [
       "0    4360\n",
       "1    1368\n",
       "Name: spam, dtype: int64"
      ]
     },
     "execution_count": 6,
     "metadata": {},
     "output_type": "execute_result"
    }
   ],
   "source": [
    "emails['spam'].value_counts()"
   ]
  },
  {
   "cell_type": "code",
   "execution_count": 7,
   "id": "e89526e5",
   "metadata": {
    "execution": {
     "iopub.execute_input": "2022-03-31T06:57:29.806145Z",
     "iopub.status.busy": "2022-03-31T06:57:29.805483Z",
     "iopub.status.idle": "2022-03-31T06:57:31.720381Z",
     "shell.execute_reply": "2022-03-31T06:57:31.720910Z",
     "shell.execute_reply.started": "2022-03-31T06:23:10.498724Z"
    },
    "papermill": {
     "duration": 1.955859,
     "end_time": "2022-03-31T06:57:31.721083",
     "exception": false,
     "start_time": "2022-03-31T06:57:29.765224",
     "status": "completed"
    },
    "tags": []
   },
   "outputs": [
    {
     "name": "stdout",
     "output_type": "stream",
     "text": [
      "[nltk_data] Downloading package stopwords to /usr/share/nltk_data...\n",
      "[nltk_data]   Package stopwords is already up-to-date!\n"
     ]
    },
    {
     "data": {
      "text/plain": [
       "True"
      ]
     },
     "execution_count": 7,
     "metadata": {},
     "output_type": "execute_result"
    }
   ],
   "source": [
    "import nltk \n",
    "nltk.download('stopwords')"
   ]
  },
  {
   "cell_type": "code",
   "execution_count": 8,
   "id": "491366e5",
   "metadata": {
    "execution": {
     "iopub.execute_input": "2022-03-31T06:57:31.801411Z",
     "iopub.status.busy": "2022-03-31T06:57:31.800654Z",
     "iopub.status.idle": "2022-03-31T06:57:31.807939Z",
     "shell.execute_reply": "2022-03-31T06:57:31.808503Z",
     "shell.execute_reply.started": "2022-03-31T06:23:11.325243Z"
    },
    "papermill": {
     "duration": 0.049914,
     "end_time": "2022-03-31T06:57:31.808701",
     "exception": false,
     "start_time": "2022-03-31T06:57:31.758787",
     "status": "completed"
    },
    "tags": []
   },
   "outputs": [],
   "source": [
    "import string \n",
    "from nltk.corpus import stopwords\n",
    "from nltk import PorterStemmer as Stemmer\n",
    "def preprocess(email):\n",
    "    email = email.lower()\n",
    "    email = ''.join([t for t in email if t not in string.punctuation])\n",
    "    email = [t for t in email.split() if  t not in stopwords.words('english')]\n",
    "    st = Stemmer()\n",
    "    email =[st.stem(t) for t in email]\n",
    "    email = ' '.join(email)\n",
    "    return email"
   ]
  },
  {
   "cell_type": "markdown",
   "id": "0b77818f",
   "metadata": {
    "papermill": {
     "duration": 0.037363,
     "end_time": "2022-03-31T06:57:31.883666",
     "exception": false,
     "start_time": "2022-03-31T06:57:31.846303",
     "status": "completed"
    },
    "tags": []
   },
   "source": [
    "How many of the emails are spam? \n",
    "\n",
    "There are 1368 spam emails."
   ]
  },
  {
   "cell_type": "code",
   "execution_count": 9,
   "id": "07c54b84",
   "metadata": {
    "execution": {
     "iopub.execute_input": "2022-03-31T06:57:31.963512Z",
     "iopub.status.busy": "2022-03-31T06:57:31.962725Z",
     "iopub.status.idle": "2022-03-31T06:57:32.168857Z",
     "shell.execute_reply": "2022-03-31T06:57:32.169516Z",
     "shell.execute_reply.started": "2022-03-31T06:23:11.333623Z"
    },
    "papermill": {
     "duration": 0.247649,
     "end_time": "2022-03-31T06:57:32.169694",
     "exception": false,
     "start_time": "2022-03-31T06:57:31.922045",
     "status": "completed"
    },
    "tags": []
   },
   "outputs": [
    {
     "data": {
      "text/plain": [
       "Subject:    5728\n",
       "dtype: int64"
      ]
     },
     "execution_count": 9,
     "metadata": {},
     "output_type": "execute_result"
    }
   ],
   "source": [
    "first_w = emails.apply(lambda x: x['text'].split()[0],axis=1)\n",
    "first_w.value_counts()"
   ]
  },
  {
   "cell_type": "markdown",
   "id": "84c18490",
   "metadata": {
    "papermill": {
     "duration": 0.039347,
     "end_time": "2022-03-31T06:57:32.246977",
     "exception": false,
     "start_time": "2022-03-31T06:57:32.207630",
     "status": "completed"
    },
    "tags": []
   },
   "source": [
    "Which word appears at the beginning of every email in the dataset? Respond as a lower-case word with punctuation removed.\n",
    "\n",
    "subject\n"
   ]
  },
  {
   "cell_type": "markdown",
   "id": "d8f6782f",
   "metadata": {
    "papermill": {
     "duration": 0.038502,
     "end_time": "2022-03-31T06:57:32.324196",
     "exception": false,
     "start_time": "2022-03-31T06:57:32.285694",
     "status": "completed"
    },
    "tags": []
   },
   "source": [
    "Could a spam classifier potentially benefit from including the frequency of the word that appears in every email?\n",
    "\n",
    "Yes -- the number of times the word appears might help us differentiate spam from ham.\n",
    "\n",
    "No -- the word appears in every email so this variable would not help us differentiate spam from ham.\n",
    "\n",
    "Yes"
   ]
  },
  {
   "cell_type": "code",
   "execution_count": 10,
   "id": "2386c3f2",
   "metadata": {
    "execution": {
     "iopub.execute_input": "2022-03-31T06:57:32.406520Z",
     "iopub.status.busy": "2022-03-31T06:57:32.405816Z",
     "iopub.status.idle": "2022-03-31T06:57:32.493473Z",
     "shell.execute_reply": "2022-03-31T06:57:32.492790Z",
     "shell.execute_reply.started": "2022-03-31T06:23:11.547458Z"
    },
    "papermill": {
     "duration": 0.128841,
     "end_time": "2022-03-31T06:57:32.493637",
     "exception": false,
     "start_time": "2022-03-31T06:57:32.364796",
     "status": "completed"
    },
    "tags": []
   },
   "outputs": [
    {
     "data": {
      "text/plain": [
       "43952"
      ]
     },
     "execution_count": 10,
     "metadata": {},
     "output_type": "execute_result"
    }
   ],
   "source": [
    "characters = emails.apply(lambda x: len(x['text']),axis=1)\n",
    "max(characters)"
   ]
  },
  {
   "cell_type": "markdown",
   "id": "86abd2f0",
   "metadata": {
    "papermill": {
     "duration": 0.038291,
     "end_time": "2022-03-31T06:57:32.570050",
     "exception": false,
     "start_time": "2022-03-31T06:57:32.531759",
     "status": "completed"
    },
    "tags": []
   },
   "source": [
    "The nchar() function counts the number of characters in a piece of text. How many characters are in the longest email in the dataset (where longest is measured in terms of the maximum number of characters)?\n",
    "\n",
    "43952"
   ]
  },
  {
   "cell_type": "code",
   "execution_count": 11,
   "id": "85a7f68e",
   "metadata": {
    "execution": {
     "iopub.execute_input": "2022-03-31T06:57:32.656676Z",
     "iopub.status.busy": "2022-03-31T06:57:32.655084Z",
     "iopub.status.idle": "2022-03-31T07:01:00.712490Z",
     "shell.execute_reply": "2022-03-31T07:01:00.713095Z",
     "shell.execute_reply.started": "2022-03-31T06:23:11.637186Z"
    },
    "papermill": {
     "duration": 208.103322,
     "end_time": "2022-03-31T07:01:00.713311",
     "exception": false,
     "start_time": "2022-03-31T06:57:32.609989",
     "status": "completed"
    },
    "tags": []
   },
   "outputs": [],
   "source": [
    "corpus = emails.apply(lambda x:preprocess(x['text']),axis=1)"
   ]
  },
  {
   "cell_type": "code",
   "execution_count": 12,
   "id": "39c60031",
   "metadata": {
    "execution": {
     "iopub.execute_input": "2022-03-31T07:01:00.796181Z",
     "iopub.status.busy": "2022-03-31T07:01:00.795449Z",
     "iopub.status.idle": "2022-03-31T07:01:00.803040Z",
     "shell.execute_reply": "2022-03-31T07:01:00.803669Z",
     "shell.execute_reply.started": "2022-03-31T06:26:34.854177Z"
    },
    "papermill": {
     "duration": 0.05188,
     "end_time": "2022-03-31T07:01:00.803865",
     "exception": false,
     "start_time": "2022-03-31T07:01:00.751985",
     "status": "completed"
    },
    "tags": []
   },
   "outputs": [
    {
     "data": {
      "text/plain": [
       "0       subject natur irresist corpor ident lt realli ...\n",
       "1       subject stock trade gunsling fanni merril muzo...\n",
       "2       subject unbeliev new home made easi im want sh...\n",
       "3       subject 4 color print special request addit in...\n",
       "4       subject money get softwar cd softwar compat gr...\n",
       "                              ...                        \n",
       "5723    subject research develop charg gpg forward shi...\n",
       "5724    subject receipt visit jim thank invit visit ls...\n",
       "5725    subject enron case studi updat wow day super t...\n",
       "5726    subject interest david pleas call shirley cren...\n",
       "5727    subject news aurora 5 2 updat aurora version 5...\n",
       "Length: 5728, dtype: object"
      ]
     },
     "execution_count": 12,
     "metadata": {},
     "output_type": "execute_result"
    }
   ],
   "source": [
    "corpus"
   ]
  },
  {
   "cell_type": "code",
   "execution_count": 13,
   "id": "f1f2d7e0",
   "metadata": {
    "execution": {
     "iopub.execute_input": "2022-03-31T07:01:00.887213Z",
     "iopub.status.busy": "2022-03-31T07:01:00.886194Z",
     "iopub.status.idle": "2022-03-31T07:01:00.888604Z",
     "shell.execute_reply": "2022-03-31T07:01:00.888115Z",
     "shell.execute_reply.started": "2022-03-31T06:26:34.863068Z"
    },
    "papermill": {
     "duration": 0.045993,
     "end_time": "2022-03-31T07:01:00.888745",
     "exception": false,
     "start_time": "2022-03-31T07:01:00.842752",
     "status": "completed"
    },
    "tags": []
   },
   "outputs": [],
   "source": [
    "import pandas as pd\n",
    "from sklearn.feature_extraction.text import CountVectorizer"
   ]
  },
  {
   "cell_type": "code",
   "execution_count": 14,
   "id": "ec984a55",
   "metadata": {
    "execution": {
     "iopub.execute_input": "2022-03-31T07:01:00.970090Z",
     "iopub.status.busy": "2022-03-31T07:01:00.969275Z",
     "iopub.status.idle": "2022-03-31T07:01:02.071425Z",
     "shell.execute_reply": "2022-03-31T07:01:02.070763Z",
     "shell.execute_reply.started": "2022-03-31T06:26:34.875242Z"
    },
    "papermill": {
     "duration": 1.144322,
     "end_time": "2022-03-31T07:01:02.071603",
     "exception": false,
     "start_time": "2022-03-31T07:01:00.927281",
     "status": "completed"
    },
    "tags": []
   },
   "outputs": [],
   "source": [
    "vec = CountVectorizer()\n",
    "X = vec.fit_transform(corpus)"
   ]
  },
  {
   "cell_type": "code",
   "execution_count": 15,
   "id": "5f599be7",
   "metadata": {
    "execution": {
     "iopub.execute_input": "2022-03-31T07:01:02.160179Z",
     "iopub.status.busy": "2022-03-31T07:01:02.159105Z",
     "iopub.status.idle": "2022-03-31T07:01:02.709207Z",
     "shell.execute_reply": "2022-03-31T07:01:02.709734Z",
     "shell.execute_reply.started": "2022-03-31T06:26:35.895623Z"
    },
    "papermill": {
     "duration": 0.596211,
     "end_time": "2022-03-31T07:01:02.709923",
     "exception": false,
     "start_time": "2022-03-31T07:01:02.113712",
     "status": "completed"
    },
    "tags": []
   },
   "outputs": [
    {
     "name": "stderr",
     "output_type": "stream",
     "text": [
      "/opt/conda/lib/python3.7/site-packages/sklearn/utils/deprecation.py:87: FutureWarning: Function get_feature_names is deprecated; get_feature_names is deprecated in 1.0 and will be removed in 1.2. Please use get_feature_names_out instead.\n",
      "  warnings.warn(msg, category=FutureWarning)\n"
     ]
    },
    {
     "data": {
      "text/html": [
       "<div>\n",
       "<style scoped>\n",
       "    .dataframe tbody tr th:only-of-type {\n",
       "        vertical-align: middle;\n",
       "    }\n",
       "\n",
       "    .dataframe tbody tr th {\n",
       "        vertical-align: top;\n",
       "    }\n",
       "\n",
       "    .dataframe thead th {\n",
       "        text-align: right;\n",
       "    }\n",
       "</style>\n",
       "<table border=\"1\" class=\"dataframe\">\n",
       "  <thead>\n",
       "    <tr style=\"text-align: right;\">\n",
       "      <th></th>\n",
       "      <th>00</th>\n",
       "      <th>000</th>\n",
       "      <th>0000</th>\n",
       "      <th>000000</th>\n",
       "      <th>00000000</th>\n",
       "      <th>0000000000</th>\n",
       "      <th>000000000003619</th>\n",
       "      <th>000000000003991</th>\n",
       "      <th>000000000003997</th>\n",
       "      <th>000000000005168</th>\n",
       "      <th>...</th>\n",
       "      <th>zwzm</th>\n",
       "      <th>zxghlajf</th>\n",
       "      <th>zyban</th>\n",
       "      <th>zyc</th>\n",
       "      <th>zygoma</th>\n",
       "      <th>zymg</th>\n",
       "      <th>zzmacmac</th>\n",
       "      <th>zzn</th>\n",
       "      <th>zzncacst</th>\n",
       "      <th>zzzz</th>\n",
       "    </tr>\n",
       "  </thead>\n",
       "  <tbody>\n",
       "    <tr>\n",
       "      <th>0</th>\n",
       "      <td>0</td>\n",
       "      <td>0</td>\n",
       "      <td>0</td>\n",
       "      <td>0</td>\n",
       "      <td>0</td>\n",
       "      <td>0</td>\n",
       "      <td>0</td>\n",
       "      <td>0</td>\n",
       "      <td>0</td>\n",
       "      <td>0</td>\n",
       "      <td>...</td>\n",
       "      <td>0</td>\n",
       "      <td>0</td>\n",
       "      <td>0</td>\n",
       "      <td>0</td>\n",
       "      <td>0</td>\n",
       "      <td>0</td>\n",
       "      <td>0</td>\n",
       "      <td>0</td>\n",
       "      <td>0</td>\n",
       "      <td>0</td>\n",
       "    </tr>\n",
       "    <tr>\n",
       "      <th>1</th>\n",
       "      <td>0</td>\n",
       "      <td>0</td>\n",
       "      <td>0</td>\n",
       "      <td>0</td>\n",
       "      <td>0</td>\n",
       "      <td>0</td>\n",
       "      <td>0</td>\n",
       "      <td>0</td>\n",
       "      <td>0</td>\n",
       "      <td>0</td>\n",
       "      <td>...</td>\n",
       "      <td>0</td>\n",
       "      <td>0</td>\n",
       "      <td>0</td>\n",
       "      <td>0</td>\n",
       "      <td>0</td>\n",
       "      <td>0</td>\n",
       "      <td>0</td>\n",
       "      <td>0</td>\n",
       "      <td>0</td>\n",
       "      <td>0</td>\n",
       "    </tr>\n",
       "    <tr>\n",
       "      <th>2</th>\n",
       "      <td>0</td>\n",
       "      <td>0</td>\n",
       "      <td>0</td>\n",
       "      <td>0</td>\n",
       "      <td>0</td>\n",
       "      <td>0</td>\n",
       "      <td>0</td>\n",
       "      <td>0</td>\n",
       "      <td>0</td>\n",
       "      <td>0</td>\n",
       "      <td>...</td>\n",
       "      <td>0</td>\n",
       "      <td>0</td>\n",
       "      <td>0</td>\n",
       "      <td>0</td>\n",
       "      <td>0</td>\n",
       "      <td>0</td>\n",
       "      <td>0</td>\n",
       "      <td>0</td>\n",
       "      <td>0</td>\n",
       "      <td>0</td>\n",
       "    </tr>\n",
       "    <tr>\n",
       "      <th>3</th>\n",
       "      <td>0</td>\n",
       "      <td>0</td>\n",
       "      <td>0</td>\n",
       "      <td>0</td>\n",
       "      <td>0</td>\n",
       "      <td>0</td>\n",
       "      <td>0</td>\n",
       "      <td>0</td>\n",
       "      <td>0</td>\n",
       "      <td>0</td>\n",
       "      <td>...</td>\n",
       "      <td>0</td>\n",
       "      <td>0</td>\n",
       "      <td>0</td>\n",
       "      <td>0</td>\n",
       "      <td>0</td>\n",
       "      <td>0</td>\n",
       "      <td>0</td>\n",
       "      <td>0</td>\n",
       "      <td>0</td>\n",
       "      <td>0</td>\n",
       "    </tr>\n",
       "    <tr>\n",
       "      <th>4</th>\n",
       "      <td>0</td>\n",
       "      <td>0</td>\n",
       "      <td>0</td>\n",
       "      <td>0</td>\n",
       "      <td>0</td>\n",
       "      <td>0</td>\n",
       "      <td>0</td>\n",
       "      <td>0</td>\n",
       "      <td>0</td>\n",
       "      <td>0</td>\n",
       "      <td>...</td>\n",
       "      <td>0</td>\n",
       "      <td>0</td>\n",
       "      <td>0</td>\n",
       "      <td>0</td>\n",
       "      <td>0</td>\n",
       "      <td>0</td>\n",
       "      <td>0</td>\n",
       "      <td>0</td>\n",
       "      <td>0</td>\n",
       "      <td>0</td>\n",
       "    </tr>\n",
       "  </tbody>\n",
       "</table>\n",
       "<p>5 rows × 29254 columns</p>\n",
       "</div>"
      ],
      "text/plain": [
       "   00  000  0000  000000  00000000  0000000000  000000000003619  \\\n",
       "0   0    0     0       0         0           0                0   \n",
       "1   0    0     0       0         0           0                0   \n",
       "2   0    0     0       0         0           0                0   \n",
       "3   0    0     0       0         0           0                0   \n",
       "4   0    0     0       0         0           0                0   \n",
       "\n",
       "   000000000003991  000000000003997  000000000005168  ...  zwzm  zxghlajf  \\\n",
       "0                0                0                0  ...     0         0   \n",
       "1                0                0                0  ...     0         0   \n",
       "2                0                0                0  ...     0         0   \n",
       "3                0                0                0  ...     0         0   \n",
       "4                0                0                0  ...     0         0   \n",
       "\n",
       "   zyban  zyc  zygoma  zymg  zzmacmac  zzn  zzncacst  zzzz  \n",
       "0      0    0       0     0         0    0         0     0  \n",
       "1      0    0       0     0         0    0         0     0  \n",
       "2      0    0       0     0         0    0         0     0  \n",
       "3      0    0       0     0         0    0         0     0  \n",
       "4      0    0       0     0         0    0         0     0  \n",
       "\n",
       "[5 rows x 29254 columns]"
      ]
     },
     "execution_count": 15,
     "metadata": {},
     "output_type": "execute_result"
    }
   ],
   "source": [
    "df = pd.DataFrame(X.toarray(), columns=vec.get_feature_names())\n",
    "df.head()"
   ]
  },
  {
   "cell_type": "code",
   "execution_count": 16,
   "id": "1422b8ad",
   "metadata": {
    "execution": {
     "iopub.execute_input": "2022-03-31T07:01:02.796665Z",
     "iopub.status.busy": "2022-03-31T07:01:02.795808Z",
     "iopub.status.idle": "2022-03-31T07:01:03.142747Z",
     "shell.execute_reply": "2022-03-31T07:01:03.142183Z",
     "shell.execute_reply.started": "2022-03-31T06:26:36.534754Z"
    },
    "papermill": {
     "duration": 0.392168,
     "end_time": "2022-03-31T07:01:03.142922",
     "exception": false,
     "start_time": "2022-03-31T07:01:02.750754",
     "status": "completed"
    },
    "tags": []
   },
   "outputs": [
    {
     "data": {
      "text/plain": [
       "585"
      ]
     },
     "execution_count": 16,
     "metadata": {},
     "output_type": "execute_result"
    }
   ],
   "source": [
    "(df.sum() > 286).sum()"
   ]
  },
  {
   "cell_type": "code",
   "execution_count": 17,
   "id": "d37b837e",
   "metadata": {
    "execution": {
     "iopub.execute_input": "2022-03-31T07:01:03.229654Z",
     "iopub.status.busy": "2022-03-31T07:01:03.228915Z",
     "iopub.status.idle": "2022-03-31T07:04:06.396139Z",
     "shell.execute_reply": "2022-03-31T07:04:06.395354Z",
     "shell.execute_reply.started": "2022-03-31T06:26:36.878128Z"
    },
    "papermill": {
     "duration": 183.212853,
     "end_time": "2022-03-31T07:04:06.396319",
     "exception": false,
     "start_time": "2022-03-31T07:01:03.183466",
     "status": "completed"
    },
    "tags": []
   },
   "outputs": [],
   "source": [
    "df.to_csv('./dtm.csv',index=False)"
   ]
  },
  {
   "cell_type": "code",
   "execution_count": 18,
   "id": "04a2e1c7",
   "metadata": {
    "execution": {
     "iopub.execute_input": "2022-03-31T07:04:06.492743Z",
     "iopub.status.busy": "2022-03-31T07:04:06.491992Z",
     "iopub.status.idle": "2022-03-31T07:04:07.468348Z",
     "shell.execute_reply": "2022-03-31T07:04:07.468958Z",
     "shell.execute_reply.started": "2022-03-31T06:29:38.756834Z"
    },
    "papermill": {
     "duration": 1.031873,
     "end_time": "2022-03-31T07:04:07.469147",
     "exception": false,
     "start_time": "2022-03-31T07:04:06.437274",
     "status": "completed"
    },
    "tags": []
   },
   "outputs": [],
   "source": [
    "vec = CountVectorizer(min_df =0.05)\n",
    "X = vec.fit_transform(corpus)"
   ]
  },
  {
   "cell_type": "code",
   "execution_count": 19,
   "id": "e0bff20a",
   "metadata": {
    "execution": {
     "iopub.execute_input": "2022-03-31T07:04:07.555728Z",
     "iopub.status.busy": "2022-03-31T07:04:07.554756Z",
     "iopub.status.idle": "2022-03-31T07:04:07.586048Z",
     "shell.execute_reply": "2022-03-31T07:04:07.586559Z",
     "shell.execute_reply.started": "2022-03-31T06:29:39.714830Z"
    },
    "papermill": {
     "duration": 0.075152,
     "end_time": "2022-03-31T07:04:07.586742",
     "exception": false,
     "start_time": "2022-03-31T07:04:07.511590",
     "status": "completed"
    },
    "tags": []
   },
   "outputs": [
    {
     "name": "stderr",
     "output_type": "stream",
     "text": [
      "/opt/conda/lib/python3.7/site-packages/sklearn/utils/deprecation.py:87: FutureWarning: Function get_feature_names is deprecated; get_feature_names is deprecated in 1.0 and will be removed in 1.2. Please use get_feature_names_out instead.\n",
      "  warnings.warn(msg, category=FutureWarning)\n"
     ]
    },
    {
     "data": {
      "text/html": [
       "<div>\n",
       "<style scoped>\n",
       "    .dataframe tbody tr th:only-of-type {\n",
       "        vertical-align: middle;\n",
       "    }\n",
       "\n",
       "    .dataframe tbody tr th {\n",
       "        vertical-align: top;\n",
       "    }\n",
       "\n",
       "    .dataframe thead th {\n",
       "        text-align: right;\n",
       "    }\n",
       "</style>\n",
       "<table border=\"1\" class=\"dataframe\">\n",
       "  <thead>\n",
       "    <tr style=\"text-align: right;\">\n",
       "      <th></th>\n",
       "      <th>00</th>\n",
       "      <th>000</th>\n",
       "      <th>01</th>\n",
       "      <th>02</th>\n",
       "      <th>03</th>\n",
       "      <th>04</th>\n",
       "      <th>05</th>\n",
       "      <th>06</th>\n",
       "      <th>07</th>\n",
       "      <th>08</th>\n",
       "      <th>...</th>\n",
       "      <th>week</th>\n",
       "      <th>well</th>\n",
       "      <th>wish</th>\n",
       "      <th>within</th>\n",
       "      <th>without</th>\n",
       "      <th>work</th>\n",
       "      <th>would</th>\n",
       "      <th>write</th>\n",
       "      <th>www</th>\n",
       "      <th>year</th>\n",
       "    </tr>\n",
       "  </thead>\n",
       "  <tbody>\n",
       "    <tr>\n",
       "      <th>0</th>\n",
       "      <td>0</td>\n",
       "      <td>0</td>\n",
       "      <td>0</td>\n",
       "      <td>0</td>\n",
       "      <td>0</td>\n",
       "      <td>0</td>\n",
       "      <td>0</td>\n",
       "      <td>0</td>\n",
       "      <td>0</td>\n",
       "      <td>0</td>\n",
       "      <td>...</td>\n",
       "      <td>0</td>\n",
       "      <td>0</td>\n",
       "      <td>0</td>\n",
       "      <td>1</td>\n",
       "      <td>1</td>\n",
       "      <td>0</td>\n",
       "      <td>0</td>\n",
       "      <td>0</td>\n",
       "      <td>0</td>\n",
       "      <td>0</td>\n",
       "    </tr>\n",
       "    <tr>\n",
       "      <th>1</th>\n",
       "      <td>0</td>\n",
       "      <td>0</td>\n",
       "      <td>0</td>\n",
       "      <td>0</td>\n",
       "      <td>0</td>\n",
       "      <td>0</td>\n",
       "      <td>0</td>\n",
       "      <td>0</td>\n",
       "      <td>0</td>\n",
       "      <td>0</td>\n",
       "      <td>...</td>\n",
       "      <td>0</td>\n",
       "      <td>0</td>\n",
       "      <td>0</td>\n",
       "      <td>0</td>\n",
       "      <td>0</td>\n",
       "      <td>0</td>\n",
       "      <td>0</td>\n",
       "      <td>0</td>\n",
       "      <td>0</td>\n",
       "      <td>0</td>\n",
       "    </tr>\n",
       "    <tr>\n",
       "      <th>2</th>\n",
       "      <td>0</td>\n",
       "      <td>0</td>\n",
       "      <td>0</td>\n",
       "      <td>0</td>\n",
       "      <td>0</td>\n",
       "      <td>0</td>\n",
       "      <td>0</td>\n",
       "      <td>0</td>\n",
       "      <td>0</td>\n",
       "      <td>0</td>\n",
       "      <td>...</td>\n",
       "      <td>0</td>\n",
       "      <td>0</td>\n",
       "      <td>0</td>\n",
       "      <td>0</td>\n",
       "      <td>0</td>\n",
       "      <td>0</td>\n",
       "      <td>0</td>\n",
       "      <td>0</td>\n",
       "      <td>0</td>\n",
       "      <td>0</td>\n",
       "    </tr>\n",
       "    <tr>\n",
       "      <th>3</th>\n",
       "      <td>0</td>\n",
       "      <td>0</td>\n",
       "      <td>0</td>\n",
       "      <td>0</td>\n",
       "      <td>0</td>\n",
       "      <td>0</td>\n",
       "      <td>0</td>\n",
       "      <td>0</td>\n",
       "      <td>0</td>\n",
       "      <td>0</td>\n",
       "      <td>...</td>\n",
       "      <td>0</td>\n",
       "      <td>0</td>\n",
       "      <td>0</td>\n",
       "      <td>0</td>\n",
       "      <td>0</td>\n",
       "      <td>0</td>\n",
       "      <td>0</td>\n",
       "      <td>0</td>\n",
       "      <td>0</td>\n",
       "      <td>0</td>\n",
       "    </tr>\n",
       "    <tr>\n",
       "      <th>4</th>\n",
       "      <td>0</td>\n",
       "      <td>0</td>\n",
       "      <td>0</td>\n",
       "      <td>0</td>\n",
       "      <td>0</td>\n",
       "      <td>0</td>\n",
       "      <td>0</td>\n",
       "      <td>0</td>\n",
       "      <td>0</td>\n",
       "      <td>0</td>\n",
       "      <td>...</td>\n",
       "      <td>0</td>\n",
       "      <td>0</td>\n",
       "      <td>0</td>\n",
       "      <td>0</td>\n",
       "      <td>0</td>\n",
       "      <td>0</td>\n",
       "      <td>0</td>\n",
       "      <td>0</td>\n",
       "      <td>0</td>\n",
       "      <td>0</td>\n",
       "    </tr>\n",
       "  </tbody>\n",
       "</table>\n",
       "<p>5 rows × 366 columns</p>\n",
       "</div>"
      ],
      "text/plain": [
       "   00  000  01  02  03  04  05  06  07  08  ...  week  well  wish  within  \\\n",
       "0   0    0   0   0   0   0   0   0   0   0  ...     0     0     0       1   \n",
       "1   0    0   0   0   0   0   0   0   0   0  ...     0     0     0       0   \n",
       "2   0    0   0   0   0   0   0   0   0   0  ...     0     0     0       0   \n",
       "3   0    0   0   0   0   0   0   0   0   0  ...     0     0     0       0   \n",
       "4   0    0   0   0   0   0   0   0   0   0  ...     0     0     0       0   \n",
       "\n",
       "   without  work  would  write  www  year  \n",
       "0        1     0      0      0    0     0  \n",
       "1        0     0      0      0    0     0  \n",
       "2        0     0      0      0    0     0  \n",
       "3        0     0      0      0    0     0  \n",
       "4        0     0      0      0    0     0  \n",
       "\n",
       "[5 rows x 366 columns]"
      ]
     },
     "execution_count": 19,
     "metadata": {},
     "output_type": "execute_result"
    }
   ],
   "source": [
    "df = pd.DataFrame(X.toarray(), columns=vec.get_feature_names())\n",
    "df.head()"
   ]
  },
  {
   "cell_type": "code",
   "execution_count": 20,
   "id": "27ff6340",
   "metadata": {
    "execution": {
     "iopub.execute_input": "2022-03-31T07:04:07.676109Z",
     "iopub.status.busy": "2022-03-31T07:04:07.675375Z",
     "iopub.status.idle": "2022-03-31T07:04:07.702005Z",
     "shell.execute_reply": "2022-03-31T07:04:07.702554Z",
     "shell.execute_reply.started": "2022-03-31T06:29:39.751154Z"
    },
    "papermill": {
     "duration": 0.074374,
     "end_time": "2022-03-31T07:04:07.702733",
     "exception": false,
     "start_time": "2022-03-31T07:04:07.628359",
     "status": "completed"
    },
    "tags": []
   },
   "outputs": [
    {
     "name": "stdout",
     "output_type": "stream",
     "text": [
      "(5728, 366)\n"
     ]
    }
   ],
   "source": [
    "from sklearn.feature_extraction.text import TfidfTransformer\n",
    "tfidf_transformer = TfidfTransformer().fit(X)\n",
    "X_tfidf = tfidf_transformer.transform(X)\n",
    "print(X_tfidf.shape)"
   ]
  },
  {
   "cell_type": "code",
   "execution_count": 21,
   "id": "fefd48d7",
   "metadata": {
    "execution": {
     "iopub.execute_input": "2022-03-31T07:04:07.791418Z",
     "iopub.status.busy": "2022-03-31T07:04:07.790708Z",
     "iopub.status.idle": "2022-03-31T07:04:07.797504Z",
     "shell.execute_reply": "2022-03-31T07:04:07.798213Z",
     "shell.execute_reply.started": "2022-03-31T06:40:40.681768Z"
    },
    "papermill": {
     "duration": 0.054059,
     "end_time": "2022-03-31T07:04:07.798468",
     "exception": false,
     "start_time": "2022-03-31T07:04:07.744409",
     "status": "completed"
    },
    "tags": []
   },
   "outputs": [
    {
     "name": "stdout",
     "output_type": "stream",
     "text": [
      "  (0, 360)\t0.1415455597275026\n",
      "  (0, 359)\t0.1250153838595609\n",
      "  (0, 354)\t0.26946806358529657\n",
      "  (0, 345)\t0.09006579980716196\n",
      "  (0, 321)\t0.11772824363289099\n",
      "  (0, 316)\t0.036079141087253803\n",
      "  (0, 309)\t0.1390563561831101\n",
      "  (0, 295)\t0.09320765209166625\n",
      "  (0, 283)\t0.12770623631265213\n",
      "  (0, 269)\t0.1380855583929135\n",
      "  (0, 263)\t0.21086657306659284\n",
      "  (0, 260)\t0.1167135441683233\n",
      "  (0, 241)\t0.11760737537550232\n",
      "  (0, 240)\t0.11754709275314507\n",
      "  (0, 224)\t0.2275518091290443\n",
      "  (0, 209)\t0.4034776834841858\n",
      "  (0, 206)\t0.09268983366452667\n",
      "  (0, 205)\t0.18352858795979157\n",
      "  (0, 203)\t0.12810756571315235\n",
      "  (0, 201)\t0.08759347276159778\n",
      "  (0, 197)\t0.10573592939548278\n",
      "  (0, 176)\t0.09445618986125946\n",
      "  (0, 175)\t0.08570086564377546\n",
      "  (0, 153)\t0.20791403977704218\n",
      "  (0, 144)\t0.13551839183773817\n",
      "  :\t:\n",
      "  (5727, 206)\t0.046288429009372654\n",
      "  (5727, 205)\t0.04582622321728491\n",
      "  (5727, 203)\t0.0639757104596707\n",
      "  (5727, 175)\t0.21399102137518883\n",
      "  (5727, 172)\t0.10849501848170634\n",
      "  (5727, 155)\t0.04494994646508352\n",
      "  (5727, 140)\t0.06409704144266931\n",
      "  (5727, 138)\t0.0584332085045601\n",
      "  (5727, 131)\t0.0557917682566219\n",
      "  (5727, 114)\t0.07062811408534417\n",
      "  (5727, 113)\t0.1271541502176032\n",
      "  (5727, 104)\t0.06446601507857848\n",
      "  (5727, 101)\t0.09511052466013055\n",
      "  (5727, 99)\t0.1279514209193414\n",
      "  (5727, 86)\t0.06802647412504588\n",
      "  (5727, 85)\t0.0487613500076518\n",
      "  (5727, 77)\t0.11208472292211734\n",
      "  (5727, 73)\t0.057396767874757136\n",
      "  (5727, 57)\t0.05195648032689453\n",
      "  (5727, 54)\t0.05684572850914827\n",
      "  (5727, 46)\t0.14010851441490246\n",
      "  (5727, 44)\t0.06680695714742363\n",
      "  (5727, 41)\t0.05978670069062693\n",
      "  (5727, 39)\t0.12576206084091732\n",
      "  (5727, 28)\t0.06413766735139918\n"
     ]
    }
   ],
   "source": [
    "print(X_tfidf)"
   ]
  },
  {
   "cell_type": "code",
   "execution_count": 22,
   "id": "f960083f",
   "metadata": {
    "execution": {
     "iopub.execute_input": "2022-03-31T07:04:07.892866Z",
     "iopub.status.busy": "2022-03-31T07:04:07.891710Z",
     "iopub.status.idle": "2022-03-31T07:04:07.897376Z",
     "shell.execute_reply": "2022-03-31T07:04:07.898100Z",
     "shell.execute_reply.started": "2022-03-31T06:31:43.386199Z"
    },
    "papermill": {
     "duration": 0.056319,
     "end_time": "2022-03-31T07:04:07.898294",
     "exception": false,
     "start_time": "2022-03-31T07:04:07.841975",
     "status": "completed"
    },
    "tags": []
   },
   "outputs": [],
   "source": [
    "from sklearn.model_selection import train_test_split\n",
    "X_train, X_test, y_train, y_test = train_test_split(X_tfidf, emails['spam'], test_size=0.3, random_state=123)"
   ]
  },
  {
   "cell_type": "code",
   "execution_count": 23,
   "id": "80a114c4",
   "metadata": {
    "execution": {
     "iopub.execute_input": "2022-03-31T07:04:07.989555Z",
     "iopub.status.busy": "2022-03-31T07:04:07.988811Z",
     "iopub.status.idle": "2022-03-31T07:04:08.315164Z",
     "shell.execute_reply": "2022-03-31T07:04:08.314398Z",
     "shell.execute_reply.started": "2022-03-31T06:38:35.741208Z"
    },
    "papermill": {
     "duration": 0.374359,
     "end_time": "2022-03-31T07:04:08.315318",
     "exception": false,
     "start_time": "2022-03-31T07:04:07.940959",
     "status": "completed"
    },
    "tags": []
   },
   "outputs": [
    {
     "data": {
      "text/plain": [
       "0.9552065154159395"
      ]
     },
     "execution_count": 23,
     "metadata": {},
     "output_type": "execute_result"
    }
   ],
   "source": [
    "from sklearn.tree import DecisionTreeClassifier\n",
    "spamCART = DecisionTreeClassifier(random_state=123)\n",
    "spamCART.fit(X_train,y_train)\n",
    "spamCART.score(X_test,y_test)"
   ]
  },
  {
   "cell_type": "code",
   "execution_count": 24,
   "id": "7e41e5d7",
   "metadata": {
    "execution": {
     "iopub.execute_input": "2022-03-31T07:04:08.407035Z",
     "iopub.status.busy": "2022-03-31T07:04:08.406344Z",
     "iopub.status.idle": "2022-03-31T07:04:08.430757Z",
     "shell.execute_reply": "2022-03-31T07:04:08.431275Z",
     "shell.execute_reply.started": "2022-03-31T06:56:54.107088Z"
    },
    "papermill": {
     "duration": 0.073565,
     "end_time": "2022-03-31T07:04:08.431477",
     "exception": false,
     "start_time": "2022-03-31T07:04:08.357912",
     "status": "completed"
    },
    "tags": []
   },
   "outputs": [
    {
     "name": "stdout",
     "output_type": "stream",
     "text": [
      "              precision    recall  f1-score   support\n",
      "\n",
      "           0       1.00      1.00      1.00      3041\n",
      "           1       1.00      1.00      1.00       968\n",
      "\n",
      "    accuracy                           1.00      4009\n",
      "   macro avg       1.00      1.00      1.00      4009\n",
      "weighted avg       1.00      1.00      1.00      4009\n",
      "\n"
     ]
    },
    {
     "data": {
      "text/plain": [
       "0.9992516837116487"
      ]
     },
     "execution_count": 24,
     "metadata": {},
     "output_type": "execute_result"
    }
   ],
   "source": [
    "from sklearn.metrics import classification_report\n",
    "y_predTrainCART = spamCART.predict(X_train)\n",
    "print(classification_report(y_train, y_predTrainCART))\n",
    "spamCART.score(X_train,y_train)"
   ]
  },
  {
   "cell_type": "code",
   "execution_count": 25,
   "id": "7886684d",
   "metadata": {
    "execution": {
     "iopub.execute_input": "2022-03-31T07:04:08.530184Z",
     "iopub.status.busy": "2022-03-31T07:04:08.529119Z",
     "iopub.status.idle": "2022-03-31T07:04:08.542976Z",
     "shell.execute_reply": "2022-03-31T07:04:08.541582Z",
     "shell.execute_reply.started": "2022-03-31T06:45:58.421558Z"
    },
    "papermill": {
     "duration": 0.064627,
     "end_time": "2022-03-31T07:04:08.543269",
     "exception": false,
     "start_time": "2022-03-31T07:04:08.478642",
     "status": "completed"
    },
    "tags": []
   },
   "outputs": [
    {
     "name": "stdout",
     "output_type": "stream",
     "text": [
      "              precision    recall  f1-score   support\n",
      "\n",
      "           0       0.97      0.97      0.97      1319\n",
      "           1       0.90      0.91      0.90       400\n",
      "\n",
      "    accuracy                           0.96      1719\n",
      "   macro avg       0.94      0.94      0.94      1719\n",
      "weighted avg       0.96      0.96      0.96      1719\n",
      "\n"
     ]
    }
   ],
   "source": [
    "from sklearn.metrics import classification_report\n",
    "y_predCART = spamCART.predict(X_test)\n",
    "print(classification_report(y_test, y_predCART))"
   ]
  },
  {
   "cell_type": "code",
   "execution_count": 26,
   "id": "d80dc082",
   "metadata": {
    "execution": {
     "iopub.execute_input": "2022-03-31T07:04:08.637778Z",
     "iopub.status.busy": "2022-03-31T07:04:08.636917Z",
     "iopub.status.idle": "2022-03-31T07:04:08.642745Z",
     "shell.execute_reply": "2022-03-31T07:04:08.643230Z",
     "shell.execute_reply.started": "2022-03-31T06:52:17.897851Z"
    },
    "papermill": {
     "duration": 0.055354,
     "end_time": "2022-03-31T07:04:08.643485",
     "exception": false,
     "start_time": "2022-03-31T07:04:08.588131",
     "status": "completed"
    },
    "tags": []
   },
   "outputs": [
    {
     "data": {
      "text/plain": [
       "0.9377160727824109"
      ]
     },
     "execution_count": 26,
     "metadata": {},
     "output_type": "execute_result"
    }
   ],
   "source": [
    "from sklearn import metrics\n",
    "fpr, tpr, thresholds = metrics.roc_curve(y_test, y_predCART)\n",
    "metrics.auc(fpr, tpr)"
   ]
  },
  {
   "cell_type": "code",
   "execution_count": 27,
   "id": "0536360b",
   "metadata": {
    "execution": {
     "iopub.execute_input": "2022-03-31T07:04:08.741296Z",
     "iopub.status.busy": "2022-03-31T07:04:08.740064Z",
     "iopub.status.idle": "2022-03-31T07:04:10.642190Z",
     "shell.execute_reply": "2022-03-31T07:04:10.641554Z",
     "shell.execute_reply.started": "2022-03-31T06:41:40.387562Z"
    },
    "papermill": {
     "duration": 1.953796,
     "end_time": "2022-03-31T07:04:10.642347",
     "exception": false,
     "start_time": "2022-03-31T07:04:08.688551",
     "status": "completed"
    },
    "tags": []
   },
   "outputs": [
    {
     "data": {
      "text/plain": [
       "0.9761489237929029"
      ]
     },
     "execution_count": 27,
     "metadata": {},
     "output_type": "execute_result"
    }
   ],
   "source": [
    "from sklearn.ensemble import RandomForestClassifier\n",
    "spamRF= RandomForestClassifier(random_state=123)\n",
    "spamRF.fit(X_train,y_train)\n",
    "spamRF.score(X_test,y_test)"
   ]
  },
  {
   "cell_type": "code",
   "execution_count": 28,
   "id": "b8761a3d",
   "metadata": {
    "execution": {
     "iopub.execute_input": "2022-03-31T07:04:10.736464Z",
     "iopub.status.busy": "2022-03-31T07:04:10.735420Z",
     "iopub.status.idle": "2022-03-31T07:04:10.914741Z",
     "shell.execute_reply": "2022-03-31T07:04:10.915248Z",
     "shell.execute_reply.started": "2022-03-31T06:56:17.169969Z"
    },
    "papermill": {
     "duration": 0.227836,
     "end_time": "2022-03-31T07:04:10.915443",
     "exception": false,
     "start_time": "2022-03-31T07:04:10.687607",
     "status": "completed"
    },
    "tags": []
   },
   "outputs": [
    {
     "name": "stdout",
     "output_type": "stream",
     "text": [
      "              precision    recall  f1-score   support\n",
      "\n",
      "           0       1.00      1.00      1.00      3041\n",
      "           1       1.00      1.00      1.00       968\n",
      "\n",
      "    accuracy                           1.00      4009\n",
      "   macro avg       1.00      1.00      1.00      4009\n",
      "weighted avg       1.00      1.00      1.00      4009\n",
      "\n"
     ]
    },
    {
     "data": {
      "text/plain": [
       "0.9992516837116487"
      ]
     },
     "execution_count": 28,
     "metadata": {},
     "output_type": "execute_result"
    }
   ],
   "source": [
    "from sklearn.metrics import classification_report\n",
    "y_predTrainRF = spamRF.predict(X_train)\n",
    "print(classification_report(y_train, y_predTrainRF))\n",
    "spamRF.score(X_train,y_train)"
   ]
  },
  {
   "cell_type": "code",
   "execution_count": 29,
   "id": "ea608f6f",
   "metadata": {
    "execution": {
     "iopub.execute_input": "2022-03-31T07:04:11.009908Z",
     "iopub.status.busy": "2022-03-31T07:04:11.009136Z",
     "iopub.status.idle": "2022-03-31T07:04:11.067486Z",
     "shell.execute_reply": "2022-03-31T07:04:11.066955Z",
     "shell.execute_reply.started": "2022-03-31T06:46:33.512441Z"
    },
    "papermill": {
     "duration": 0.106967,
     "end_time": "2022-03-31T07:04:11.067636",
     "exception": false,
     "start_time": "2022-03-31T07:04:10.960669",
     "status": "completed"
    },
    "tags": []
   },
   "outputs": [
    {
     "name": "stdout",
     "output_type": "stream",
     "text": [
      "              precision    recall  f1-score   support\n",
      "\n",
      "           0       0.98      0.99      0.98      1319\n",
      "           1       0.95      0.94      0.95       400\n",
      "\n",
      "    accuracy                           0.98      1719\n",
      "   macro avg       0.97      0.97      0.97      1719\n",
      "weighted avg       0.98      0.98      0.98      1719\n",
      "\n"
     ]
    }
   ],
   "source": [
    "from sklearn.metrics import classification_report\n",
    "y_predRF = spamRF.predict(X_test)\n",
    "print(classification_report(y_test, y_predRF))"
   ]
  },
  {
   "cell_type": "code",
   "execution_count": 30,
   "id": "fa540133",
   "metadata": {
    "execution": {
     "iopub.execute_input": "2022-03-31T07:04:11.165999Z",
     "iopub.status.busy": "2022-03-31T07:04:11.165288Z",
     "iopub.status.idle": "2022-03-31T07:04:11.170924Z",
     "shell.execute_reply": "2022-03-31T07:04:11.171493Z",
     "shell.execute_reply.started": "2022-03-31T06:52:32.037168Z"
    },
    "papermill": {
     "duration": 0.058222,
     "end_time": "2022-03-31T07:04:11.171670",
     "exception": false,
     "start_time": "2022-03-31T07:04:11.113448",
     "status": "completed"
    },
    "tags": []
   },
   "outputs": [
    {
     "data": {
      "text/plain": [
       "0.965297573919636"
      ]
     },
     "execution_count": 30,
     "metadata": {},
     "output_type": "execute_result"
    }
   ],
   "source": [
    "from sklearn import metrics\n",
    "fpr, tpr, thresholds = metrics.roc_curve(y_test, y_predRF)\n",
    "metrics.auc(fpr, tpr)"
   ]
  },
  {
   "cell_type": "markdown",
   "id": "3c858f70",
   "metadata": {
    "papermill": {
     "duration": 0.047261,
     "end_time": "2022-03-31T07:04:11.265785",
     "exception": false,
     "start_time": "2022-03-31T07:04:11.218524",
     "status": "completed"
    },
    "tags": []
   },
   "source": [
    "Which model had the best testing set performance, in terms of accuracy and AUC?\n",
    "\n",
    "Random Forest is the best algorithm"
   ]
  },
  {
   "cell_type": "code",
   "execution_count": null,
   "id": "922b4454",
   "metadata": {
    "papermill": {
     "duration": 0.047275,
     "end_time": "2022-03-31T07:04:11.359163",
     "exception": false,
     "start_time": "2022-03-31T07:04:11.311888",
     "status": "completed"
    },
    "tags": []
   },
   "outputs": [],
   "source": []
  }
 ],
 "metadata": {
  "kernelspec": {
   "display_name": "Python 3",
   "language": "python",
   "name": "python3"
  },
  "language_info": {
   "codemirror_mode": {
    "name": "ipython",
    "version": 3
   },
   "file_extension": ".py",
   "mimetype": "text/x-python",
   "name": "python",
   "nbconvert_exporter": "python",
   "pygments_lexer": "ipython3",
   "version": "3.7.12"
  },
  "papermill": {
   "default_parameters": {},
   "duration": 414.874262,
   "end_time": "2022-03-31T07:04:12.317815",
   "environment_variables": {},
   "exception": null,
   "input_path": "__notebook__.ipynb",
   "output_path": "__notebook__.ipynb",
   "parameters": {},
   "start_time": "2022-03-31T06:57:17.443553",
   "version": "2.3.3"
  }
 },
 "nbformat": 4,
 "nbformat_minor": 5
}
