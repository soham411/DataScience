{
 "cells": [
  {
   "cell_type": "code",
   "execution_count": 1,
   "metadata": {},
   "outputs": [
    {
     "data": {
      "text/plain": [
       "['Col_0',\n",
       " 'Col_1',\n",
       " 'Col_2',\n",
       " 'Col_3',\n",
       " 'Col_4',\n",
       " 'Col_5',\n",
       " 'Col_6',\n",
       " 'Col_7',\n",
       " 'Col_8',\n",
       " 'Col_9',\n",
       " 'Col_10',\n",
       " 'Col_11',\n",
       " 'Col_12',\n",
       " 'Col_13',\n",
       " 'Col_14',\n",
       " 'Col_15',\n",
       " 'Col_16',\n",
       " 'Col_17',\n",
       " 'Col_18',\n",
       " 'Col_19',\n",
       " 'Col_20',\n",
       " 'Col_21',\n",
       " 'Col_22',\n",
       " 'Col_23',\n",
       " 'Col_24',\n",
       " 'Col_25',\n",
       " 'Col_26',\n",
       " 'Col_27',\n",
       " 'Col_28',\n",
       " 'Col_29',\n",
       " 'Col_30',\n",
       " 'Col_31',\n",
       " 'Col_32',\n",
       " 'Col_33',\n",
       " 'Col_34',\n",
       " 'Col_35',\n",
       " 'Col_36',\n",
       " 'Col_37',\n",
       " 'Col_38',\n",
       " 'Col_39',\n",
       " 'Col_40',\n",
       " 'Col_41',\n",
       " 'Col_42',\n",
       " 'Col_43',\n",
       " 'Col_44',\n",
       " 'Col_45',\n",
       " 'Col_46',\n",
       " 'Col_47',\n",
       " 'Col_48',\n",
       " 'Col_49',\n",
       " 'Col_50',\n",
       " 'Col_51',\n",
       " 'Col_52',\n",
       " 'Col_53',\n",
       " 'Col_54',\n",
       " 'Col_55',\n",
       " 'Col_56',\n",
       " 'Col_57',\n",
       " 'Col_58',\n",
       " 'Col_59',\n",
       " 'Col_60',\n",
       " 'Col_61',\n",
       " 'Col_62',\n",
       " 'Col_63',\n",
       " 'Col_64',\n",
       " 'Col_65',\n",
       " 'Col_66',\n",
       " 'Col_67',\n",
       " 'Col_68',\n",
       " 'Col_69',\n",
       " 'Col_70',\n",
       " 'Col_71',\n",
       " 'Col_72',\n",
       " 'Col_73',\n",
       " 'Col_74',\n",
       " 'Col_75',\n",
       " 'Col_76',\n",
       " 'Col_77',\n",
       " 'Col_78',\n",
       " 'Col_79',\n",
       " 'Col_80',\n",
       " 'Col_81',\n",
       " 'Col_82',\n",
       " 'Col_83',\n",
       " 'Col_84',\n",
       " 'Col_85',\n",
       " 'Col_86',\n",
       " 'Col_87',\n",
       " 'Col_88',\n",
       " 'Col_89',\n",
       " 'Col_90',\n",
       " 'Col_91',\n",
       " 'Col_92',\n",
       " 'Col_93',\n",
       " 'Col_94',\n",
       " 'Col_95',\n",
       " 'Col_96',\n",
       " 'Col_97',\n",
       " 'Col_98',\n",
       " 'Col_99',\n",
       " 'Col_100',\n",
       " 'Col_101',\n",
       " 'Col_102',\n",
       " 'Col_103',\n",
       " 'Col_104',\n",
       " 'Col_105',\n",
       " 'Col_106',\n",
       " 'Col_107',\n",
       " 'Col_108',\n",
       " 'Col_109',\n",
       " 'Col_110',\n",
       " 'Col_111',\n",
       " 'Col_112',\n",
       " 'Col_113',\n",
       " 'Col_114',\n",
       " 'Col_115',\n",
       " 'Col_116',\n",
       " 'Col_117',\n",
       " 'Col_118',\n",
       " 'Col_119',\n",
       " 'Col_120',\n",
       " 'Col_121',\n",
       " 'Col_122',\n",
       " 'Col_123',\n",
       " 'Col_124',\n",
       " 'Col_125',\n",
       " 'Col_126',\n",
       " 'Col_127',\n",
       " 'Col_128',\n",
       " 'Col_129',\n",
       " 'Col_130',\n",
       " 'Col_131',\n",
       " 'Col_132',\n",
       " 'Col_133',\n",
       " 'Col_134',\n",
       " 'Col_135',\n",
       " 'Col_136',\n",
       " 'Col_137',\n",
       " 'Col_138',\n",
       " 'Col_139',\n",
       " 'Col_140',\n",
       " 'Col_141',\n",
       " 'Col_142',\n",
       " 'Col_143',\n",
       " 'Col_144',\n",
       " 'Col_145',\n",
       " 'Col_146',\n",
       " 'Col_147',\n",
       " 'Col_148',\n",
       " 'Col_149',\n",
       " 'Col_150',\n",
       " 'Col_151',\n",
       " 'Col_152',\n",
       " 'Col_153',\n",
       " 'Col_154',\n",
       " 'Col_155',\n",
       " 'Col_156',\n",
       " 'Col_157',\n",
       " 'Col_158',\n",
       " 'Col_159',\n",
       " 'Col_160',\n",
       " 'Col_161',\n",
       " 'Col_162',\n",
       " 'Col_163',\n",
       " 'Col_164',\n",
       " 'Col_165',\n",
       " 'Col_166',\n",
       " 'Col_167',\n",
       " 'Col_168',\n",
       " 'Col_169',\n",
       " 'Col_170',\n",
       " 'Col_171',\n",
       " 'Col_172',\n",
       " 'Col_173',\n",
       " 'Col_174',\n",
       " 'Col_175',\n",
       " 'Col_176',\n",
       " 'Col_177',\n",
       " 'Col_178',\n",
       " 'Col_179',\n",
       " 'Col_180',\n",
       " 'Col_181',\n",
       " 'Col_182',\n",
       " 'Col_183',\n",
       " 'Col_184',\n",
       " 'Col_185',\n",
       " 'Col_186',\n",
       " 'Col_187',\n",
       " 'Col_188',\n",
       " 'Col_189',\n",
       " 'Col_190',\n",
       " 'Col_191',\n",
       " 'Col_192',\n",
       " 'Col_193',\n",
       " 'Col_194',\n",
       " 'Col_195',\n",
       " 'Col_196',\n",
       " 'Col_197',\n",
       " 'Col_198',\n",
       " 'Col_199',\n",
       " 'Col_200',\n",
       " 'Col_201',\n",
       " 'Col_202',\n",
       " 'Col_203',\n",
       " 'Col_204',\n",
       " 'Col_205',\n",
       " 'Col_206',\n",
       " 'Col_207',\n",
       " 'Col_208',\n",
       " 'Col_209',\n",
       " 'Col_210',\n",
       " 'Col_211',\n",
       " 'Col_212',\n",
       " 'Col_213',\n",
       " 'Col_214',\n",
       " 'Col_215',\n",
       " 'Col_216',\n",
       " 'Col_217',\n",
       " 'Col_218',\n",
       " 'Col_219',\n",
       " 'Col_220',\n",
       " 'Col_221',\n",
       " 'Col_222',\n",
       " 'Col_223',\n",
       " 'Col_224',\n",
       " 'Col_225',\n",
       " 'Col_226',\n",
       " 'Col_227',\n",
       " 'Col_228',\n",
       " 'Col_229',\n",
       " 'Col_230',\n",
       " 'Col_231',\n",
       " 'Col_232',\n",
       " 'Col_233',\n",
       " 'Col_234',\n",
       " 'Col_235',\n",
       " 'Col_236',\n",
       " 'Col_237',\n",
       " 'Col_238',\n",
       " 'Col_239',\n",
       " 'Col_240',\n",
       " 'Col_241',\n",
       " 'Col_242',\n",
       " 'Col_243',\n",
       " 'Col_244',\n",
       " 'Col_245',\n",
       " 'Col_246',\n",
       " 'Col_247',\n",
       " 'Col_248',\n",
       " 'Col_249',\n",
       " 'Col_250',\n",
       " 'Col_251',\n",
       " 'Col_252',\n",
       " 'Col_253',\n",
       " 'Col_254',\n",
       " 'Col_255',\n",
       " 'Col_256',\n",
       " 'Col_257',\n",
       " 'Col_258',\n",
       " 'Col_259',\n",
       " 'Col_260',\n",
       " 'Col_261',\n",
       " 'Col_262',\n",
       " 'Col_263',\n",
       " 'Col_264',\n",
       " 'Col_265',\n",
       " 'Col_266',\n",
       " 'Col_267',\n",
       " 'Col_268',\n",
       " 'Col_269',\n",
       " 'Col_270',\n",
       " 'Col_271',\n",
       " 'Col_272',\n",
       " 'Col_273',\n",
       " 'Col_274',\n",
       " 'Col_275',\n",
       " 'Col_276',\n",
       " 'Col_277',\n",
       " 'Col_278',\n",
       " 'Col_279']"
      ]
     },
     "execution_count": 1,
     "metadata": {},
     "output_type": "execute_result"
    }
   ],
   "source": [
    "import pandas as pd\n",
    "import numpy as np\n",
    "names = [ f'Col_{i}' for i in range(280)]\n",
    "data = pd.read_csv(\"Data/arrhythmia.data\",names=names)\n",
    "names"
   ]
  },
  {
   "cell_type": "code",
   "execution_count": 2,
   "metadata": {},
   "outputs": [
    {
     "data": {
      "text/plain": [
       "280"
      ]
     },
     "execution_count": 2,
     "metadata": {},
     "output_type": "execute_result"
    }
   ],
   "source": [
    "len(data.columns)"
   ]
  },
  {
   "cell_type": "code",
   "execution_count": 3,
   "metadata": {},
   "outputs": [],
   "source": [
    "data.replace({\"?\": 0}, inplace=True)"
   ]
  },
  {
   "cell_type": "code",
   "execution_count": 4,
   "metadata": {},
   "outputs": [
    {
     "name": "stderr",
     "output_type": "stream",
     "text": [
      "C:\\Users\\Soham\\Anaconda3\\lib\\site-packages\\pandas\\core\\ops\\__init__.py:1115: FutureWarning: elementwise comparison failed; returning scalar instead, but in the future will perform elementwise comparison\n",
      "  result = method(y)\n"
     ]
    }
   ],
   "source": [
    "for i in range(280):\n",
    "    \n",
    "    if len(data[data[f'Col_{i}'] == '?']) > 0:\n",
    "        print(i)\n",
    "        \n"
   ]
  },
  {
   "cell_type": "code",
   "execution_count": 47,
   "metadata": {},
   "outputs": [
    {
     "data": {
      "text/plain": [
       "Series([], dtype: int64)"
      ]
     },
     "execution_count": 47,
     "metadata": {},
     "output_type": "execute_result"
    }
   ],
   "source": [
    "data.isna().sum()[data.isna().sum() > 0]"
   ]
  },
  {
   "cell_type": "code",
   "execution_count": 48,
   "metadata": {},
   "outputs": [],
   "source": [
    "from numpy import array\n",
    "from numpy import mean,std\n",
    "from numpy import cov\n",
    "from numpy.linalg import eig\n"
   ]
  },
  {
   "cell_type": "code",
   "execution_count": 49,
   "metadata": {},
   "outputs": [],
   "source": [
    "def PCA(A):\n",
    "    # calculate the mean of each column\n",
    "    M = mean(A.T, axis=1)\n",
    "    print(M)\n",
    "    # center columns by subtracting column means\n",
    "    C = A - M\n",
    "    print(C)\n",
    "    S = std(A.T,axis=1)\n",
    "    print(S)\n",
    "    standard = C/S\n",
    "    # calculate covariance matrix of centered matrix\n",
    "    V = cov(standard.T)\n",
    "    print(V)\n",
    "    # eigendecomposition of covariance matrix\n",
    "    values, vectors = eig(V)\n",
    "    print(vectors)\n",
    "    print(values)\n",
    "    # project data\n",
    "    P = vectors.T.dot(C.T)\n",
    "    print(P.T)\n",
    "    return P.T"
   ]
  },
  {
   "cell_type": "code",
   "execution_count": 58,
   "metadata": {},
   "outputs": [],
   "source": [
    "str_cols = data.dtypes[data.dtypes == object]\n"
   ]
  },
  {
   "cell_type": "code",
   "execution_count": 61,
   "metadata": {},
   "outputs": [
    {
     "data": {
      "text/plain": [
       "['Col_10', 'Col_11', 'Col_12', 'Col_13', 'Col_14']"
      ]
     },
     "execution_count": 61,
     "metadata": {},
     "output_type": "execute_result"
    }
   ],
   "source": [
    "list(str_cols.index)"
   ]
  },
  {
   "cell_type": "code",
   "execution_count": null,
   "metadata": {},
   "outputs": [],
   "source": []
  },
  {
   "cell_type": "code",
   "execution_count": 50,
   "metadata": {},
   "outputs": [
    {
     "name": "stdout",
     "output_type": "stream",
     "text": [
      "Col_0     NaN\n",
      "Col_1     NaN\n",
      "Col_2     NaN\n",
      "Col_3     NaN\n",
      "Col_4     NaN\n",
      "           ..\n",
      "Col_275   NaN\n",
      "Col_276   NaN\n",
      "Col_277   NaN\n",
      "Col_278   NaN\n",
      "Col_279   NaN\n",
      "Length: 280, dtype: float64\n"
     ]
    },
    {
     "ename": "TypeError",
     "evalue": "unsupported operand type(s) for -: 'str' and 'float'",
     "output_type": "error",
     "traceback": [
      "\u001b[1;31m---------------------------------------------------------------------------\u001b[0m",
      "\u001b[1;31mTypeError\u001b[0m                                 Traceback (most recent call last)",
      "\u001b[1;32m~\\Anaconda3\\lib\\site-packages\\pandas\\core\\ops\\__init__.py\u001b[0m in \u001b[0;36mna_op\u001b[1;34m(x, y)\u001b[0m\n\u001b[0;32m    967\u001b[0m         \u001b[1;32mtry\u001b[0m\u001b[1;33m:\u001b[0m\u001b[1;33m\u001b[0m\u001b[1;33m\u001b[0m\u001b[0m\n\u001b[1;32m--> 968\u001b[1;33m             \u001b[0mresult\u001b[0m \u001b[1;33m=\u001b[0m \u001b[0mexpressions\u001b[0m\u001b[1;33m.\u001b[0m\u001b[0mevaluate\u001b[0m\u001b[1;33m(\u001b[0m\u001b[0mop\u001b[0m\u001b[1;33m,\u001b[0m \u001b[0mstr_rep\u001b[0m\u001b[1;33m,\u001b[0m \u001b[0mx\u001b[0m\u001b[1;33m,\u001b[0m \u001b[0my\u001b[0m\u001b[1;33m,\u001b[0m \u001b[1;33m**\u001b[0m\u001b[0meval_kwargs\u001b[0m\u001b[1;33m)\u001b[0m\u001b[1;33m\u001b[0m\u001b[1;33m\u001b[0m\u001b[0m\n\u001b[0m\u001b[0;32m    969\u001b[0m         \u001b[1;32mexcept\u001b[0m \u001b[0mTypeError\u001b[0m\u001b[1;33m:\u001b[0m\u001b[1;33m\u001b[0m\u001b[1;33m\u001b[0m\u001b[0m\n",
      "\u001b[1;32m~\\Anaconda3\\lib\\site-packages\\pandas\\core\\computation\\expressions.py\u001b[0m in \u001b[0;36mevaluate\u001b[1;34m(op, op_str, a, b, use_numexpr, **eval_kwargs)\u001b[0m\n\u001b[0;32m    220\u001b[0m     \u001b[1;32mif\u001b[0m \u001b[0muse_numexpr\u001b[0m\u001b[1;33m:\u001b[0m\u001b[1;33m\u001b[0m\u001b[1;33m\u001b[0m\u001b[0m\n\u001b[1;32m--> 221\u001b[1;33m         \u001b[1;32mreturn\u001b[0m \u001b[0m_evaluate\u001b[0m\u001b[1;33m(\u001b[0m\u001b[0mop\u001b[0m\u001b[1;33m,\u001b[0m \u001b[0mop_str\u001b[0m\u001b[1;33m,\u001b[0m \u001b[0ma\u001b[0m\u001b[1;33m,\u001b[0m \u001b[0mb\u001b[0m\u001b[1;33m,\u001b[0m \u001b[1;33m**\u001b[0m\u001b[0meval_kwargs\u001b[0m\u001b[1;33m)\u001b[0m\u001b[1;33m\u001b[0m\u001b[1;33m\u001b[0m\u001b[0m\n\u001b[0m\u001b[0;32m    222\u001b[0m     \u001b[1;32mreturn\u001b[0m \u001b[0m_evaluate_standard\u001b[0m\u001b[1;33m(\u001b[0m\u001b[0mop\u001b[0m\u001b[1;33m,\u001b[0m \u001b[0mop_str\u001b[0m\u001b[1;33m,\u001b[0m \u001b[0ma\u001b[0m\u001b[1;33m,\u001b[0m \u001b[0mb\u001b[0m\u001b[1;33m)\u001b[0m\u001b[1;33m\u001b[0m\u001b[1;33m\u001b[0m\u001b[0m\n",
      "\u001b[1;32m~\\Anaconda3\\lib\\site-packages\\pandas\\core\\computation\\expressions.py\u001b[0m in \u001b[0;36m_evaluate_numexpr\u001b[1;34m(op, op_str, a, b, truediv, reversed, **eval_kwargs)\u001b[0m\n\u001b[0;32m    126\u001b[0m     \u001b[1;32mif\u001b[0m \u001b[0mresult\u001b[0m \u001b[1;32mis\u001b[0m \u001b[1;32mNone\u001b[0m\u001b[1;33m:\u001b[0m\u001b[1;33m\u001b[0m\u001b[1;33m\u001b[0m\u001b[0m\n\u001b[1;32m--> 127\u001b[1;33m         \u001b[0mresult\u001b[0m \u001b[1;33m=\u001b[0m \u001b[0m_evaluate_standard\u001b[0m\u001b[1;33m(\u001b[0m\u001b[0mop\u001b[0m\u001b[1;33m,\u001b[0m \u001b[0mop_str\u001b[0m\u001b[1;33m,\u001b[0m \u001b[0ma\u001b[0m\u001b[1;33m,\u001b[0m \u001b[0mb\u001b[0m\u001b[1;33m)\u001b[0m\u001b[1;33m\u001b[0m\u001b[1;33m\u001b[0m\u001b[0m\n\u001b[0m\u001b[0;32m    128\u001b[0m \u001b[1;33m\u001b[0m\u001b[0m\n",
      "\u001b[1;32m~\\Anaconda3\\lib\\site-packages\\pandas\\core\\computation\\expressions.py\u001b[0m in \u001b[0;36m_evaluate_standard\u001b[1;34m(op, op_str, a, b, **eval_kwargs)\u001b[0m\n\u001b[0;32m     69\u001b[0m     \u001b[1;32mwith\u001b[0m \u001b[0mnp\u001b[0m\u001b[1;33m.\u001b[0m\u001b[0merrstate\u001b[0m\u001b[1;33m(\u001b[0m\u001b[0mall\u001b[0m\u001b[1;33m=\u001b[0m\u001b[1;34m\"ignore\"\u001b[0m\u001b[1;33m)\u001b[0m\u001b[1;33m:\u001b[0m\u001b[1;33m\u001b[0m\u001b[1;33m\u001b[0m\u001b[0m\n\u001b[1;32m---> 70\u001b[1;33m         \u001b[1;32mreturn\u001b[0m \u001b[0mop\u001b[0m\u001b[1;33m(\u001b[0m\u001b[0ma\u001b[0m\u001b[1;33m,\u001b[0m \u001b[0mb\u001b[0m\u001b[1;33m)\u001b[0m\u001b[1;33m\u001b[0m\u001b[1;33m\u001b[0m\u001b[0m\n\u001b[0m\u001b[0;32m     71\u001b[0m \u001b[1;33m\u001b[0m\u001b[0m\n",
      "\u001b[1;31mTypeError\u001b[0m: unsupported operand type(s) for -: 'str' and 'float'",
      "\nDuring handling of the above exception, another exception occurred:\n",
      "\u001b[1;31mTypeError\u001b[0m                                 Traceback (most recent call last)",
      "\u001b[1;32m<ipython-input-50-277ce9c42093>\u001b[0m in \u001b[0;36m<module>\u001b[1;34m\u001b[0m\n\u001b[1;32m----> 1\u001b[1;33m \u001b[0mpca\u001b[0m \u001b[1;33m=\u001b[0m \u001b[0mPCA\u001b[0m\u001b[1;33m(\u001b[0m\u001b[0mdata\u001b[0m\u001b[1;33m)\u001b[0m\u001b[1;33m\u001b[0m\u001b[1;33m\u001b[0m\u001b[0m\n\u001b[0m",
      "\u001b[1;32m<ipython-input-49-eb9cd708b756>\u001b[0m in \u001b[0;36mPCA\u001b[1;34m(A)\u001b[0m\n\u001b[0;32m      4\u001b[0m     \u001b[0mprint\u001b[0m\u001b[1;33m(\u001b[0m\u001b[0mM\u001b[0m\u001b[1;33m)\u001b[0m\u001b[1;33m\u001b[0m\u001b[1;33m\u001b[0m\u001b[0m\n\u001b[0;32m      5\u001b[0m     \u001b[1;31m# center columns by subtracting column means\u001b[0m\u001b[1;33m\u001b[0m\u001b[1;33m\u001b[0m\u001b[1;33m\u001b[0m\u001b[0m\n\u001b[1;32m----> 6\u001b[1;33m     \u001b[0mC\u001b[0m \u001b[1;33m=\u001b[0m \u001b[0mA\u001b[0m \u001b[1;33m-\u001b[0m \u001b[0mM\u001b[0m\u001b[1;33m\u001b[0m\u001b[1;33m\u001b[0m\u001b[0m\n\u001b[0m\u001b[0;32m      7\u001b[0m     \u001b[0mprint\u001b[0m\u001b[1;33m(\u001b[0m\u001b[0mC\u001b[0m\u001b[1;33m)\u001b[0m\u001b[1;33m\u001b[0m\u001b[1;33m\u001b[0m\u001b[0m\n\u001b[0;32m      8\u001b[0m     \u001b[0mS\u001b[0m \u001b[1;33m=\u001b[0m \u001b[0mstd\u001b[0m\u001b[1;33m(\u001b[0m\u001b[0mA\u001b[0m\u001b[1;33m.\u001b[0m\u001b[0mT\u001b[0m\u001b[1;33m,\u001b[0m\u001b[0maxis\u001b[0m\u001b[1;33m=\u001b[0m\u001b[1;36m1\u001b[0m\u001b[1;33m)\u001b[0m\u001b[1;33m\u001b[0m\u001b[1;33m\u001b[0m\u001b[0m\n",
      "\u001b[1;32m~\\Anaconda3\\lib\\site-packages\\pandas\\core\\ops\\__init__.py\u001b[0m in \u001b[0;36mf\u001b[1;34m(self, other, axis, level, fill_value)\u001b[0m\n\u001b[0;32m   1497\u001b[0m             \u001b[0mpass_op\u001b[0m \u001b[1;33m=\u001b[0m \u001b[0mop\u001b[0m \u001b[1;32mif\u001b[0m \u001b[0maxis\u001b[0m \u001b[1;32min\u001b[0m \u001b[1;33m[\u001b[0m\u001b[1;36m0\u001b[0m\u001b[1;33m,\u001b[0m \u001b[1;34m\"columns\"\u001b[0m\u001b[1;33m,\u001b[0m \u001b[1;32mNone\u001b[0m\u001b[1;33m]\u001b[0m \u001b[1;32melse\u001b[0m \u001b[0mna_op\u001b[0m\u001b[1;33m\u001b[0m\u001b[1;33m\u001b[0m\u001b[0m\n\u001b[0;32m   1498\u001b[0m             return _combine_series_frame(\n\u001b[1;32m-> 1499\u001b[1;33m                 \u001b[0mself\u001b[0m\u001b[1;33m,\u001b[0m \u001b[0mother\u001b[0m\u001b[1;33m,\u001b[0m \u001b[0mpass_op\u001b[0m\u001b[1;33m,\u001b[0m \u001b[0mfill_value\u001b[0m\u001b[1;33m=\u001b[0m\u001b[0mfill_value\u001b[0m\u001b[1;33m,\u001b[0m \u001b[0maxis\u001b[0m\u001b[1;33m=\u001b[0m\u001b[0maxis\u001b[0m\u001b[1;33m,\u001b[0m \u001b[0mlevel\u001b[0m\u001b[1;33m=\u001b[0m\u001b[0mlevel\u001b[0m\u001b[1;33m\u001b[0m\u001b[1;33m\u001b[0m\u001b[0m\n\u001b[0m\u001b[0;32m   1500\u001b[0m             )\n\u001b[0;32m   1501\u001b[0m         \u001b[1;32melse\u001b[0m\u001b[1;33m:\u001b[0m\u001b[1;33m\u001b[0m\u001b[1;33m\u001b[0m\u001b[0m\n",
      "\u001b[1;32m~\\Anaconda3\\lib\\site-packages\\pandas\\core\\ops\\__init__.py\u001b[0m in \u001b[0;36m_combine_series_frame\u001b[1;34m(self, other, func, fill_value, axis, level)\u001b[0m\n\u001b[0;32m   1398\u001b[0m \u001b[1;33m\u001b[0m\u001b[0m\n\u001b[0;32m   1399\u001b[0m         \u001b[1;31m# default axis is columns\u001b[0m\u001b[1;33m\u001b[0m\u001b[1;33m\u001b[0m\u001b[1;33m\u001b[0m\u001b[0m\n\u001b[1;32m-> 1400\u001b[1;33m         \u001b[1;32mreturn\u001b[0m \u001b[0mself\u001b[0m\u001b[1;33m.\u001b[0m\u001b[0m_combine_match_columns\u001b[0m\u001b[1;33m(\u001b[0m\u001b[0mother\u001b[0m\u001b[1;33m,\u001b[0m \u001b[0mfunc\u001b[0m\u001b[1;33m,\u001b[0m \u001b[0mlevel\u001b[0m\u001b[1;33m=\u001b[0m\u001b[0mlevel\u001b[0m\u001b[1;33m)\u001b[0m\u001b[1;33m\u001b[0m\u001b[1;33m\u001b[0m\u001b[0m\n\u001b[0m\u001b[0;32m   1401\u001b[0m \u001b[1;33m\u001b[0m\u001b[0m\n\u001b[0;32m   1402\u001b[0m \u001b[1;33m\u001b[0m\u001b[0m\n",
      "\u001b[1;32m~\\Anaconda3\\lib\\site-packages\\pandas\\core\\frame.py\u001b[0m in \u001b[0;36m_combine_match_columns\u001b[1;34m(self, other, func, level)\u001b[0m\n\u001b[0;32m   5397\u001b[0m         \u001b[0mleft\u001b[0m\u001b[1;33m,\u001b[0m \u001b[0mright\u001b[0m \u001b[1;33m=\u001b[0m \u001b[0mself\u001b[0m\u001b[1;33m.\u001b[0m\u001b[0malign\u001b[0m\u001b[1;33m(\u001b[0m\u001b[0mother\u001b[0m\u001b[1;33m,\u001b[0m \u001b[0mjoin\u001b[0m\u001b[1;33m=\u001b[0m\u001b[1;34m\"outer\"\u001b[0m\u001b[1;33m,\u001b[0m \u001b[0maxis\u001b[0m\u001b[1;33m=\u001b[0m\u001b[1;36m1\u001b[0m\u001b[1;33m,\u001b[0m \u001b[0mlevel\u001b[0m\u001b[1;33m=\u001b[0m\u001b[0mlevel\u001b[0m\u001b[1;33m,\u001b[0m \u001b[0mcopy\u001b[0m\u001b[1;33m=\u001b[0m\u001b[1;32mFalse\u001b[0m\u001b[1;33m)\u001b[0m\u001b[1;33m\u001b[0m\u001b[1;33m\u001b[0m\u001b[0m\n\u001b[0;32m   5398\u001b[0m         \u001b[1;32massert\u001b[0m \u001b[0mleft\u001b[0m\u001b[1;33m.\u001b[0m\u001b[0mcolumns\u001b[0m\u001b[1;33m.\u001b[0m\u001b[0mequals\u001b[0m\u001b[1;33m(\u001b[0m\u001b[0mright\u001b[0m\u001b[1;33m.\u001b[0m\u001b[0mindex\u001b[0m\u001b[1;33m)\u001b[0m\u001b[1;33m\u001b[0m\u001b[1;33m\u001b[0m\u001b[0m\n\u001b[1;32m-> 5399\u001b[1;33m         \u001b[1;32mreturn\u001b[0m \u001b[0mops\u001b[0m\u001b[1;33m.\u001b[0m\u001b[0mdispatch_to_series\u001b[0m\u001b[1;33m(\u001b[0m\u001b[0mleft\u001b[0m\u001b[1;33m,\u001b[0m \u001b[0mright\u001b[0m\u001b[1;33m,\u001b[0m \u001b[0mfunc\u001b[0m\u001b[1;33m,\u001b[0m \u001b[0maxis\u001b[0m\u001b[1;33m=\u001b[0m\u001b[1;34m\"columns\"\u001b[0m\u001b[1;33m)\u001b[0m\u001b[1;33m\u001b[0m\u001b[1;33m\u001b[0m\u001b[0m\n\u001b[0m\u001b[0;32m   5400\u001b[0m \u001b[1;33m\u001b[0m\u001b[0m\n\u001b[0;32m   5401\u001b[0m     \u001b[1;32mdef\u001b[0m \u001b[0m_combine_const\u001b[0m\u001b[1;33m(\u001b[0m\u001b[0mself\u001b[0m\u001b[1;33m,\u001b[0m \u001b[0mother\u001b[0m\u001b[1;33m,\u001b[0m \u001b[0mfunc\u001b[0m\u001b[1;33m)\u001b[0m\u001b[1;33m:\u001b[0m\u001b[1;33m\u001b[0m\u001b[1;33m\u001b[0m\u001b[0m\n",
      "\u001b[1;32m~\\Anaconda3\\lib\\site-packages\\pandas\\core\\ops\\__init__.py\u001b[0m in \u001b[0;36mdispatch_to_series\u001b[1;34m(left, right, func, str_rep, axis)\u001b[0m\n\u001b[0;32m    594\u001b[0m         \u001b[1;32mraise\u001b[0m \u001b[0mNotImplementedError\u001b[0m\u001b[1;33m(\u001b[0m\u001b[0mright\u001b[0m\u001b[1;33m)\u001b[0m\u001b[1;33m\u001b[0m\u001b[1;33m\u001b[0m\u001b[0m\n\u001b[0;32m    595\u001b[0m \u001b[1;33m\u001b[0m\u001b[0m\n\u001b[1;32m--> 596\u001b[1;33m     \u001b[0mnew_data\u001b[0m \u001b[1;33m=\u001b[0m \u001b[0mexpressions\u001b[0m\u001b[1;33m.\u001b[0m\u001b[0mevaluate\u001b[0m\u001b[1;33m(\u001b[0m\u001b[0mcolumn_op\u001b[0m\u001b[1;33m,\u001b[0m \u001b[0mstr_rep\u001b[0m\u001b[1;33m,\u001b[0m \u001b[0mleft\u001b[0m\u001b[1;33m,\u001b[0m \u001b[0mright\u001b[0m\u001b[1;33m)\u001b[0m\u001b[1;33m\u001b[0m\u001b[1;33m\u001b[0m\u001b[0m\n\u001b[0m\u001b[0;32m    597\u001b[0m \u001b[1;33m\u001b[0m\u001b[0m\n\u001b[0;32m    598\u001b[0m     \u001b[0mresult\u001b[0m \u001b[1;33m=\u001b[0m \u001b[0mleft\u001b[0m\u001b[1;33m.\u001b[0m\u001b[0m_constructor\u001b[0m\u001b[1;33m(\u001b[0m\u001b[0mnew_data\u001b[0m\u001b[1;33m,\u001b[0m \u001b[0mindex\u001b[0m\u001b[1;33m=\u001b[0m\u001b[0mleft\u001b[0m\u001b[1;33m.\u001b[0m\u001b[0mindex\u001b[0m\u001b[1;33m,\u001b[0m \u001b[0mcopy\u001b[0m\u001b[1;33m=\u001b[0m\u001b[1;32mFalse\u001b[0m\u001b[1;33m)\u001b[0m\u001b[1;33m\u001b[0m\u001b[1;33m\u001b[0m\u001b[0m\n",
      "\u001b[1;32m~\\Anaconda3\\lib\\site-packages\\pandas\\core\\computation\\expressions.py\u001b[0m in \u001b[0;36mevaluate\u001b[1;34m(op, op_str, a, b, use_numexpr, **eval_kwargs)\u001b[0m\n\u001b[0;32m    219\u001b[0m     \u001b[0muse_numexpr\u001b[0m \u001b[1;33m=\u001b[0m \u001b[0muse_numexpr\u001b[0m \u001b[1;32mand\u001b[0m \u001b[0m_bool_arith_check\u001b[0m\u001b[1;33m(\u001b[0m\u001b[0mop_str\u001b[0m\u001b[1;33m,\u001b[0m \u001b[0ma\u001b[0m\u001b[1;33m,\u001b[0m \u001b[0mb\u001b[0m\u001b[1;33m)\u001b[0m\u001b[1;33m\u001b[0m\u001b[1;33m\u001b[0m\u001b[0m\n\u001b[0;32m    220\u001b[0m     \u001b[1;32mif\u001b[0m \u001b[0muse_numexpr\u001b[0m\u001b[1;33m:\u001b[0m\u001b[1;33m\u001b[0m\u001b[1;33m\u001b[0m\u001b[0m\n\u001b[1;32m--> 221\u001b[1;33m         \u001b[1;32mreturn\u001b[0m \u001b[0m_evaluate\u001b[0m\u001b[1;33m(\u001b[0m\u001b[0mop\u001b[0m\u001b[1;33m,\u001b[0m \u001b[0mop_str\u001b[0m\u001b[1;33m,\u001b[0m \u001b[0ma\u001b[0m\u001b[1;33m,\u001b[0m \u001b[0mb\u001b[0m\u001b[1;33m,\u001b[0m \u001b[1;33m**\u001b[0m\u001b[0meval_kwargs\u001b[0m\u001b[1;33m)\u001b[0m\u001b[1;33m\u001b[0m\u001b[1;33m\u001b[0m\u001b[0m\n\u001b[0m\u001b[0;32m    222\u001b[0m     \u001b[1;32mreturn\u001b[0m \u001b[0m_evaluate_standard\u001b[0m\u001b[1;33m(\u001b[0m\u001b[0mop\u001b[0m\u001b[1;33m,\u001b[0m \u001b[0mop_str\u001b[0m\u001b[1;33m,\u001b[0m \u001b[0ma\u001b[0m\u001b[1;33m,\u001b[0m \u001b[0mb\u001b[0m\u001b[1;33m)\u001b[0m\u001b[1;33m\u001b[0m\u001b[1;33m\u001b[0m\u001b[0m\n\u001b[0;32m    223\u001b[0m \u001b[1;33m\u001b[0m\u001b[0m\n",
      "\u001b[1;32m~\\Anaconda3\\lib\\site-packages\\pandas\\core\\computation\\expressions.py\u001b[0m in \u001b[0;36m_evaluate_numexpr\u001b[1;34m(op, op_str, a, b, truediv, reversed, **eval_kwargs)\u001b[0m\n\u001b[0;32m    125\u001b[0m \u001b[1;33m\u001b[0m\u001b[0m\n\u001b[0;32m    126\u001b[0m     \u001b[1;32mif\u001b[0m \u001b[0mresult\u001b[0m \u001b[1;32mis\u001b[0m \u001b[1;32mNone\u001b[0m\u001b[1;33m:\u001b[0m\u001b[1;33m\u001b[0m\u001b[1;33m\u001b[0m\u001b[0m\n\u001b[1;32m--> 127\u001b[1;33m         \u001b[0mresult\u001b[0m \u001b[1;33m=\u001b[0m \u001b[0m_evaluate_standard\u001b[0m\u001b[1;33m(\u001b[0m\u001b[0mop\u001b[0m\u001b[1;33m,\u001b[0m \u001b[0mop_str\u001b[0m\u001b[1;33m,\u001b[0m \u001b[0ma\u001b[0m\u001b[1;33m,\u001b[0m \u001b[0mb\u001b[0m\u001b[1;33m)\u001b[0m\u001b[1;33m\u001b[0m\u001b[1;33m\u001b[0m\u001b[0m\n\u001b[0m\u001b[0;32m    128\u001b[0m \u001b[1;33m\u001b[0m\u001b[0m\n\u001b[0;32m    129\u001b[0m     \u001b[1;32mreturn\u001b[0m \u001b[0mresult\u001b[0m\u001b[1;33m\u001b[0m\u001b[1;33m\u001b[0m\u001b[0m\n",
      "\u001b[1;32m~\\Anaconda3\\lib\\site-packages\\pandas\\core\\computation\\expressions.py\u001b[0m in \u001b[0;36m_evaluate_standard\u001b[1;34m(op, op_str, a, b, **eval_kwargs)\u001b[0m\n\u001b[0;32m     68\u001b[0m         \u001b[0m_store_test_result\u001b[0m\u001b[1;33m(\u001b[0m\u001b[1;32mFalse\u001b[0m\u001b[1;33m)\u001b[0m\u001b[1;33m\u001b[0m\u001b[1;33m\u001b[0m\u001b[0m\n\u001b[0;32m     69\u001b[0m     \u001b[1;32mwith\u001b[0m \u001b[0mnp\u001b[0m\u001b[1;33m.\u001b[0m\u001b[0merrstate\u001b[0m\u001b[1;33m(\u001b[0m\u001b[0mall\u001b[0m\u001b[1;33m=\u001b[0m\u001b[1;34m\"ignore\"\u001b[0m\u001b[1;33m)\u001b[0m\u001b[1;33m:\u001b[0m\u001b[1;33m\u001b[0m\u001b[1;33m\u001b[0m\u001b[0m\n\u001b[1;32m---> 70\u001b[1;33m         \u001b[1;32mreturn\u001b[0m \u001b[0mop\u001b[0m\u001b[1;33m(\u001b[0m\u001b[0ma\u001b[0m\u001b[1;33m,\u001b[0m \u001b[0mb\u001b[0m\u001b[1;33m)\u001b[0m\u001b[1;33m\u001b[0m\u001b[1;33m\u001b[0m\u001b[0m\n\u001b[0m\u001b[0;32m     71\u001b[0m \u001b[1;33m\u001b[0m\u001b[0m\n\u001b[0;32m     72\u001b[0m \u001b[1;33m\u001b[0m\u001b[0m\n",
      "\u001b[1;32m~\\Anaconda3\\lib\\site-packages\\pandas\\core\\ops\\__init__.py\u001b[0m in \u001b[0;36mcolumn_op\u001b[1;34m(a, b)\u001b[0m\n\u001b[0;32m    582\u001b[0m \u001b[1;33m\u001b[0m\u001b[0m\n\u001b[0;32m    583\u001b[0m         \u001b[1;32mdef\u001b[0m \u001b[0mcolumn_op\u001b[0m\u001b[1;33m(\u001b[0m\u001b[0ma\u001b[0m\u001b[1;33m,\u001b[0m \u001b[0mb\u001b[0m\u001b[1;33m)\u001b[0m\u001b[1;33m:\u001b[0m\u001b[1;33m\u001b[0m\u001b[1;33m\u001b[0m\u001b[0m\n\u001b[1;32m--> 584\u001b[1;33m             \u001b[1;32mreturn\u001b[0m \u001b[1;33m{\u001b[0m\u001b[0mi\u001b[0m\u001b[1;33m:\u001b[0m \u001b[0mfunc\u001b[0m\u001b[1;33m(\u001b[0m\u001b[0ma\u001b[0m\u001b[1;33m.\u001b[0m\u001b[0miloc\u001b[0m\u001b[1;33m[\u001b[0m\u001b[1;33m:\u001b[0m\u001b[1;33m,\u001b[0m \u001b[0mi\u001b[0m\u001b[1;33m]\u001b[0m\u001b[1;33m,\u001b[0m \u001b[0mb\u001b[0m\u001b[1;33m.\u001b[0m\u001b[0miloc\u001b[0m\u001b[1;33m[\u001b[0m\u001b[0mi\u001b[0m\u001b[1;33m]\u001b[0m\u001b[1;33m)\u001b[0m \u001b[1;32mfor\u001b[0m \u001b[0mi\u001b[0m \u001b[1;32min\u001b[0m \u001b[0mrange\u001b[0m\u001b[1;33m(\u001b[0m\u001b[0mlen\u001b[0m\u001b[1;33m(\u001b[0m\u001b[0ma\u001b[0m\u001b[1;33m.\u001b[0m\u001b[0mcolumns\u001b[0m\u001b[1;33m)\u001b[0m\u001b[1;33m)\u001b[0m\u001b[1;33m}\u001b[0m\u001b[1;33m\u001b[0m\u001b[1;33m\u001b[0m\u001b[0m\n\u001b[0m\u001b[0;32m    585\u001b[0m \u001b[1;33m\u001b[0m\u001b[0m\n\u001b[0;32m    586\u001b[0m     \u001b[1;32melif\u001b[0m \u001b[0misinstance\u001b[0m\u001b[1;33m(\u001b[0m\u001b[0mright\u001b[0m\u001b[1;33m,\u001b[0m \u001b[0mABCSeries\u001b[0m\u001b[1;33m)\u001b[0m\u001b[1;33m:\u001b[0m\u001b[1;33m\u001b[0m\u001b[1;33m\u001b[0m\u001b[0m\n",
      "\u001b[1;32m~\\Anaconda3\\lib\\site-packages\\pandas\\core\\ops\\__init__.py\u001b[0m in \u001b[0;36m<dictcomp>\u001b[1;34m(.0)\u001b[0m\n\u001b[0;32m    582\u001b[0m \u001b[1;33m\u001b[0m\u001b[0m\n\u001b[0;32m    583\u001b[0m         \u001b[1;32mdef\u001b[0m \u001b[0mcolumn_op\u001b[0m\u001b[1;33m(\u001b[0m\u001b[0ma\u001b[0m\u001b[1;33m,\u001b[0m \u001b[0mb\u001b[0m\u001b[1;33m)\u001b[0m\u001b[1;33m:\u001b[0m\u001b[1;33m\u001b[0m\u001b[1;33m\u001b[0m\u001b[0m\n\u001b[1;32m--> 584\u001b[1;33m             \u001b[1;32mreturn\u001b[0m \u001b[1;33m{\u001b[0m\u001b[0mi\u001b[0m\u001b[1;33m:\u001b[0m \u001b[0mfunc\u001b[0m\u001b[1;33m(\u001b[0m\u001b[0ma\u001b[0m\u001b[1;33m.\u001b[0m\u001b[0miloc\u001b[0m\u001b[1;33m[\u001b[0m\u001b[1;33m:\u001b[0m\u001b[1;33m,\u001b[0m \u001b[0mi\u001b[0m\u001b[1;33m]\u001b[0m\u001b[1;33m,\u001b[0m \u001b[0mb\u001b[0m\u001b[1;33m.\u001b[0m\u001b[0miloc\u001b[0m\u001b[1;33m[\u001b[0m\u001b[0mi\u001b[0m\u001b[1;33m]\u001b[0m\u001b[1;33m)\u001b[0m \u001b[1;32mfor\u001b[0m \u001b[0mi\u001b[0m \u001b[1;32min\u001b[0m \u001b[0mrange\u001b[0m\u001b[1;33m(\u001b[0m\u001b[0mlen\u001b[0m\u001b[1;33m(\u001b[0m\u001b[0ma\u001b[0m\u001b[1;33m.\u001b[0m\u001b[0mcolumns\u001b[0m\u001b[1;33m)\u001b[0m\u001b[1;33m)\u001b[0m\u001b[1;33m}\u001b[0m\u001b[1;33m\u001b[0m\u001b[1;33m\u001b[0m\u001b[0m\n\u001b[0m\u001b[0;32m    585\u001b[0m \u001b[1;33m\u001b[0m\u001b[0m\n\u001b[0;32m    586\u001b[0m     \u001b[1;32melif\u001b[0m \u001b[0misinstance\u001b[0m\u001b[1;33m(\u001b[0m\u001b[0mright\u001b[0m\u001b[1;33m,\u001b[0m \u001b[0mABCSeries\u001b[0m\u001b[1;33m)\u001b[0m\u001b[1;33m:\u001b[0m\u001b[1;33m\u001b[0m\u001b[1;33m\u001b[0m\u001b[0m\n",
      "\u001b[1;32m~\\Anaconda3\\lib\\site-packages\\pandas\\core\\ops\\__init__.py\u001b[0m in \u001b[0;36mwrapper\u001b[1;34m(left, right)\u001b[0m\n\u001b[0;32m   1046\u001b[0m \u001b[1;33m\u001b[0m\u001b[0m\n\u001b[0;32m   1047\u001b[0m         \u001b[1;32mwith\u001b[0m \u001b[0mnp\u001b[0m\u001b[1;33m.\u001b[0m\u001b[0merrstate\u001b[0m\u001b[1;33m(\u001b[0m\u001b[0mall\u001b[0m\u001b[1;33m=\u001b[0m\u001b[1;34m\"ignore\"\u001b[0m\u001b[1;33m)\u001b[0m\u001b[1;33m:\u001b[0m\u001b[1;33m\u001b[0m\u001b[1;33m\u001b[0m\u001b[0m\n\u001b[1;32m-> 1048\u001b[1;33m             \u001b[0mresult\u001b[0m \u001b[1;33m=\u001b[0m \u001b[0mna_op\u001b[0m\u001b[1;33m(\u001b[0m\u001b[0mlvalues\u001b[0m\u001b[1;33m,\u001b[0m \u001b[0mrvalues\u001b[0m\u001b[1;33m)\u001b[0m\u001b[1;33m\u001b[0m\u001b[1;33m\u001b[0m\u001b[0m\n\u001b[0m\u001b[0;32m   1049\u001b[0m         return construct_result(\n\u001b[0;32m   1050\u001b[0m             \u001b[0mleft\u001b[0m\u001b[1;33m,\u001b[0m \u001b[0mresult\u001b[0m\u001b[1;33m,\u001b[0m \u001b[0mindex\u001b[0m\u001b[1;33m=\u001b[0m\u001b[0mleft\u001b[0m\u001b[1;33m.\u001b[0m\u001b[0mindex\u001b[0m\u001b[1;33m,\u001b[0m \u001b[0mname\u001b[0m\u001b[1;33m=\u001b[0m\u001b[0mres_name\u001b[0m\u001b[1;33m,\u001b[0m \u001b[0mdtype\u001b[0m\u001b[1;33m=\u001b[0m\u001b[1;32mNone\u001b[0m\u001b[1;33m\u001b[0m\u001b[1;33m\u001b[0m\u001b[0m\n",
      "\u001b[1;32m~\\Anaconda3\\lib\\site-packages\\pandas\\core\\ops\\__init__.py\u001b[0m in \u001b[0;36mna_op\u001b[1;34m(x, y)\u001b[0m\n\u001b[0;32m    968\u001b[0m             \u001b[0mresult\u001b[0m \u001b[1;33m=\u001b[0m \u001b[0mexpressions\u001b[0m\u001b[1;33m.\u001b[0m\u001b[0mevaluate\u001b[0m\u001b[1;33m(\u001b[0m\u001b[0mop\u001b[0m\u001b[1;33m,\u001b[0m \u001b[0mstr_rep\u001b[0m\u001b[1;33m,\u001b[0m \u001b[0mx\u001b[0m\u001b[1;33m,\u001b[0m \u001b[0my\u001b[0m\u001b[1;33m,\u001b[0m \u001b[1;33m**\u001b[0m\u001b[0meval_kwargs\u001b[0m\u001b[1;33m)\u001b[0m\u001b[1;33m\u001b[0m\u001b[1;33m\u001b[0m\u001b[0m\n\u001b[0;32m    969\u001b[0m         \u001b[1;32mexcept\u001b[0m \u001b[0mTypeError\u001b[0m\u001b[1;33m:\u001b[0m\u001b[1;33m\u001b[0m\u001b[1;33m\u001b[0m\u001b[0m\n\u001b[1;32m--> 970\u001b[1;33m             \u001b[0mresult\u001b[0m \u001b[1;33m=\u001b[0m \u001b[0mmasked_arith_op\u001b[0m\u001b[1;33m(\u001b[0m\u001b[0mx\u001b[0m\u001b[1;33m,\u001b[0m \u001b[0my\u001b[0m\u001b[1;33m,\u001b[0m \u001b[0mop\u001b[0m\u001b[1;33m)\u001b[0m\u001b[1;33m\u001b[0m\u001b[1;33m\u001b[0m\u001b[0m\n\u001b[0m\u001b[0;32m    971\u001b[0m \u001b[1;33m\u001b[0m\u001b[0m\n\u001b[0;32m    972\u001b[0m         \u001b[1;32mreturn\u001b[0m \u001b[0mmissing\u001b[0m\u001b[1;33m.\u001b[0m\u001b[0mdispatch_fill_zeros\u001b[0m\u001b[1;33m(\u001b[0m\u001b[0mop\u001b[0m\u001b[1;33m,\u001b[0m \u001b[0mx\u001b[0m\u001b[1;33m,\u001b[0m \u001b[0my\u001b[0m\u001b[1;33m,\u001b[0m \u001b[0mresult\u001b[0m\u001b[1;33m)\u001b[0m\u001b[1;33m\u001b[0m\u001b[1;33m\u001b[0m\u001b[0m\n",
      "\u001b[1;32m~\\Anaconda3\\lib\\site-packages\\pandas\\core\\ops\\__init__.py\u001b[0m in \u001b[0;36mmasked_arith_op\u001b[1;34m(x, y, op)\u001b[0m\n\u001b[0;32m    462\u001b[0m         \u001b[1;32mif\u001b[0m \u001b[0mmask\u001b[0m\u001b[1;33m.\u001b[0m\u001b[0many\u001b[0m\u001b[1;33m(\u001b[0m\u001b[1;33m)\u001b[0m\u001b[1;33m:\u001b[0m\u001b[1;33m\u001b[0m\u001b[1;33m\u001b[0m\u001b[0m\n\u001b[0;32m    463\u001b[0m             \u001b[1;32mwith\u001b[0m \u001b[0mnp\u001b[0m\u001b[1;33m.\u001b[0m\u001b[0merrstate\u001b[0m\u001b[1;33m(\u001b[0m\u001b[0mall\u001b[0m\u001b[1;33m=\u001b[0m\u001b[1;34m\"ignore\"\u001b[0m\u001b[1;33m)\u001b[0m\u001b[1;33m:\u001b[0m\u001b[1;33m\u001b[0m\u001b[1;33m\u001b[0m\u001b[0m\n\u001b[1;32m--> 464\u001b[1;33m                 \u001b[0mresult\u001b[0m\u001b[1;33m[\u001b[0m\u001b[0mmask\u001b[0m\u001b[1;33m]\u001b[0m \u001b[1;33m=\u001b[0m \u001b[0mop\u001b[0m\u001b[1;33m(\u001b[0m\u001b[0mxrav\u001b[0m\u001b[1;33m[\u001b[0m\u001b[0mmask\u001b[0m\u001b[1;33m]\u001b[0m\u001b[1;33m,\u001b[0m \u001b[0my\u001b[0m\u001b[1;33m)\u001b[0m\u001b[1;33m\u001b[0m\u001b[1;33m\u001b[0m\u001b[0m\n\u001b[0m\u001b[0;32m    465\u001b[0m \u001b[1;33m\u001b[0m\u001b[0m\n\u001b[0;32m    466\u001b[0m     \u001b[0mresult\u001b[0m\u001b[1;33m,\u001b[0m \u001b[0mchanged\u001b[0m \u001b[1;33m=\u001b[0m \u001b[0mmaybe_upcast_putmask\u001b[0m\u001b[1;33m(\u001b[0m\u001b[0mresult\u001b[0m\u001b[1;33m,\u001b[0m \u001b[1;33m~\u001b[0m\u001b[0mmask\u001b[0m\u001b[1;33m,\u001b[0m \u001b[0mnp\u001b[0m\u001b[1;33m.\u001b[0m\u001b[0mnan\u001b[0m\u001b[1;33m)\u001b[0m\u001b[1;33m\u001b[0m\u001b[1;33m\u001b[0m\u001b[0m\n",
      "\u001b[1;31mTypeError\u001b[0m: unsupported operand type(s) for -: 'str' and 'float'"
     ]
    }
   ],
   "source": [
    "pca = PCA(data)"
   ]
  },
  {
   "cell_type": "code",
   "execution_count": 41,
   "metadata": {},
   "outputs": [],
   "source": [
    "pca_df =  pd.DataFrame(pca)"
   ]
  },
  {
   "cell_type": "code",
   "execution_count": 42,
   "metadata": {},
   "outputs": [
    {
     "data": {
      "text/plain": [
       "array([[ 1.73443926, -1.1075202 ,  0.64132669, ...,  0.29460309,\n",
       "         1.07867028,  0.93577103],\n",
       "       [ 0.57931213,  0.90291807, -0.03199781, ...,  0.0796127 ,\n",
       "         0.50487408,  0.4814547 ],\n",
       "       [ 0.4577198 , -1.1075202 ,  0.15653305, ..., -0.52087767,\n",
       "         1.0570176 ,  1.39008736],\n",
       "       [ 0.51851596, -1.1075202 ,  0.23733199, ...,  1.13232423,\n",
       "         1.73907724, -0.65433613],\n",
       "       [ 1.73443926, -1.1075202 ,  0.64132669, ...,  0.45028578,\n",
       "         1.8040353 ,  0.70861286]])"
      ]
     },
     "execution_count": 42,
     "metadata": {},
     "output_type": "execute_result"
    }
   ],
   "source": [
    "from sklearn.preprocessing import StandardScaler\n",
    "X_scaled = StandardScaler().fit_transform(data)\n",
    "X_scaled[:5]"
   ]
  },
  {
   "cell_type": "code",
   "execution_count": 9,
   "metadata": {},
   "outputs": [
    {
     "data": {
      "text/plain": [
       "array([[ 1.00221729, -0.05917261, -0.10970021, ...,  0.01808276,\n",
       "        -0.20017092, -0.09258606],\n",
       "       [-0.05917261,  1.00221729, -0.12496155, ...,  0.03175825,\n",
       "         0.04670834, -0.17847489],\n",
       "       [-0.10970021, -0.12496155,  1.00221729, ..., -0.09057081,\n",
       "        -0.09243986,  0.00666277],\n",
       "       [ 0.38240123, -0.24865444, -0.07512336, ...,  0.06242272,\n",
       "        -0.05079414, -0.09035063],\n",
       "       [-0.0040407 , -0.33784867, -0.0063434 , ...,  0.13008381,\n",
       "        -0.08297485,  0.32459686]])"
      ]
     },
     "execution_count": 9,
     "metadata": {},
     "output_type": "execute_result"
    }
   ],
   "source": [
    "features = X_scaled.T\n",
    "cov_matrix = np.cov(features)\n",
    "cov_matrix[:5]"
   ]
  },
  {
   "cell_type": "code",
   "execution_count": 10,
   "metadata": {},
   "outputs": [
    {
     "data": {
      "text/plain": [
       "array([[ 1.00221729, -0.05917261, -0.10970021, ...,  0.01808276,\n",
       "        -0.20017092, -0.09258606],\n",
       "       [-0.05917261,  1.00221729, -0.12496155, ...,  0.03175825,\n",
       "         0.04670834, -0.17847489],\n",
       "       [-0.10970021, -0.12496155,  1.00221729, ..., -0.09057081,\n",
       "        -0.09243986,  0.00666277],\n",
       "       [ 0.38240123, -0.24865444, -0.07512336, ...,  0.06242272,\n",
       "        -0.05079414, -0.09035063],\n",
       "       [-0.0040407 , -0.33784867, -0.0063434 , ...,  0.13008381,\n",
       "        -0.08297485,  0.32459686]])"
      ]
     },
     "execution_count": 10,
     "metadata": {},
     "output_type": "execute_result"
    }
   ],
   "source": [
    "features = X_scaled.T\n",
    "cov_matrix = np.cov(features)\n",
    "cov_matrix[:5]"
   ]
  },
  {
   "cell_type": "code",
   "execution_count": 26,
   "metadata": {},
   "outputs": [
    {
     "data": {
      "text/plain": [
       "array([20.90754184, 18.5458749 , 13.84336554, 12.174372  ,  9.83637109])"
      ]
     },
     "execution_count": 26,
     "metadata": {},
     "output_type": "execute_result"
    }
   ],
   "source": [
    "values, vectors = np.linalg.eig(cov_matrix)\n",
    "values[:5]"
   ]
  },
  {
   "cell_type": "code",
   "execution_count": 27,
   "metadata": {},
   "outputs": [
    {
     "data": {
      "text/plain": [
       "array([[-0.07334219,  0.05681099,  0.01137205, ...,  0.        ,\n",
       "         0.        ,  0.        ],\n",
       "       [ 0.01420704,  0.01144886,  0.04941133, ...,  0.        ,\n",
       "         0.        ,  0.        ],\n",
       "       [-0.00136726, -0.03632684, -0.02037163, ...,  0.        ,\n",
       "         0.        ,  0.        ],\n",
       "       ...,\n",
       "       [ 0.0832878 ,  0.18616513,  0.02133826, ...,  0.        ,\n",
       "         0.        ,  0.        ],\n",
       "       [ 0.12673453,  0.06583399,  0.06589644, ...,  0.        ,\n",
       "         0.        ,  0.        ],\n",
       "       [ 0.00027124, -0.01364572, -0.04006707, ...,  0.        ,\n",
       "         0.        ,  0.        ]])"
      ]
     },
     "execution_count": 27,
     "metadata": {},
     "output_type": "execute_result"
    }
   ],
   "source": [
    "vectors"
   ]
  },
  {
   "cell_type": "code",
   "execution_count": 20,
   "metadata": {},
   "outputs": [],
   "source": [
    "from bisect import bisect_right,bisect_left\n",
    " \n",
    "# def BinarySearch(a, x):\n",
    "#     i = bisect_right(a, x)\n",
    "#     if i != 0 and a[i-1] == x:\n",
    "#         return (i-1)\n",
    "#     else:\n",
    "#         return -1\n",
    "def BinarySearch(a, x):\n",
    "    i = bisect_left(a, x)\n",
    "    if i:\n",
    "        return (i-1)\n",
    "    else:\n",
    "        return -1"
   ]
  },
  {
   "cell_type": "code",
   "execution_count": 23,
   "metadata": {},
   "outputs": [
    {
     "name": "stdout",
     "output_type": "stream",
     "text": [
      "1.0 \n",
      " [0.0793204799160882, 0.07036062433287935, 0.05251991872978265, 0.04618797546245216, 0.03731790573853165, 0.03391129324914927, 0.027920738476959535, 0.02654581966350194, 0.02324601711698617, 0.02268706315870168, 0.01902927891497085, 0.017488198633984146, 0.01707177841329736, 0.016310117205720655, 0.01484952865401132, 0.014259146386085466, 0.01309846503130231, 0.012908609973297848, 0.011498492359750801, 0.011344254602477222, 0.011157884901473692, 0.010514538040419446, 0.010491056005783513, 0.009875721440040203, 0.009665115394259903, 0.009284316854042823, 0.00908100733712204, 0.008884780882390229, 0.007881388525924371, 0.008242331357258076, 0.008302850513838849, 0.008291694633445229, 0.007699955475461061, 0.007468007576984369, 0.007392403238744347, 0.007159450531575153, 0.00700367460904973, 0.006829777116120347, 0.006535940016509075, 0.0064298783531146885, 0.006242962478208567, 0.006054626083184424, 0.005945380649784455, 0.005863568084942711, 0.00570889336131065, 0.0054843768751412884, 0.005443021277672509, 0.005408108336039192, 0.005237825317324305, 0.005201452831065607, 0.00480576252578953, 0.004891461482724209, 0.005035090851357495, 0.004549977447364162, 0.004483656618899553, 0.004429209237030731, 0.004325790621505369, 0.004221007876209318, 0.00416277008180152, 0.004032277668781381, 0.0039877105702981275, 0.003932715573907552, 0.0038668961553579074, 0.0037907189950570214, 0.003558250659530569, 0.003684498604149065, 0.0036500286519255314, 0.0036291815553437033, 0.0034686647017207937, 0.0033667548376073186, 0.0032793562994287845, 0.003225308808537273, 0.00313356469233074, 0.0030777661210880138, 0.002687286889447987, 0.0027673103945057595, 0.0029497174439140116, 0.0028770813684199145, 0.002882865652534853, 0.0026214015818766677, 0.0025748924989531566, 0.0025605324654672757, 0.0023752690425028256, 0.002343122068194255, 0.002336186162374695, 0.0023094148766403043, 0.002219758975610459, 0.002152834378188201, 0.0021369242702133063, 0.002060148514041328, 0.0020271491083814035, 0.001980927472911703, 0.0019141599510142525, 0.0018975709146072856, 0.0018359431672518526, 0.0017973772264491831, 0.0017218821548273516, 0.001696207078607241, 0.0015719223760338487, 0.0015945613115610604, 0.0016351315203283832, 0.001641239299664515, 0.001502145016162093, 0.0014610359011894868, 0.001404433934301974, 0.0012648274743942071, 0.0013275190476079695, 0.0013208650849748569, 0.0012942038093938816, 0.0011729284872015924, 0.0011792529660545044, 0.0011326332997560872, 0.0010950387360526958, 0.0010666106682571265, 0.0010712088753137103, 0.0010300151496541626, 0.0010125668233470586, 0.0007516896781064083, 0.0009905329266707973, 0.0007671007153403227, 0.0007814029450253838, 0.0009282981492410689, 0.0009426550526229965, 0.0008058125983182656, 0.0008207741345433501, 0.0008357084630791229, 0.0008613111257372453, 0.0008735945106182163, 0.0008892131432128955, 0.0007000976840336496, 0.0007147154250276732, 0.0006804584270636024, 0.000666498236077345, 0.0006021525083301149, 0.0006329102504898597, 0.0006309280801896691, 0.0005813070932717707, 0.0005753396371185566, 0.0005348033385970619, 0.0005486325306790289, 0.0005591420374769816, 0.0004860943085818381, 0.0004924728243017625, 0.00046372951243495804, 0.00045456911003134655, 0.0004347516556597788, 0.00044337023956599346, 0.0003527029264948624, 0.00036494535518871875, 0.0003744974820836703, 0.00042592076256823354, 0.0004187104370076726, 0.00040620689251121114, 0.00039672520913527123, 0.0003368395991019438, 0.000330694815240428, 0.00031984577258939814, 0.00028382239567342776, 0.0003105339455358769, 0.0002991784973013635, 0.0003011760980559092, 0.0002758841251566375, 0.00026389037147636987, 0.00025409282562632683, 0.00025188556905902335, 0.00024025268428541876, 0.00023282579854185965, 0.0002261172752461273, 0.00021862365847138734, 0.00021134839013837311, 0.00020864457405554053, 0.0001963037450196745, 0.00019206934683380585, 0.00018394139324735343, 0.0001791686491015093, 0.0001767887871886771, 0.00017144382651090365, 0.0001649680468621053, 0.0001566536977136805, 0.00015482890854552584, 0.00015231986406286023, 0.00014390820032048182, 0.00014756785607961844, 0.0001391349019415773, 0.00013534424655993092, 0.00013109032863564492, 0.0001231091609973649, 0.0001209413154990887, 0.00011809258677413035, 0.0001138197079957249, 0.00011101797932819108, 0.0001056183047985725, 0.00010274037229469699, 9.55941264188109e-05, 9.800158017671201e-05, 0.00010095333354635726, 9.241019444328017e-05, 8.894570150241118e-05, 8.481141509212498e-05, 8.177821546458163e-05, 8.011500797657491e-05, 7.598666834815292e-05, 7.404494052899086e-05, 6.600989635639433e-05, 6.889330792016858e-05, 6.97404179567837e-05, 6.227794101611422e-05, 6.0489285103155856e-05, 5.9338101890225044e-05, 5.663331179620128e-05, 5.06939940621207e-05, 5.16795473295649e-05, 4.6149774642523434e-05, 4.469515656880518e-05, 4.274958895899438e-05, 4.060329893746978e-05, 4.951956158289498e-05, 3.888593865342161e-05, 3.8455427550275684e-05, 3.544048158531532e-05, 3.217702794124138e-05, 3.416698047135584e-05, 2.9215110683843246e-05, 3.255282311647147e-05, 6.270673175534977e-07, 2.4841527127614136e-05, 1.2914504956490114e-06, 1.981842300746965e-05, 2.1360999711552346e-05, 5.169314362142022e-06, 5.513947229610948e-06, 6.5813193265772945e-06, 7.605954421314493e-06, 1.799866723631267e-05, 1.6145028580899558e-05, 8.82486729247088e-06, 1.3250771404120408e-05, 1.2295989746724558e-05, 9.366190817572455e-06, 1.0606825394285743e-05, 2.852824685900212e-05, 2.596225346178984e-05, 2.413220809497346e-05, 2.196573540533633e-05, 1.749618778437686e-08, 1.8410109750124591e-06, 1.6861182404093767e-06, 2.7172859888529586e-06, 1.4433370738526532e-05, 1.769550698863727e-05, 2.7255560464980164e-05, 1.4883246250617516e-05, 1.1169846096811585e-05, 1.4697979473359796e-06, 3.807762398822166e-06, 3.78616039285434e-06, 2.9910280207623587e-06, 2.8229069677553603e-06, 2.00673503175765e-06, -3.2507401638697724e-19, -1.6394175587517111e-18, -3.667049790779892e-18, -4.192466243918809e-18, 0.0, 0.0, 0.0, 0.0, 0.0, 0.0, 0.0, 0.0, 0.0, 0.0, 0.0, 0.0, 0.0, 0.0, 0.0, 0.0, 0.0]\n"
     ]
    },
    {
     "data": {
      "text/plain": [
       "0.9591628916756565"
      ]
     },
     "execution_count": 23,
     "metadata": {},
     "output_type": "execute_result"
    }
   ],
   "source": [
    "explained_variances = []\n",
    "for i in range(len(values)):\n",
    "    explained_variances.append(values[i] / np.sum(values))\n",
    " \n",
    "print(np.sum(explained_variances), '\\n', explained_variances)\n",
    "cum_sum = np.cumsum(explained_variances)\n",
    "cum_sum\n",
    "BinarySearch(cum_sum,0.96)\n",
    "cum_sum[109]"
   ]
  },
  {
   "cell_type": "code",
   "execution_count": 15,
   "metadata": {},
   "outputs": [
    {
     "data": {
      "text/html": [
       "<div>\n",
       "<style scoped>\n",
       "    .dataframe tbody tr th:only-of-type {\n",
       "        vertical-align: middle;\n",
       "    }\n",
       "\n",
       "    .dataframe tbody tr th {\n",
       "        vertical-align: top;\n",
       "    }\n",
       "\n",
       "    .dataframe thead th {\n",
       "        text-align: right;\n",
       "    }\n",
       "</style>\n",
       "<table border=\"1\" class=\"dataframe\">\n",
       "  <thead>\n",
       "    <tr style=\"text-align: right;\">\n",
       "      <th></th>\n",
       "      <th>PC1</th>\n",
       "      <th>PC2</th>\n",
       "      <th>Y</th>\n",
       "    </tr>\n",
       "  </thead>\n",
       "  <tbody>\n",
       "    <tr>\n",
       "      <td>0</td>\n",
       "      <td>-1.369572</td>\n",
       "      <td>-0.028340</td>\n",
       "      <td>8</td>\n",
       "    </tr>\n",
       "    <tr>\n",
       "      <td>1</td>\n",
       "      <td>0.012307</td>\n",
       "      <td>1.303583</td>\n",
       "      <td>6</td>\n",
       "    </tr>\n",
       "    <tr>\n",
       "      <td>2</td>\n",
       "      <td>5.150189</td>\n",
       "      <td>-10.384984</td>\n",
       "      <td>10</td>\n",
       "    </tr>\n",
       "    <tr>\n",
       "      <td>3</td>\n",
       "      <td>-0.095020</td>\n",
       "      <td>2.262126</td>\n",
       "      <td>1</td>\n",
       "    </tr>\n",
       "    <tr>\n",
       "      <td>4</td>\n",
       "      <td>-1.553546</td>\n",
       "      <td>-1.042797</td>\n",
       "      <td>7</td>\n",
       "    </tr>\n",
       "  </tbody>\n",
       "</table>\n",
       "</div>"
      ],
      "text/plain": [
       "        PC1        PC2   Y\n",
       "0 -1.369572  -0.028340   8\n",
       "1  0.012307   1.303583   6\n",
       "2  5.150189 -10.384984  10\n",
       "3 -0.095020   2.262126   1\n",
       "4 -1.553546  -1.042797   7"
      ]
     },
     "execution_count": 15,
     "metadata": {},
     "output_type": "execute_result"
    }
   ],
   "source": [
    "projected_1 = X_scaled.dot(vectors.T[0])\n",
    "projected_2 = X_scaled.dot(vectors.T[1])\n",
    "res = pd.DataFrame(projected_1, columns=['PC1'])\n",
    "res['PC2'] = projected_2\n",
    "res['Y'] = data['Col_279']\n",
    "res.head()"
   ]
  },
  {
   "cell_type": "code",
   "execution_count": 16,
   "metadata": {},
   "outputs": [
    {
     "data": {
      "text/plain": [
       "280"
      ]
     },
     "execution_count": 16,
     "metadata": {},
     "output_type": "execute_result"
    }
   ],
   "source": [
    "len(vectors.T)"
   ]
  },
  {
   "cell_type": "code",
   "execution_count": null,
   "metadata": {},
   "outputs": [],
   "source": []
  }
 ],
 "metadata": {
  "kernelspec": {
   "display_name": "Python 3",
   "language": "python",
   "name": "python3"
  },
  "language_info": {
   "codemirror_mode": {
    "name": "ipython",
    "version": 3
   },
   "file_extension": ".py",
   "mimetype": "text/x-python",
   "name": "python",
   "nbconvert_exporter": "python",
   "pygments_lexer": "ipython3",
   "version": "3.7.4"
  }
 },
 "nbformat": 4,
 "nbformat_minor": 2
}
