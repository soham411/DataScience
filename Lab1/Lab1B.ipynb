{
 "cells": [
  {
   "cell_type": "code",
   "execution_count": 34,
   "metadata": {
    "execution": {
     "iopub.execute_input": "2021-12-04T18:53:57.501160Z",
     "iopub.status.busy": "2021-12-04T18:53:57.500460Z",
     "iopub.status.idle": "2021-12-04T18:53:58.869289Z",
     "shell.execute_reply": "2021-12-04T18:53:58.868436Z",
     "shell.execute_reply.started": "2021-12-04T18:48:36.587959Z"
    },
    "executionInfo": {
     "elapsed": 386,
     "status": "ok",
     "timestamp": 1638398525270,
     "user": {
      "displayName": "Cristian Izquierdo Romero",
      "photoUrl": "https://lh3.googleusercontent.com/a/default-user=s64",
      "userId": "07564615891092799627"
     },
     "user_tz": -60
    },
    "id": "_VekZlZllYIt",
    "papermill": {
     "duration": 1.474179,
     "end_time": "2021-12-04T18:53:58.869468",
     "exception": false,
     "start_time": "2021-12-04T18:53:57.395289",
     "status": "completed"
    },
    "tags": []
   },
   "outputs": [],
   "source": [
    "import numpy as np\n",
    "import matplotlib.pyplot as plt\n",
    "import seaborn as sns\n",
    "import pandas as pd\n",
    "from sklearn import preprocessing\n",
    "from sklearn.impute import KNNImputer\n",
    "from sklearn.preprocessing import StandardScaler\n",
    "from sklearn.linear_model import LogisticRegression\n",
    "from sklearn.model_selection import cross_val_score\n",
    "from sklearn.metrics import confusion_matrix\n",
    "from sklearn.metrics import accuracy_score\n",
    "from sklearn.metrics import roc_curve\n",
    "from sklearn.model_selection import GridSearchCV\n",
    "from sklearn.model_selection import train_test_split\n",
    "from sklearn.preprocessing import OrdinalEncoder\n",
    "%matplotlib inline\n",
    "import warnings\n",
    "warnings.filterwarnings('ignore')"
   ]
  },
  {
   "cell_type": "markdown",
   "metadata": {
    "id": "FDjfQcjxr-rx",
    "papermill": {
     "duration": 0.089786,
     "end_time": "2021-12-04T18:53:59.648642",
     "exception": false,
     "start_time": "2021-12-04T18:53:59.558856",
     "status": "completed"
    },
    "tags": []
   },
   "source": [
    "# **LOADING THE DATAFRAME**"
   ]
  },
  {
   "cell_type": "code",
   "execution_count": 35,
   "metadata": {
    "execution": {
     "iopub.execute_input": "2021-12-04T18:53:59.837355Z",
     "iopub.status.busy": "2021-12-04T18:53:59.836661Z",
     "iopub.status.idle": "2021-12-04T18:53:59.861680Z",
     "shell.execute_reply": "2021-12-04T18:53:59.862202Z",
     "shell.execute_reply.started": "2021-12-04T18:48:36.599895Z"
    },
    "executionInfo": {
     "elapsed": 9,
     "status": "ok",
     "timestamp": 1638398526087,
     "user": {
      "displayName": "Cristian Izquierdo Romero",
      "photoUrl": "https://lh3.googleusercontent.com/a/default-user=s64",
      "userId": "07564615891092799627"
     },
     "user_tz": -60
    },
    "id": "SIYI5nY7rzWE",
    "papermill": {
     "duration": 0.123651,
     "end_time": "2021-12-04T18:53:59.862373",
     "exception": false,
     "start_time": "2021-12-04T18:53:59.738722",
     "status": "completed"
    },
    "tags": []
   },
   "outputs": [
    {
     "data": {
      "text/html": [
       "<div>\n",
       "<style scoped>\n",
       "    .dataframe tbody tr th:only-of-type {\n",
       "        vertical-align: middle;\n",
       "    }\n",
       "\n",
       "    .dataframe tbody tr th {\n",
       "        vertical-align: top;\n",
       "    }\n",
       "\n",
       "    .dataframe thead th {\n",
       "        text-align: right;\n",
       "    }\n",
       "</style>\n",
       "<table border=\"1\" class=\"dataframe\">\n",
       "  <thead>\n",
       "    <tr style=\"text-align: right;\">\n",
       "      <th></th>\n",
       "      <th>surgery</th>\n",
       "      <th>age</th>\n",
       "      <th>hospital_number</th>\n",
       "      <th>rectal_temp</th>\n",
       "      <th>pulse</th>\n",
       "      <th>respiratory_rate</th>\n",
       "      <th>temp_of_extremities</th>\n",
       "      <th>peripheral_pulse</th>\n",
       "      <th>mucous_membrane</th>\n",
       "      <th>capillary_refill_time</th>\n",
       "      <th>...</th>\n",
       "      <th>packed_cell_volume</th>\n",
       "      <th>total_protein</th>\n",
       "      <th>abdomo_appearance</th>\n",
       "      <th>abdomo_protein</th>\n",
       "      <th>outcome</th>\n",
       "      <th>surgical_lesion</th>\n",
       "      <th>lesion_1</th>\n",
       "      <th>lesion_2</th>\n",
       "      <th>lesion_3</th>\n",
       "      <th>cp_data</th>\n",
       "    </tr>\n",
       "  </thead>\n",
       "  <tbody>\n",
       "    <tr>\n",
       "      <th>0</th>\n",
       "      <td>no</td>\n",
       "      <td>adult</td>\n",
       "      <td>530101</td>\n",
       "      <td>38.5</td>\n",
       "      <td>66.0</td>\n",
       "      <td>28.0</td>\n",
       "      <td>cool</td>\n",
       "      <td>reduced</td>\n",
       "      <td>NaN</td>\n",
       "      <td>more_3_sec</td>\n",
       "      <td>...</td>\n",
       "      <td>45.0</td>\n",
       "      <td>8.4</td>\n",
       "      <td>NaN</td>\n",
       "      <td>NaN</td>\n",
       "      <td>died</td>\n",
       "      <td>no</td>\n",
       "      <td>11300</td>\n",
       "      <td>0</td>\n",
       "      <td>0</td>\n",
       "      <td>no</td>\n",
       "    </tr>\n",
       "    <tr>\n",
       "      <th>1</th>\n",
       "      <td>yes</td>\n",
       "      <td>adult</td>\n",
       "      <td>534817</td>\n",
       "      <td>39.2</td>\n",
       "      <td>88.0</td>\n",
       "      <td>20.0</td>\n",
       "      <td>NaN</td>\n",
       "      <td>NaN</td>\n",
       "      <td>pale_cyanotic</td>\n",
       "      <td>less_3_sec</td>\n",
       "      <td>...</td>\n",
       "      <td>50.0</td>\n",
       "      <td>85.0</td>\n",
       "      <td>cloudy</td>\n",
       "      <td>2.0</td>\n",
       "      <td>euthanized</td>\n",
       "      <td>no</td>\n",
       "      <td>2208</td>\n",
       "      <td>0</td>\n",
       "      <td>0</td>\n",
       "      <td>no</td>\n",
       "    </tr>\n",
       "    <tr>\n",
       "      <th>2</th>\n",
       "      <td>no</td>\n",
       "      <td>adult</td>\n",
       "      <td>530334</td>\n",
       "      <td>38.3</td>\n",
       "      <td>40.0</td>\n",
       "      <td>24.0</td>\n",
       "      <td>normal</td>\n",
       "      <td>normal</td>\n",
       "      <td>pale_pink</td>\n",
       "      <td>less_3_sec</td>\n",
       "      <td>...</td>\n",
       "      <td>33.0</td>\n",
       "      <td>6.7</td>\n",
       "      <td>NaN</td>\n",
       "      <td>NaN</td>\n",
       "      <td>lived</td>\n",
       "      <td>no</td>\n",
       "      <td>0</td>\n",
       "      <td>0</td>\n",
       "      <td>0</td>\n",
       "      <td>yes</td>\n",
       "    </tr>\n",
       "    <tr>\n",
       "      <th>3</th>\n",
       "      <td>yes</td>\n",
       "      <td>young</td>\n",
       "      <td>5290409</td>\n",
       "      <td>39.1</td>\n",
       "      <td>164.0</td>\n",
       "      <td>84.0</td>\n",
       "      <td>cold</td>\n",
       "      <td>normal</td>\n",
       "      <td>dark_cyanotic</td>\n",
       "      <td>more_3_sec</td>\n",
       "      <td>...</td>\n",
       "      <td>48.0</td>\n",
       "      <td>7.2</td>\n",
       "      <td>serosanguious</td>\n",
       "      <td>5.3</td>\n",
       "      <td>died</td>\n",
       "      <td>yes</td>\n",
       "      <td>2208</td>\n",
       "      <td>0</td>\n",
       "      <td>0</td>\n",
       "      <td>yes</td>\n",
       "    </tr>\n",
       "    <tr>\n",
       "      <th>4</th>\n",
       "      <td>no</td>\n",
       "      <td>adult</td>\n",
       "      <td>530255</td>\n",
       "      <td>37.3</td>\n",
       "      <td>104.0</td>\n",
       "      <td>35.0</td>\n",
       "      <td>NaN</td>\n",
       "      <td>NaN</td>\n",
       "      <td>dark_cyanotic</td>\n",
       "      <td>more_3_sec</td>\n",
       "      <td>...</td>\n",
       "      <td>74.0</td>\n",
       "      <td>7.4</td>\n",
       "      <td>NaN</td>\n",
       "      <td>NaN</td>\n",
       "      <td>died</td>\n",
       "      <td>no</td>\n",
       "      <td>4300</td>\n",
       "      <td>0</td>\n",
       "      <td>0</td>\n",
       "      <td>no</td>\n",
       "    </tr>\n",
       "    <tr>\n",
       "      <th>...</th>\n",
       "      <td>...</td>\n",
       "      <td>...</td>\n",
       "      <td>...</td>\n",
       "      <td>...</td>\n",
       "      <td>...</td>\n",
       "      <td>...</td>\n",
       "      <td>...</td>\n",
       "      <td>...</td>\n",
       "      <td>...</td>\n",
       "      <td>...</td>\n",
       "      <td>...</td>\n",
       "      <td>...</td>\n",
       "      <td>...</td>\n",
       "      <td>...</td>\n",
       "      <td>...</td>\n",
       "      <td>...</td>\n",
       "      <td>...</td>\n",
       "      <td>...</td>\n",
       "      <td>...</td>\n",
       "      <td>...</td>\n",
       "      <td>...</td>\n",
       "    </tr>\n",
       "    <tr>\n",
       "      <th>294</th>\n",
       "      <td>yes</td>\n",
       "      <td>adult</td>\n",
       "      <td>533886</td>\n",
       "      <td>NaN</td>\n",
       "      <td>120.0</td>\n",
       "      <td>70.0</td>\n",
       "      <td>cold</td>\n",
       "      <td>NaN</td>\n",
       "      <td>pale_cyanotic</td>\n",
       "      <td>more_3_sec</td>\n",
       "      <td>...</td>\n",
       "      <td>55.0</td>\n",
       "      <td>65.0</td>\n",
       "      <td>NaN</td>\n",
       "      <td>NaN</td>\n",
       "      <td>euthanized</td>\n",
       "      <td>no</td>\n",
       "      <td>3205</td>\n",
       "      <td>0</td>\n",
       "      <td>0</td>\n",
       "      <td>no</td>\n",
       "    </tr>\n",
       "    <tr>\n",
       "      <th>295</th>\n",
       "      <td>no</td>\n",
       "      <td>adult</td>\n",
       "      <td>527702</td>\n",
       "      <td>37.2</td>\n",
       "      <td>72.0</td>\n",
       "      <td>24.0</td>\n",
       "      <td>cool</td>\n",
       "      <td>increased</td>\n",
       "      <td>pale_cyanotic</td>\n",
       "      <td>more_3_sec</td>\n",
       "      <td>...</td>\n",
       "      <td>44.0</td>\n",
       "      <td>NaN</td>\n",
       "      <td>serosanguious</td>\n",
       "      <td>3.3</td>\n",
       "      <td>euthanized</td>\n",
       "      <td>yes</td>\n",
       "      <td>2208</td>\n",
       "      <td>0</td>\n",
       "      <td>0</td>\n",
       "      <td>yes</td>\n",
       "    </tr>\n",
       "    <tr>\n",
       "      <th>296</th>\n",
       "      <td>yes</td>\n",
       "      <td>adult</td>\n",
       "      <td>529386</td>\n",
       "      <td>37.5</td>\n",
       "      <td>72.0</td>\n",
       "      <td>30.0</td>\n",
       "      <td>cold</td>\n",
       "      <td>reduced</td>\n",
       "      <td>pale_cyanotic</td>\n",
       "      <td>less_3_sec</td>\n",
       "      <td>...</td>\n",
       "      <td>60.0</td>\n",
       "      <td>6.8</td>\n",
       "      <td>NaN</td>\n",
       "      <td>NaN</td>\n",
       "      <td>died</td>\n",
       "      <td>yes</td>\n",
       "      <td>3205</td>\n",
       "      <td>0</td>\n",
       "      <td>0</td>\n",
       "      <td>no</td>\n",
       "    </tr>\n",
       "    <tr>\n",
       "      <th>297</th>\n",
       "      <td>yes</td>\n",
       "      <td>adult</td>\n",
       "      <td>530612</td>\n",
       "      <td>36.5</td>\n",
       "      <td>100.0</td>\n",
       "      <td>24.0</td>\n",
       "      <td>cool</td>\n",
       "      <td>reduced</td>\n",
       "      <td>pale_pink</td>\n",
       "      <td>less_3_sec</td>\n",
       "      <td>...</td>\n",
       "      <td>50.0</td>\n",
       "      <td>6.0</td>\n",
       "      <td>serosanguious</td>\n",
       "      <td>3.4</td>\n",
       "      <td>lived</td>\n",
       "      <td>yes</td>\n",
       "      <td>2208</td>\n",
       "      <td>0</td>\n",
       "      <td>0</td>\n",
       "      <td>yes</td>\n",
       "    </tr>\n",
       "    <tr>\n",
       "      <th>298</th>\n",
       "      <td>yes</td>\n",
       "      <td>adult</td>\n",
       "      <td>534618</td>\n",
       "      <td>37.2</td>\n",
       "      <td>40.0</td>\n",
       "      <td>20.0</td>\n",
       "      <td>NaN</td>\n",
       "      <td>NaN</td>\n",
       "      <td>NaN</td>\n",
       "      <td>NaN</td>\n",
       "      <td>...</td>\n",
       "      <td>36.0</td>\n",
       "      <td>62.0</td>\n",
       "      <td>clear</td>\n",
       "      <td>1.0</td>\n",
       "      <td>euthanized</td>\n",
       "      <td>no</td>\n",
       "      <td>6112</td>\n",
       "      <td>0</td>\n",
       "      <td>0</td>\n",
       "      <td>no</td>\n",
       "    </tr>\n",
       "  </tbody>\n",
       "</table>\n",
       "<p>299 rows × 28 columns</p>\n",
       "</div>"
      ],
      "text/plain": [
       "    surgery    age  hospital_number  rectal_temp  pulse  respiratory_rate  \\\n",
       "0        no  adult           530101         38.5   66.0              28.0   \n",
       "1       yes  adult           534817         39.2   88.0              20.0   \n",
       "2        no  adult           530334         38.3   40.0              24.0   \n",
       "3       yes  young          5290409         39.1  164.0              84.0   \n",
       "4        no  adult           530255         37.3  104.0              35.0   \n",
       "..      ...    ...              ...          ...    ...               ...   \n",
       "294     yes  adult           533886          NaN  120.0              70.0   \n",
       "295      no  adult           527702         37.2   72.0              24.0   \n",
       "296     yes  adult           529386         37.5   72.0              30.0   \n",
       "297     yes  adult           530612         36.5  100.0              24.0   \n",
       "298     yes  adult           534618         37.2   40.0              20.0   \n",
       "\n",
       "    temp_of_extremities peripheral_pulse mucous_membrane  \\\n",
       "0                  cool          reduced             NaN   \n",
       "1                   NaN              NaN   pale_cyanotic   \n",
       "2                normal           normal       pale_pink   \n",
       "3                  cold           normal   dark_cyanotic   \n",
       "4                   NaN              NaN   dark_cyanotic   \n",
       "..                  ...              ...             ...   \n",
       "294                cold              NaN   pale_cyanotic   \n",
       "295                cool        increased   pale_cyanotic   \n",
       "296                cold          reduced   pale_cyanotic   \n",
       "297                cool          reduced       pale_pink   \n",
       "298                 NaN              NaN             NaN   \n",
       "\n",
       "    capillary_refill_time  ... packed_cell_volume total_protein  \\\n",
       "0              more_3_sec  ...               45.0           8.4   \n",
       "1              less_3_sec  ...               50.0          85.0   \n",
       "2              less_3_sec  ...               33.0           6.7   \n",
       "3              more_3_sec  ...               48.0           7.2   \n",
       "4              more_3_sec  ...               74.0           7.4   \n",
       "..                    ...  ...                ...           ...   \n",
       "294            more_3_sec  ...               55.0          65.0   \n",
       "295            more_3_sec  ...               44.0           NaN   \n",
       "296            less_3_sec  ...               60.0           6.8   \n",
       "297            less_3_sec  ...               50.0           6.0   \n",
       "298                   NaN  ...               36.0          62.0   \n",
       "\n",
       "    abdomo_appearance abdomo_protein     outcome  surgical_lesion lesion_1  \\\n",
       "0                 NaN            NaN        died               no    11300   \n",
       "1              cloudy            2.0  euthanized               no     2208   \n",
       "2                 NaN            NaN       lived               no        0   \n",
       "3       serosanguious            5.3        died              yes     2208   \n",
       "4                 NaN            NaN        died               no     4300   \n",
       "..                ...            ...         ...              ...      ...   \n",
       "294               NaN            NaN  euthanized               no     3205   \n",
       "295     serosanguious            3.3  euthanized              yes     2208   \n",
       "296               NaN            NaN        died              yes     3205   \n",
       "297     serosanguious            3.4       lived              yes     2208   \n",
       "298             clear            1.0  euthanized               no     6112   \n",
       "\n",
       "    lesion_2  lesion_3  cp_data  \n",
       "0          0         0       no  \n",
       "1          0         0       no  \n",
       "2          0         0      yes  \n",
       "3          0         0      yes  \n",
       "4          0         0       no  \n",
       "..       ...       ...      ...  \n",
       "294        0         0       no  \n",
       "295        0         0      yes  \n",
       "296        0         0       no  \n",
       "297        0         0      yes  \n",
       "298        0         0       no  \n",
       "\n",
       "[299 rows x 28 columns]"
      ]
     },
     "execution_count": 35,
     "metadata": {},
     "output_type": "execute_result"
    }
   ],
   "source": [
    "df = pd.read_csv ('data/horse.csv')\n",
    "df"
   ]
  },
  {
   "cell_type": "code",
   "execution_count": 36,
   "metadata": {
    "execution": {
     "iopub.execute_input": "2021-12-04T18:54:00.050158Z",
     "iopub.status.busy": "2021-12-04T18:54:00.049506Z",
     "iopub.status.idle": "2021-12-04T18:54:00.056988Z",
     "shell.execute_reply": "2021-12-04T18:54:00.057538Z",
     "shell.execute_reply.started": "2021-12-04T18:48:36.628037Z"
    },
    "papermill": {
     "duration": 0.10472,
     "end_time": "2021-12-04T18:54:00.057717",
     "exception": false,
     "start_time": "2021-12-04T18:53:59.952997",
     "status": "completed"
    },
    "tags": []
   },
   "outputs": [],
   "source": [
    "dfTrain,dfTest = train_test_split(df, test_size=0.3, random_state=0)"
   ]
  },
  {
   "cell_type": "code",
   "execution_count": 37,
   "metadata": {
    "execution": {
     "iopub.execute_input": "2021-12-04T18:54:00.242319Z",
     "iopub.status.busy": "2021-12-04T18:54:00.241629Z",
     "iopub.status.idle": "2021-12-04T18:54:00.294277Z",
     "shell.execute_reply": "2021-12-04T18:54:00.293576Z",
     "shell.execute_reply.started": "2021-12-04T18:48:36.635528Z"
    },
    "executionInfo": {
     "elapsed": 8,
     "status": "ok",
     "timestamp": 1638398526087,
     "user": {
      "displayName": "Cristian Izquierdo Romero",
      "photoUrl": "https://lh3.googleusercontent.com/a/default-user=s64",
      "userId": "07564615891092799627"
     },
     "user_tz": -60
    },
    "id": "_fIfoafst2UQ",
    "outputId": "63978130-000f-405f-c9d4-a715c2fee948",
    "papermill": {
     "duration": 0.145808,
     "end_time": "2021-12-04T18:54:00.294422",
     "exception": false,
     "start_time": "2021-12-04T18:54:00.148614",
     "status": "completed"
    },
    "tags": []
   },
   "outputs": [
    {
     "data": {
      "text/html": [
       "<div>\n",
       "<style scoped>\n",
       "    .dataframe tbody tr th:only-of-type {\n",
       "        vertical-align: middle;\n",
       "    }\n",
       "\n",
       "    .dataframe tbody tr th {\n",
       "        vertical-align: top;\n",
       "    }\n",
       "\n",
       "    .dataframe thead th {\n",
       "        text-align: right;\n",
       "    }\n",
       "</style>\n",
       "<table border=\"1\" class=\"dataframe\">\n",
       "  <thead>\n",
       "    <tr style=\"text-align: right;\">\n",
       "      <th></th>\n",
       "      <th>hospital_number</th>\n",
       "      <th>rectal_temp</th>\n",
       "      <th>pulse</th>\n",
       "      <th>respiratory_rate</th>\n",
       "      <th>nasogastric_reflux_ph</th>\n",
       "      <th>packed_cell_volume</th>\n",
       "      <th>total_protein</th>\n",
       "      <th>abdomo_protein</th>\n",
       "      <th>lesion_1</th>\n",
       "      <th>lesion_2</th>\n",
       "      <th>lesion_3</th>\n",
       "    </tr>\n",
       "  </thead>\n",
       "  <tbody>\n",
       "    <tr>\n",
       "      <th>count</th>\n",
       "      <td>2.090000e+02</td>\n",
       "      <td>168.000000</td>\n",
       "      <td>193.000000</td>\n",
       "      <td>172.000000</td>\n",
       "      <td>38.000000</td>\n",
       "      <td>188.000000</td>\n",
       "      <td>188.000000</td>\n",
       "      <td>65.000000</td>\n",
       "      <td>209.00000</td>\n",
       "      <td>209.000000</td>\n",
       "      <td>209.0</td>\n",
       "    </tr>\n",
       "    <tr>\n",
       "      <th>mean</th>\n",
       "      <td>1.122420e+06</td>\n",
       "      <td>38.172024</td>\n",
       "      <td>72.777202</td>\n",
       "      <td>30.656977</td>\n",
       "      <td>5.126316</td>\n",
       "      <td>46.662234</td>\n",
       "      <td>21.422872</td>\n",
       "      <td>3.255385</td>\n",
       "      <td>3476.46890</td>\n",
       "      <td>14.885167</td>\n",
       "      <td>0.0</td>\n",
       "    </tr>\n",
       "    <tr>\n",
       "      <th>std</th>\n",
       "      <td>1.574079e+06</td>\n",
       "      <td>0.746162</td>\n",
       "      <td>29.019517</td>\n",
       "      <td>17.834647</td>\n",
       "      <td>1.800253</td>\n",
       "      <td>10.749158</td>\n",
       "      <td>25.778575</td>\n",
       "      <td>2.012696</td>\n",
       "      <td>5374.19771</td>\n",
       "      <td>215.192370</td>\n",
       "      <td>0.0</td>\n",
       "    </tr>\n",
       "    <tr>\n",
       "      <th>min</th>\n",
       "      <td>5.213990e+05</td>\n",
       "      <td>35.400000</td>\n",
       "      <td>30.000000</td>\n",
       "      <td>8.000000</td>\n",
       "      <td>1.500000</td>\n",
       "      <td>23.000000</td>\n",
       "      <td>3.300000</td>\n",
       "      <td>0.100000</td>\n",
       "      <td>0.00000</td>\n",
       "      <td>0.000000</td>\n",
       "      <td>0.0</td>\n",
       "    </tr>\n",
       "    <tr>\n",
       "      <th>25%</th>\n",
       "      <td>5.288040e+05</td>\n",
       "      <td>37.800000</td>\n",
       "      <td>48.000000</td>\n",
       "      <td>20.000000</td>\n",
       "      <td>4.125000</td>\n",
       "      <td>38.000000</td>\n",
       "      <td>6.500000</td>\n",
       "      <td>2.000000</td>\n",
       "      <td>1400.00000</td>\n",
       "      <td>0.000000</td>\n",
       "      <td>0.0</td>\n",
       "    </tr>\n",
       "    <tr>\n",
       "      <th>50%</th>\n",
       "      <td>5.300020e+05</td>\n",
       "      <td>38.200000</td>\n",
       "      <td>64.000000</td>\n",
       "      <td>28.000000</td>\n",
       "      <td>5.500000</td>\n",
       "      <td>45.000000</td>\n",
       "      <td>7.500000</td>\n",
       "      <td>2.800000</td>\n",
       "      <td>2208.00000</td>\n",
       "      <td>0.000000</td>\n",
       "      <td>0.0</td>\n",
       "    </tr>\n",
       "    <tr>\n",
       "      <th>75%</th>\n",
       "      <td>5.345560e+05</td>\n",
       "      <td>38.600000</td>\n",
       "      <td>90.000000</td>\n",
       "      <td>36.000000</td>\n",
       "      <td>6.500000</td>\n",
       "      <td>52.000000</td>\n",
       "      <td>10.400000</td>\n",
       "      <td>4.300000</td>\n",
       "      <td>3205.00000</td>\n",
       "      <td>0.000000</td>\n",
       "      <td>0.0</td>\n",
       "    </tr>\n",
       "    <tr>\n",
       "      <th>max</th>\n",
       "      <td>5.305629e+06</td>\n",
       "      <td>40.300000</td>\n",
       "      <td>184.000000</td>\n",
       "      <td>96.000000</td>\n",
       "      <td>7.500000</td>\n",
       "      <td>75.000000</td>\n",
       "      <td>89.000000</td>\n",
       "      <td>10.000000</td>\n",
       "      <td>41110.00000</td>\n",
       "      <td>3111.000000</td>\n",
       "      <td>0.0</td>\n",
       "    </tr>\n",
       "  </tbody>\n",
       "</table>\n",
       "</div>"
      ],
      "text/plain": [
       "       hospital_number  rectal_temp       pulse  respiratory_rate  \\\n",
       "count     2.090000e+02   168.000000  193.000000        172.000000   \n",
       "mean      1.122420e+06    38.172024   72.777202         30.656977   \n",
       "std       1.574079e+06     0.746162   29.019517         17.834647   \n",
       "min       5.213990e+05    35.400000   30.000000          8.000000   \n",
       "25%       5.288040e+05    37.800000   48.000000         20.000000   \n",
       "50%       5.300020e+05    38.200000   64.000000         28.000000   \n",
       "75%       5.345560e+05    38.600000   90.000000         36.000000   \n",
       "max       5.305629e+06    40.300000  184.000000         96.000000   \n",
       "\n",
       "       nasogastric_reflux_ph  packed_cell_volume  total_protein  \\\n",
       "count              38.000000          188.000000     188.000000   \n",
       "mean                5.126316           46.662234      21.422872   \n",
       "std                 1.800253           10.749158      25.778575   \n",
       "min                 1.500000           23.000000       3.300000   \n",
       "25%                 4.125000           38.000000       6.500000   \n",
       "50%                 5.500000           45.000000       7.500000   \n",
       "75%                 6.500000           52.000000      10.400000   \n",
       "max                 7.500000           75.000000      89.000000   \n",
       "\n",
       "       abdomo_protein     lesion_1     lesion_2  lesion_3  \n",
       "count       65.000000    209.00000   209.000000     209.0  \n",
       "mean         3.255385   3476.46890    14.885167       0.0  \n",
       "std          2.012696   5374.19771   215.192370       0.0  \n",
       "min          0.100000      0.00000     0.000000       0.0  \n",
       "25%          2.000000   1400.00000     0.000000       0.0  \n",
       "50%          2.800000   2208.00000     0.000000       0.0  \n",
       "75%          4.300000   3205.00000     0.000000       0.0  \n",
       "max         10.000000  41110.00000  3111.000000       0.0  "
      ]
     },
     "execution_count": 37,
     "metadata": {},
     "output_type": "execute_result"
    }
   ],
   "source": [
    "dfTrain.describe()"
   ]
  },
  {
   "cell_type": "markdown",
   "metadata": {
    "id": "PhN6GLxwrkiJ",
    "papermill": {
     "duration": 0.090258,
     "end_time": "2021-12-04T18:54:00.477406",
     "exception": false,
     "start_time": "2021-12-04T18:54:00.387148",
     "status": "completed"
    },
    "tags": []
   },
   "source": [
    "# **FEATURE ENGINEERING**"
   ]
  },
  {
   "cell_type": "code",
   "execution_count": 38,
   "metadata": {
    "execution": {
     "iopub.execute_input": "2021-12-04T18:54:00.850666Z",
     "iopub.status.busy": "2021-12-04T18:54:00.849959Z",
     "iopub.status.idle": "2021-12-04T18:54:00.858287Z",
     "shell.execute_reply": "2021-12-04T18:54:00.858903Z",
     "shell.execute_reply.started": "2021-12-04T18:48:36.684569Z"
    },
    "papermill": {
     "duration": 0.108008,
     "end_time": "2021-12-04T18:54:00.859084",
     "exception": false,
     "start_time": "2021-12-04T18:54:00.751076",
     "status": "completed"
    },
    "tags": []
   },
   "outputs": [],
   "source": [
    "dfTrain.drop(columns = ['cp_data', 'hospital_number'], axis = 1, inplace = True)\n",
    "dfTest.drop(columns = ['cp_data', 'hospital_number'], axis = 1, inplace = True)"
   ]
  },
  {
   "cell_type": "code",
   "execution_count": 39,
   "metadata": {
    "execution": {
     "iopub.execute_input": "2021-12-04T18:54:01.051594Z",
     "iopub.status.busy": "2021-12-04T18:54:01.050841Z",
     "iopub.status.idle": "2021-12-04T18:54:01.067844Z",
     "shell.execute_reply": "2021-12-04T18:54:01.068493Z",
     "shell.execute_reply.started": "2021-12-04T18:48:36.695241Z"
    },
    "executionInfo": {
     "elapsed": 6,
     "status": "ok",
     "timestamp": 1638398526465,
     "user": {
      "displayName": "Cristian Izquierdo Romero",
      "photoUrl": "https://lh3.googleusercontent.com/a/default-user=s64",
      "userId": "07564615891092799627"
     },
     "user_tz": -60
    },
    "id": "Q-aNIGRntyuh",
    "outputId": "e1a67add-6096-4c11-9b7d-5dea5c35c440",
    "papermill": {
     "duration": 0.118128,
     "end_time": "2021-12-04T18:54:01.068667",
     "exception": false,
     "start_time": "2021-12-04T18:54:00.950539",
     "status": "completed"
    },
    "tags": []
   },
   "outputs": [
    {
     "data": {
      "text/plain": [
       "1    163\n",
       "0     45\n",
       "2      1\n",
       "Name: num_lesions, dtype: int64"
      ]
     },
     "execution_count": 39,
     "metadata": {},
     "output_type": "execute_result"
    }
   ],
   "source": [
    "#The features lesion1, 2 and 3 will give us trouble because the way they are formated doesn't make any sense. \n",
    "#Therefore, we will create a new feature that counts the number of lesions the horse has to replace them.\n",
    "dfTrain.loc[dfTrain['lesion_1'] > 0, 'lesion_1'] = 1\n",
    "dfTrain.loc[dfTrain['lesion_2'] > 0, 'lesion_2'] = 1\n",
    "dfTrain.loc[dfTrain['lesion_3'] > 0, 'lesion_3'] = 1\n",
    "\n",
    "dfTrain['num_lesions'] = dfTrain['lesion_1'] + dfTrain['lesion_2'] + dfTrain['lesion_3']\n",
    "dfTrain = dfTrain.drop(columns = ['lesion_1','lesion_2', 'lesion_3'], axis = 1)\n",
    "dfTrain['num_lesions'].value_counts()"
   ]
  },
  {
   "cell_type": "code",
   "execution_count": 40,
   "metadata": {
    "execution": {
     "iopub.execute_input": "2021-12-04T18:54:01.256615Z",
     "iopub.status.busy": "2021-12-04T18:54:01.255906Z",
     "iopub.status.idle": "2021-12-04T18:54:01.265898Z",
     "shell.execute_reply": "2021-12-04T18:54:01.266429Z",
     "shell.execute_reply.started": "2021-12-04T18:48:36.714715Z"
    },
    "executionInfo": {
     "elapsed": 6,
     "status": "ok",
     "timestamp": 1638398526465,
     "user": {
      "displayName": "Cristian Izquierdo Romero",
      "photoUrl": "https://lh3.googleusercontent.com/a/default-user=s64",
      "userId": "07564615891092799627"
     },
     "user_tz": -60
    },
    "id": "OTSS_Xz4bZtE",
    "papermill": {
     "duration": 0.105022,
     "end_time": "2021-12-04T18:54:01.266611",
     "exception": false,
     "start_time": "2021-12-04T18:54:01.161589",
     "status": "completed"
    },
    "tags": []
   },
   "outputs": [],
   "source": [
    "dfTest.loc[dfTest['lesion_1'] > 0, 'lesion_1'] = 1\n",
    "dfTest.loc[dfTest['lesion_2'] > 0, 'lesion_2'] = 1\n",
    "dfTest.loc[dfTest['lesion_3'] > 0, 'lesion_3'] = 1\n",
    "\n",
    "dfTest['num_lesions'] = dfTest['lesion_1'] + dfTest['lesion_2'] + dfTest['lesion_3']\n",
    "dfTest = dfTest.drop(columns = ['lesion_1','lesion_2', 'lesion_3'], axis = 1)"
   ]
  },
  {
   "cell_type": "code",
   "execution_count": 41,
   "metadata": {},
   "outputs": [
    {
     "data": {
      "text/html": [
       "<div>\n",
       "<style scoped>\n",
       "    .dataframe tbody tr th:only-of-type {\n",
       "        vertical-align: middle;\n",
       "    }\n",
       "\n",
       "    .dataframe tbody tr th {\n",
       "        vertical-align: top;\n",
       "    }\n",
       "\n",
       "    .dataframe thead th {\n",
       "        text-align: right;\n",
       "    }\n",
       "</style>\n",
       "<table border=\"1\" class=\"dataframe\">\n",
       "  <thead>\n",
       "    <tr style=\"text-align: right;\">\n",
       "      <th></th>\n",
       "      <th>surgery</th>\n",
       "      <th>age</th>\n",
       "      <th>rectal_temp</th>\n",
       "      <th>pulse</th>\n",
       "      <th>respiratory_rate</th>\n",
       "      <th>temp_of_extremities</th>\n",
       "      <th>peripheral_pulse</th>\n",
       "      <th>mucous_membrane</th>\n",
       "      <th>capillary_refill_time</th>\n",
       "      <th>pain</th>\n",
       "      <th>...</th>\n",
       "      <th>nasogastric_reflux_ph</th>\n",
       "      <th>rectal_exam_feces</th>\n",
       "      <th>abdomen</th>\n",
       "      <th>packed_cell_volume</th>\n",
       "      <th>total_protein</th>\n",
       "      <th>abdomo_appearance</th>\n",
       "      <th>abdomo_protein</th>\n",
       "      <th>outcome</th>\n",
       "      <th>surgical_lesion</th>\n",
       "      <th>num_lesions</th>\n",
       "    </tr>\n",
       "  </thead>\n",
       "  <tbody>\n",
       "    <tr>\n",
       "      <th>281</th>\n",
       "      <td>yes</td>\n",
       "      <td>adult</td>\n",
       "      <td>NaN</td>\n",
       "      <td>70.0</td>\n",
       "      <td>16.0</td>\n",
       "      <td>cool</td>\n",
       "      <td>absent</td>\n",
       "      <td>bright_red</td>\n",
       "      <td>more_3_sec</td>\n",
       "      <td>depressed</td>\n",
       "      <td>...</td>\n",
       "      <td>NaN</td>\n",
       "      <td>absent</td>\n",
       "      <td>distend_large</td>\n",
       "      <td>60.0</td>\n",
       "      <td>7.5</td>\n",
       "      <td>NaN</td>\n",
       "      <td>NaN</td>\n",
       "      <td>died</td>\n",
       "      <td>yes</td>\n",
       "      <td>1</td>\n",
       "    </tr>\n",
       "    <tr>\n",
       "      <th>44</th>\n",
       "      <td>yes</td>\n",
       "      <td>adult</td>\n",
       "      <td>35.4</td>\n",
       "      <td>140.0</td>\n",
       "      <td>24.0</td>\n",
       "      <td>cool</td>\n",
       "      <td>reduced</td>\n",
       "      <td>pale_cyanotic</td>\n",
       "      <td>more_3_sec</td>\n",
       "      <td>severe_pain</td>\n",
       "      <td>...</td>\n",
       "      <td>NaN</td>\n",
       "      <td>NaN</td>\n",
       "      <td>distend_large</td>\n",
       "      <td>57.0</td>\n",
       "      <td>69.0</td>\n",
       "      <td>serosanguious</td>\n",
       "      <td>2.0</td>\n",
       "      <td>euthanized</td>\n",
       "      <td>yes</td>\n",
       "      <td>1</td>\n",
       "    </tr>\n",
       "    <tr>\n",
       "      <th>241</th>\n",
       "      <td>yes</td>\n",
       "      <td>adult</td>\n",
       "      <td>NaN</td>\n",
       "      <td>36.0</td>\n",
       "      <td>32.0</td>\n",
       "      <td>normal</td>\n",
       "      <td>normal</td>\n",
       "      <td>pale_cyanotic</td>\n",
       "      <td>less_3_sec</td>\n",
       "      <td>extreme_pain</td>\n",
       "      <td>...</td>\n",
       "      <td>4.0</td>\n",
       "      <td>NaN</td>\n",
       "      <td>distend_small</td>\n",
       "      <td>41.0</td>\n",
       "      <td>5.9</td>\n",
       "      <td>NaN</td>\n",
       "      <td>NaN</td>\n",
       "      <td>died</td>\n",
       "      <td>yes</td>\n",
       "      <td>1</td>\n",
       "    </tr>\n",
       "    <tr>\n",
       "      <th>189</th>\n",
       "      <td>yes</td>\n",
       "      <td>adult</td>\n",
       "      <td>37.1</td>\n",
       "      <td>40.0</td>\n",
       "      <td>8.0</td>\n",
       "      <td>NaN</td>\n",
       "      <td>normal</td>\n",
       "      <td>pale_cyanotic</td>\n",
       "      <td>less_3_sec</td>\n",
       "      <td>mild_pain</td>\n",
       "      <td>...</td>\n",
       "      <td>NaN</td>\n",
       "      <td>decreased</td>\n",
       "      <td>firm</td>\n",
       "      <td>23.0</td>\n",
       "      <td>6.7</td>\n",
       "      <td>serosanguious</td>\n",
       "      <td>NaN</td>\n",
       "      <td>lived</td>\n",
       "      <td>yes</td>\n",
       "      <td>1</td>\n",
       "    </tr>\n",
       "    <tr>\n",
       "      <th>152</th>\n",
       "      <td>no</td>\n",
       "      <td>adult</td>\n",
       "      <td>38.6</td>\n",
       "      <td>48.0</td>\n",
       "      <td>20.0</td>\n",
       "      <td>cool</td>\n",
       "      <td>normal</td>\n",
       "      <td>normal_pink</td>\n",
       "      <td>less_3_sec</td>\n",
       "      <td>alert</td>\n",
       "      <td>...</td>\n",
       "      <td>NaN</td>\n",
       "      <td>decreased</td>\n",
       "      <td>other</td>\n",
       "      <td>50.0</td>\n",
       "      <td>7.3</td>\n",
       "      <td>clear</td>\n",
       "      <td>NaN</td>\n",
       "      <td>lived</td>\n",
       "      <td>no</td>\n",
       "      <td>1</td>\n",
       "    </tr>\n",
       "    <tr>\n",
       "      <th>...</th>\n",
       "      <td>...</td>\n",
       "      <td>...</td>\n",
       "      <td>...</td>\n",
       "      <td>...</td>\n",
       "      <td>...</td>\n",
       "      <td>...</td>\n",
       "      <td>...</td>\n",
       "      <td>...</td>\n",
       "      <td>...</td>\n",
       "      <td>...</td>\n",
       "      <td>...</td>\n",
       "      <td>...</td>\n",
       "      <td>...</td>\n",
       "      <td>...</td>\n",
       "      <td>...</td>\n",
       "      <td>...</td>\n",
       "      <td>...</td>\n",
       "      <td>...</td>\n",
       "      <td>...</td>\n",
       "      <td>...</td>\n",
       "      <td>...</td>\n",
       "    </tr>\n",
       "    <tr>\n",
       "      <th>251</th>\n",
       "      <td>yes</td>\n",
       "      <td>young</td>\n",
       "      <td>38.8</td>\n",
       "      <td>124.0</td>\n",
       "      <td>36.0</td>\n",
       "      <td>cool</td>\n",
       "      <td>normal</td>\n",
       "      <td>bright_pink</td>\n",
       "      <td>less_3_sec</td>\n",
       "      <td>depressed</td>\n",
       "      <td>...</td>\n",
       "      <td>NaN</td>\n",
       "      <td>absent</td>\n",
       "      <td>distend_small</td>\n",
       "      <td>50.0</td>\n",
       "      <td>7.6</td>\n",
       "      <td>serosanguious</td>\n",
       "      <td>NaN</td>\n",
       "      <td>died</td>\n",
       "      <td>yes</td>\n",
       "      <td>1</td>\n",
       "    </tr>\n",
       "    <tr>\n",
       "      <th>192</th>\n",
       "      <td>yes</td>\n",
       "      <td>adult</td>\n",
       "      <td>NaN</td>\n",
       "      <td>60.0</td>\n",
       "      <td>48.0</td>\n",
       "      <td>cool</td>\n",
       "      <td>reduced</td>\n",
       "      <td>pale_cyanotic</td>\n",
       "      <td>more_3_sec</td>\n",
       "      <td>severe_pain</td>\n",
       "      <td>...</td>\n",
       "      <td>NaN</td>\n",
       "      <td>NaN</td>\n",
       "      <td>NaN</td>\n",
       "      <td>58.0</td>\n",
       "      <td>7.6</td>\n",
       "      <td>NaN</td>\n",
       "      <td>NaN</td>\n",
       "      <td>died</td>\n",
       "      <td>yes</td>\n",
       "      <td>1</td>\n",
       "    </tr>\n",
       "    <tr>\n",
       "      <th>117</th>\n",
       "      <td>no</td>\n",
       "      <td>adult</td>\n",
       "      <td>39.5</td>\n",
       "      <td>NaN</td>\n",
       "      <td>NaN</td>\n",
       "      <td>cool</td>\n",
       "      <td>reduced</td>\n",
       "      <td>pale_cyanotic</td>\n",
       "      <td>more_3_sec</td>\n",
       "      <td>mild_pain</td>\n",
       "      <td>...</td>\n",
       "      <td>5.5</td>\n",
       "      <td>absent</td>\n",
       "      <td>distend_large</td>\n",
       "      <td>NaN</td>\n",
       "      <td>6.7</td>\n",
       "      <td>clear</td>\n",
       "      <td>NaN</td>\n",
       "      <td>euthanized</td>\n",
       "      <td>yes</td>\n",
       "      <td>1</td>\n",
       "    </tr>\n",
       "    <tr>\n",
       "      <th>47</th>\n",
       "      <td>no</td>\n",
       "      <td>adult</td>\n",
       "      <td>37.5</td>\n",
       "      <td>48.0</td>\n",
       "      <td>16.0</td>\n",
       "      <td>normal</td>\n",
       "      <td>normal</td>\n",
       "      <td>normal_pink</td>\n",
       "      <td>less_3_sec</td>\n",
       "      <td>alert</td>\n",
       "      <td>...</td>\n",
       "      <td>NaN</td>\n",
       "      <td>normal</td>\n",
       "      <td>NaN</td>\n",
       "      <td>37.0</td>\n",
       "      <td>6.5</td>\n",
       "      <td>NaN</td>\n",
       "      <td>NaN</td>\n",
       "      <td>lived</td>\n",
       "      <td>no</td>\n",
       "      <td>0</td>\n",
       "    </tr>\n",
       "    <tr>\n",
       "      <th>172</th>\n",
       "      <td>yes</td>\n",
       "      <td>adult</td>\n",
       "      <td>NaN</td>\n",
       "      <td>104.0</td>\n",
       "      <td>NaN</td>\n",
       "      <td>cool</td>\n",
       "      <td>reduced</td>\n",
       "      <td>bright_red</td>\n",
       "      <td>more_3_sec</td>\n",
       "      <td>depressed</td>\n",
       "      <td>...</td>\n",
       "      <td>NaN</td>\n",
       "      <td>absent</td>\n",
       "      <td>distend_small</td>\n",
       "      <td>69.0</td>\n",
       "      <td>8.6</td>\n",
       "      <td>cloudy</td>\n",
       "      <td>3.4</td>\n",
       "      <td>died</td>\n",
       "      <td>yes</td>\n",
       "      <td>1</td>\n",
       "    </tr>\n",
       "  </tbody>\n",
       "</table>\n",
       "<p>209 rows × 24 columns</p>\n",
       "</div>"
      ],
      "text/plain": [
       "    surgery    age  rectal_temp  pulse  respiratory_rate temp_of_extremities  \\\n",
       "281     yes  adult          NaN   70.0              16.0                cool   \n",
       "44      yes  adult         35.4  140.0              24.0                cool   \n",
       "241     yes  adult          NaN   36.0              32.0              normal   \n",
       "189     yes  adult         37.1   40.0               8.0                 NaN   \n",
       "152      no  adult         38.6   48.0              20.0                cool   \n",
       "..      ...    ...          ...    ...               ...                 ...   \n",
       "251     yes  young         38.8  124.0              36.0                cool   \n",
       "192     yes  adult          NaN   60.0              48.0                cool   \n",
       "117      no  adult         39.5    NaN               NaN                cool   \n",
       "47       no  adult         37.5   48.0              16.0              normal   \n",
       "172     yes  adult          NaN  104.0               NaN                cool   \n",
       "\n",
       "    peripheral_pulse mucous_membrane capillary_refill_time          pain  ...  \\\n",
       "281           absent      bright_red            more_3_sec     depressed  ...   \n",
       "44           reduced   pale_cyanotic            more_3_sec   severe_pain  ...   \n",
       "241           normal   pale_cyanotic            less_3_sec  extreme_pain  ...   \n",
       "189           normal   pale_cyanotic            less_3_sec     mild_pain  ...   \n",
       "152           normal     normal_pink            less_3_sec         alert  ...   \n",
       "..               ...             ...                   ...           ...  ...   \n",
       "251           normal     bright_pink            less_3_sec     depressed  ...   \n",
       "192          reduced   pale_cyanotic            more_3_sec   severe_pain  ...   \n",
       "117          reduced   pale_cyanotic            more_3_sec     mild_pain  ...   \n",
       "47            normal     normal_pink            less_3_sec         alert  ...   \n",
       "172          reduced      bright_red            more_3_sec     depressed  ...   \n",
       "\n",
       "    nasogastric_reflux_ph rectal_exam_feces        abdomen packed_cell_volume  \\\n",
       "281                   NaN            absent  distend_large               60.0   \n",
       "44                    NaN               NaN  distend_large               57.0   \n",
       "241                   4.0               NaN  distend_small               41.0   \n",
       "189                   NaN         decreased           firm               23.0   \n",
       "152                   NaN         decreased          other               50.0   \n",
       "..                    ...               ...            ...                ...   \n",
       "251                   NaN            absent  distend_small               50.0   \n",
       "192                   NaN               NaN            NaN               58.0   \n",
       "117                   5.5            absent  distend_large                NaN   \n",
       "47                    NaN            normal            NaN               37.0   \n",
       "172                   NaN            absent  distend_small               69.0   \n",
       "\n",
       "     total_protein abdomo_appearance abdomo_protein     outcome  \\\n",
       "281            7.5               NaN            NaN        died   \n",
       "44            69.0     serosanguious            2.0  euthanized   \n",
       "241            5.9               NaN            NaN        died   \n",
       "189            6.7     serosanguious            NaN       lived   \n",
       "152            7.3             clear            NaN       lived   \n",
       "..             ...               ...            ...         ...   \n",
       "251            7.6     serosanguious            NaN        died   \n",
       "192            7.6               NaN            NaN        died   \n",
       "117            6.7             clear            NaN  euthanized   \n",
       "47             6.5               NaN            NaN       lived   \n",
       "172            8.6            cloudy            3.4        died   \n",
       "\n",
       "     surgical_lesion num_lesions  \n",
       "281              yes           1  \n",
       "44               yes           1  \n",
       "241              yes           1  \n",
       "189              yes           1  \n",
       "152               no           1  \n",
       "..               ...         ...  \n",
       "251              yes           1  \n",
       "192              yes           1  \n",
       "117              yes           1  \n",
       "47                no           0  \n",
       "172              yes           1  \n",
       "\n",
       "[209 rows x 24 columns]"
      ]
     },
     "execution_count": 41,
     "metadata": {},
     "output_type": "execute_result"
    }
   ],
   "source": [
    "dfTrain"
   ]
  },
  {
   "cell_type": "code",
   "execution_count": 42,
   "metadata": {
    "execution": {
     "iopub.execute_input": "2021-12-04T18:54:01.460209Z",
     "iopub.status.busy": "2021-12-04T18:54:01.453923Z",
     "iopub.status.idle": "2021-12-04T18:54:01.472724Z",
     "shell.execute_reply": "2021-12-04T18:54:01.473261Z",
     "shell.execute_reply.started": "2021-12-04T18:48:36.730210Z"
    },
    "papermill": {
     "duration": 0.113888,
     "end_time": "2021-12-04T18:54:01.473434",
     "exception": false,
     "start_time": "2021-12-04T18:54:01.359546",
     "status": "completed"
    },
    "tags": []
   },
   "outputs": [],
   "source": [
    "def OrdinalEncoder(df): #This manual ordinal encoder was done looking at the documentation to ensure they follow the correct scale (for ex: more pain -> bigger number)\n",
    "    df['surgery'] = df['surgery'].map({'yes':1,'no':2}).astype('float64')\n",
    "    df['age'] = df['age'].map({'adult':1,'young':2}).astype('float64')\n",
    "    df['temp_of_extremities'] = df['temp_of_extremities'].map({'normal':1,'warm':2,'cool':3,'cold':4}).astype('float64')\n",
    "    df['peripheral_pulse'] = df['peripheral_pulse'].map({'increased':2,'normal':1,'reduced':3,'absent':4}).astype('float64')\n",
    "    df['mucous_membrane'] = df['mucous_membrane'].map({'dark_cyanotic':6,'bright_red':5,'pale_cyanotic':4,'pale_pink':3,'bright_pink':2,'normal_pink':1}).astype('float64')\n",
    "    df['capillary_refill_time'] = df['capillary_refill_time'].map({'more_3_sec':3, '3':2, 'less_3_sec':1}).astype('float64')\n",
    "    df['pain'] = df['pain'].map({'extreme_pain':5, 'severe_pain':4, 'mild_pain':3, 'depressed':2, 'alert':1}).astype('float64')\n",
    "    df['peristalsis'] = df['peristalsis'].map({'absent':4, 'hypomotile':3, 'normal':2, 'hypermotile':1}).astype('float64')\n",
    "    df['abdominal_distention'] = df['abdominal_distention'].map({'severe':4,'moderate':3,'slight':2,'none':1}).astype('float64')\n",
    "    df['nasogastric_tube'] = df['nasogastric_tube'].map({'significant':3, 'slight':2, 'none':1}).astype('float64')\n",
    "    df['nasogastric_reflux'] = df['nasogastric_reflux'].map({'more_1_liter':3, 'less_1_liter':2, 'none':0}).astype('float64')\n",
    "    df['rectal_exam_feces'] = df['rectal_exam_feces'].map({'absent':4, 'decreased':3, 'increased':2, 'normal':1}).astype('float64')\n",
    "    df['abdomen'] = df['abdomen'].map({'distend_large':5, 'distend_small':4, 'firm':3, 'other':2, 'normal':1}).astype('float64')\n",
    "    df['abdomo_appearance'] = df['abdomo_appearance'].map({'serosanguious':3, 'cloudy':2, 'clear':1}).astype('float64')\n",
    "    df['outcome'] = df['outcome'].map({'euthanized':3, 'died':2, 'lived':1}).astype('float64')\n",
    "    df['surgical_lesion'] = df['surgical_lesion'].map({'yes':1,'no':0}).astype('float64')\n",
    "    return df"
   ]
  },
  {
   "cell_type": "code",
   "execution_count": 43,
   "metadata": {
    "execution": {
     "iopub.execute_input": "2021-12-04T18:54:01.664845Z",
     "iopub.status.busy": "2021-12-04T18:54:01.661632Z",
     "iopub.status.idle": "2021-12-04T18:54:01.699445Z",
     "shell.execute_reply": "2021-12-04T18:54:01.699937Z",
     "shell.execute_reply.started": "2021-12-04T18:48:36.747624Z"
    },
    "papermill": {
     "duration": 0.133207,
     "end_time": "2021-12-04T18:54:01.700118",
     "exception": false,
     "start_time": "2021-12-04T18:54:01.566911",
     "status": "completed"
    },
    "tags": []
   },
   "outputs": [
    {
     "data": {
      "text/plain": [
       "surgery                  float64\n",
       "age                      float64\n",
       "rectal_temp              float64\n",
       "pulse                    float64\n",
       "respiratory_rate         float64\n",
       "temp_of_extremities      float64\n",
       "peripheral_pulse         float64\n",
       "mucous_membrane          float64\n",
       "capillary_refill_time    float64\n",
       "pain                     float64\n",
       "peristalsis              float64\n",
       "abdominal_distention     float64\n",
       "nasogastric_tube         float64\n",
       "nasogastric_reflux       float64\n",
       "nasogastric_reflux_ph    float64\n",
       "rectal_exam_feces        float64\n",
       "abdomen                  float64\n",
       "packed_cell_volume       float64\n",
       "total_protein            float64\n",
       "abdomo_appearance        float64\n",
       "abdomo_protein           float64\n",
       "outcome                  float64\n",
       "surgical_lesion          float64\n",
       "num_lesions                int64\n",
       "dtype: object"
      ]
     },
     "execution_count": 43,
     "metadata": {},
     "output_type": "execute_result"
    }
   ],
   "source": [
    "dfTrain = OrdinalEncoder(dfTrain)\n",
    "dfTest = OrdinalEncoder(dfTest)\n",
    "dfTrain.dtypes"
   ]
  },
  {
   "cell_type": "code",
   "execution_count": 44,
   "metadata": {},
   "outputs": [
    {
     "data": {
      "text/html": [
       "<div>\n",
       "<style scoped>\n",
       "    .dataframe tbody tr th:only-of-type {\n",
       "        vertical-align: middle;\n",
       "    }\n",
       "\n",
       "    .dataframe tbody tr th {\n",
       "        vertical-align: top;\n",
       "    }\n",
       "\n",
       "    .dataframe thead th {\n",
       "        text-align: right;\n",
       "    }\n",
       "</style>\n",
       "<table border=\"1\" class=\"dataframe\">\n",
       "  <thead>\n",
       "    <tr style=\"text-align: right;\">\n",
       "      <th></th>\n",
       "      <th>surgery</th>\n",
       "      <th>age</th>\n",
       "      <th>rectal_temp</th>\n",
       "      <th>pulse</th>\n",
       "      <th>respiratory_rate</th>\n",
       "      <th>temp_of_extremities</th>\n",
       "      <th>peripheral_pulse</th>\n",
       "      <th>mucous_membrane</th>\n",
       "      <th>capillary_refill_time</th>\n",
       "      <th>pain</th>\n",
       "      <th>...</th>\n",
       "      <th>nasogastric_reflux_ph</th>\n",
       "      <th>rectal_exam_feces</th>\n",
       "      <th>abdomen</th>\n",
       "      <th>packed_cell_volume</th>\n",
       "      <th>total_protein</th>\n",
       "      <th>abdomo_appearance</th>\n",
       "      <th>abdomo_protein</th>\n",
       "      <th>outcome</th>\n",
       "      <th>surgical_lesion</th>\n",
       "      <th>num_lesions</th>\n",
       "    </tr>\n",
       "  </thead>\n",
       "  <tbody>\n",
       "    <tr>\n",
       "      <th>281</th>\n",
       "      <td>1.0</td>\n",
       "      <td>1.0</td>\n",
       "      <td>NaN</td>\n",
       "      <td>70.0</td>\n",
       "      <td>16.0</td>\n",
       "      <td>3.0</td>\n",
       "      <td>4.0</td>\n",
       "      <td>5.0</td>\n",
       "      <td>3.0</td>\n",
       "      <td>2.0</td>\n",
       "      <td>...</td>\n",
       "      <td>NaN</td>\n",
       "      <td>4.0</td>\n",
       "      <td>5.0</td>\n",
       "      <td>60.0</td>\n",
       "      <td>7.5</td>\n",
       "      <td>NaN</td>\n",
       "      <td>NaN</td>\n",
       "      <td>2.0</td>\n",
       "      <td>1.0</td>\n",
       "      <td>1</td>\n",
       "    </tr>\n",
       "    <tr>\n",
       "      <th>44</th>\n",
       "      <td>1.0</td>\n",
       "      <td>1.0</td>\n",
       "      <td>35.4</td>\n",
       "      <td>140.0</td>\n",
       "      <td>24.0</td>\n",
       "      <td>3.0</td>\n",
       "      <td>3.0</td>\n",
       "      <td>4.0</td>\n",
       "      <td>3.0</td>\n",
       "      <td>4.0</td>\n",
       "      <td>...</td>\n",
       "      <td>NaN</td>\n",
       "      <td>NaN</td>\n",
       "      <td>5.0</td>\n",
       "      <td>57.0</td>\n",
       "      <td>69.0</td>\n",
       "      <td>3.0</td>\n",
       "      <td>2.0</td>\n",
       "      <td>3.0</td>\n",
       "      <td>1.0</td>\n",
       "      <td>1</td>\n",
       "    </tr>\n",
       "    <tr>\n",
       "      <th>241</th>\n",
       "      <td>1.0</td>\n",
       "      <td>1.0</td>\n",
       "      <td>NaN</td>\n",
       "      <td>36.0</td>\n",
       "      <td>32.0</td>\n",
       "      <td>1.0</td>\n",
       "      <td>1.0</td>\n",
       "      <td>4.0</td>\n",
       "      <td>1.0</td>\n",
       "      <td>5.0</td>\n",
       "      <td>...</td>\n",
       "      <td>4.0</td>\n",
       "      <td>NaN</td>\n",
       "      <td>4.0</td>\n",
       "      <td>41.0</td>\n",
       "      <td>5.9</td>\n",
       "      <td>NaN</td>\n",
       "      <td>NaN</td>\n",
       "      <td>2.0</td>\n",
       "      <td>1.0</td>\n",
       "      <td>1</td>\n",
       "    </tr>\n",
       "    <tr>\n",
       "      <th>189</th>\n",
       "      <td>1.0</td>\n",
       "      <td>1.0</td>\n",
       "      <td>37.1</td>\n",
       "      <td>40.0</td>\n",
       "      <td>8.0</td>\n",
       "      <td>NaN</td>\n",
       "      <td>1.0</td>\n",
       "      <td>4.0</td>\n",
       "      <td>1.0</td>\n",
       "      <td>3.0</td>\n",
       "      <td>...</td>\n",
       "      <td>NaN</td>\n",
       "      <td>3.0</td>\n",
       "      <td>3.0</td>\n",
       "      <td>23.0</td>\n",
       "      <td>6.7</td>\n",
       "      <td>3.0</td>\n",
       "      <td>NaN</td>\n",
       "      <td>1.0</td>\n",
       "      <td>1.0</td>\n",
       "      <td>1</td>\n",
       "    </tr>\n",
       "    <tr>\n",
       "      <th>152</th>\n",
       "      <td>2.0</td>\n",
       "      <td>1.0</td>\n",
       "      <td>38.6</td>\n",
       "      <td>48.0</td>\n",
       "      <td>20.0</td>\n",
       "      <td>3.0</td>\n",
       "      <td>1.0</td>\n",
       "      <td>1.0</td>\n",
       "      <td>1.0</td>\n",
       "      <td>1.0</td>\n",
       "      <td>...</td>\n",
       "      <td>NaN</td>\n",
       "      <td>3.0</td>\n",
       "      <td>2.0</td>\n",
       "      <td>50.0</td>\n",
       "      <td>7.3</td>\n",
       "      <td>1.0</td>\n",
       "      <td>NaN</td>\n",
       "      <td>1.0</td>\n",
       "      <td>0.0</td>\n",
       "      <td>1</td>\n",
       "    </tr>\n",
       "    <tr>\n",
       "      <th>...</th>\n",
       "      <td>...</td>\n",
       "      <td>...</td>\n",
       "      <td>...</td>\n",
       "      <td>...</td>\n",
       "      <td>...</td>\n",
       "      <td>...</td>\n",
       "      <td>...</td>\n",
       "      <td>...</td>\n",
       "      <td>...</td>\n",
       "      <td>...</td>\n",
       "      <td>...</td>\n",
       "      <td>...</td>\n",
       "      <td>...</td>\n",
       "      <td>...</td>\n",
       "      <td>...</td>\n",
       "      <td>...</td>\n",
       "      <td>...</td>\n",
       "      <td>...</td>\n",
       "      <td>...</td>\n",
       "      <td>...</td>\n",
       "      <td>...</td>\n",
       "    </tr>\n",
       "    <tr>\n",
       "      <th>251</th>\n",
       "      <td>1.0</td>\n",
       "      <td>2.0</td>\n",
       "      <td>38.8</td>\n",
       "      <td>124.0</td>\n",
       "      <td>36.0</td>\n",
       "      <td>3.0</td>\n",
       "      <td>1.0</td>\n",
       "      <td>2.0</td>\n",
       "      <td>1.0</td>\n",
       "      <td>2.0</td>\n",
       "      <td>...</td>\n",
       "      <td>NaN</td>\n",
       "      <td>4.0</td>\n",
       "      <td>4.0</td>\n",
       "      <td>50.0</td>\n",
       "      <td>7.6</td>\n",
       "      <td>3.0</td>\n",
       "      <td>NaN</td>\n",
       "      <td>2.0</td>\n",
       "      <td>1.0</td>\n",
       "      <td>1</td>\n",
       "    </tr>\n",
       "    <tr>\n",
       "      <th>192</th>\n",
       "      <td>1.0</td>\n",
       "      <td>1.0</td>\n",
       "      <td>NaN</td>\n",
       "      <td>60.0</td>\n",
       "      <td>48.0</td>\n",
       "      <td>3.0</td>\n",
       "      <td>3.0</td>\n",
       "      <td>4.0</td>\n",
       "      <td>3.0</td>\n",
       "      <td>4.0</td>\n",
       "      <td>...</td>\n",
       "      <td>NaN</td>\n",
       "      <td>NaN</td>\n",
       "      <td>NaN</td>\n",
       "      <td>58.0</td>\n",
       "      <td>7.6</td>\n",
       "      <td>NaN</td>\n",
       "      <td>NaN</td>\n",
       "      <td>2.0</td>\n",
       "      <td>1.0</td>\n",
       "      <td>1</td>\n",
       "    </tr>\n",
       "    <tr>\n",
       "      <th>117</th>\n",
       "      <td>2.0</td>\n",
       "      <td>1.0</td>\n",
       "      <td>39.5</td>\n",
       "      <td>NaN</td>\n",
       "      <td>NaN</td>\n",
       "      <td>3.0</td>\n",
       "      <td>3.0</td>\n",
       "      <td>4.0</td>\n",
       "      <td>3.0</td>\n",
       "      <td>3.0</td>\n",
       "      <td>...</td>\n",
       "      <td>5.5</td>\n",
       "      <td>4.0</td>\n",
       "      <td>5.0</td>\n",
       "      <td>NaN</td>\n",
       "      <td>6.7</td>\n",
       "      <td>1.0</td>\n",
       "      <td>NaN</td>\n",
       "      <td>3.0</td>\n",
       "      <td>1.0</td>\n",
       "      <td>1</td>\n",
       "    </tr>\n",
       "    <tr>\n",
       "      <th>47</th>\n",
       "      <td>2.0</td>\n",
       "      <td>1.0</td>\n",
       "      <td>37.5</td>\n",
       "      <td>48.0</td>\n",
       "      <td>16.0</td>\n",
       "      <td>1.0</td>\n",
       "      <td>1.0</td>\n",
       "      <td>1.0</td>\n",
       "      <td>1.0</td>\n",
       "      <td>1.0</td>\n",
       "      <td>...</td>\n",
       "      <td>NaN</td>\n",
       "      <td>1.0</td>\n",
       "      <td>NaN</td>\n",
       "      <td>37.0</td>\n",
       "      <td>6.5</td>\n",
       "      <td>NaN</td>\n",
       "      <td>NaN</td>\n",
       "      <td>1.0</td>\n",
       "      <td>0.0</td>\n",
       "      <td>0</td>\n",
       "    </tr>\n",
       "    <tr>\n",
       "      <th>172</th>\n",
       "      <td>1.0</td>\n",
       "      <td>1.0</td>\n",
       "      <td>NaN</td>\n",
       "      <td>104.0</td>\n",
       "      <td>NaN</td>\n",
       "      <td>3.0</td>\n",
       "      <td>3.0</td>\n",
       "      <td>5.0</td>\n",
       "      <td>3.0</td>\n",
       "      <td>2.0</td>\n",
       "      <td>...</td>\n",
       "      <td>NaN</td>\n",
       "      <td>4.0</td>\n",
       "      <td>4.0</td>\n",
       "      <td>69.0</td>\n",
       "      <td>8.6</td>\n",
       "      <td>2.0</td>\n",
       "      <td>3.4</td>\n",
       "      <td>2.0</td>\n",
       "      <td>1.0</td>\n",
       "      <td>1</td>\n",
       "    </tr>\n",
       "  </tbody>\n",
       "</table>\n",
       "<p>209 rows × 24 columns</p>\n",
       "</div>"
      ],
      "text/plain": [
       "     surgery  age  rectal_temp  pulse  respiratory_rate  temp_of_extremities  \\\n",
       "281      1.0  1.0          NaN   70.0              16.0                  3.0   \n",
       "44       1.0  1.0         35.4  140.0              24.0                  3.0   \n",
       "241      1.0  1.0          NaN   36.0              32.0                  1.0   \n",
       "189      1.0  1.0         37.1   40.0               8.0                  NaN   \n",
       "152      2.0  1.0         38.6   48.0              20.0                  3.0   \n",
       "..       ...  ...          ...    ...               ...                  ...   \n",
       "251      1.0  2.0         38.8  124.0              36.0                  3.0   \n",
       "192      1.0  1.0          NaN   60.0              48.0                  3.0   \n",
       "117      2.0  1.0         39.5    NaN               NaN                  3.0   \n",
       "47       2.0  1.0         37.5   48.0              16.0                  1.0   \n",
       "172      1.0  1.0          NaN  104.0               NaN                  3.0   \n",
       "\n",
       "     peripheral_pulse  mucous_membrane  capillary_refill_time  pain  ...  \\\n",
       "281               4.0              5.0                    3.0   2.0  ...   \n",
       "44                3.0              4.0                    3.0   4.0  ...   \n",
       "241               1.0              4.0                    1.0   5.0  ...   \n",
       "189               1.0              4.0                    1.0   3.0  ...   \n",
       "152               1.0              1.0                    1.0   1.0  ...   \n",
       "..                ...              ...                    ...   ...  ...   \n",
       "251               1.0              2.0                    1.0   2.0  ...   \n",
       "192               3.0              4.0                    3.0   4.0  ...   \n",
       "117               3.0              4.0                    3.0   3.0  ...   \n",
       "47                1.0              1.0                    1.0   1.0  ...   \n",
       "172               3.0              5.0                    3.0   2.0  ...   \n",
       "\n",
       "     nasogastric_reflux_ph  rectal_exam_feces  abdomen  packed_cell_volume  \\\n",
       "281                    NaN                4.0      5.0                60.0   \n",
       "44                     NaN                NaN      5.0                57.0   \n",
       "241                    4.0                NaN      4.0                41.0   \n",
       "189                    NaN                3.0      3.0                23.0   \n",
       "152                    NaN                3.0      2.0                50.0   \n",
       "..                     ...                ...      ...                 ...   \n",
       "251                    NaN                4.0      4.0                50.0   \n",
       "192                    NaN                NaN      NaN                58.0   \n",
       "117                    5.5                4.0      5.0                 NaN   \n",
       "47                     NaN                1.0      NaN                37.0   \n",
       "172                    NaN                4.0      4.0                69.0   \n",
       "\n",
       "     total_protein  abdomo_appearance  abdomo_protein  outcome  \\\n",
       "281            7.5                NaN             NaN      2.0   \n",
       "44            69.0                3.0             2.0      3.0   \n",
       "241            5.9                NaN             NaN      2.0   \n",
       "189            6.7                3.0             NaN      1.0   \n",
       "152            7.3                1.0             NaN      1.0   \n",
       "..             ...                ...             ...      ...   \n",
       "251            7.6                3.0             NaN      2.0   \n",
       "192            7.6                NaN             NaN      2.0   \n",
       "117            6.7                1.0             NaN      3.0   \n",
       "47             6.5                NaN             NaN      1.0   \n",
       "172            8.6                2.0             3.4      2.0   \n",
       "\n",
       "     surgical_lesion  num_lesions  \n",
       "281              1.0            1  \n",
       "44               1.0            1  \n",
       "241              1.0            1  \n",
       "189              1.0            1  \n",
       "152              0.0            1  \n",
       "..               ...          ...  \n",
       "251              1.0            1  \n",
       "192              1.0            1  \n",
       "117              1.0            1  \n",
       "47               0.0            0  \n",
       "172              1.0            1  \n",
       "\n",
       "[209 rows x 24 columns]"
      ]
     },
     "execution_count": 44,
     "metadata": {},
     "output_type": "execute_result"
    }
   ],
   "source": [
    "dfTrain"
   ]
  },
  {
   "cell_type": "code",
   "execution_count": 45,
   "metadata": {
    "execution": {
     "iopub.execute_input": "2021-12-04T18:54:01.891133Z",
     "iopub.status.busy": "2021-12-04T18:54:01.890483Z",
     "iopub.status.idle": "2021-12-04T18:54:01.895459Z",
     "shell.execute_reply": "2021-12-04T18:54:01.895984Z",
     "shell.execute_reply.started": "2021-12-04T18:48:36.802637Z"
    },
    "papermill": {
     "duration": 0.101418,
     "end_time": "2021-12-04T18:54:01.896163",
     "exception": false,
     "start_time": "2021-12-04T18:54:01.794745",
     "status": "completed"
    },
    "tags": []
   },
   "outputs": [],
   "source": [
    "y_test = dfTest['outcome']\n",
    "dfTest.drop(columns = ['outcome'], axis = 1, inplace = True)"
   ]
  },
  {
   "cell_type": "markdown",
   "metadata": {
    "id": "-tDLszhXZ9wO",
    "papermill": {
     "duration": 0.093331,
     "end_time": "2021-12-04T18:54:02.082679",
     "exception": false,
     "start_time": "2021-12-04T18:54:01.989348",
     "status": "completed"
    },
    "tags": []
   },
   "source": [
    "# **DATA VISUALIZATION**"
   ]
  },
  {
   "cell_type": "markdown",
   "metadata": {
    "id": "SSeahQJ3ade2",
    "papermill": {
     "duration": 0.091725,
     "end_time": "2021-12-04T18:54:02.268819",
     "exception": false,
     "start_time": "2021-12-04T18:54:02.177094",
     "status": "completed"
    },
    "tags": []
   },
   "source": [
    "Now lets take a glance at the correlation between features to decide how we will fill the missing values or nulls."
   ]
  },
  {
   "cell_type": "code",
   "execution_count": 46,
   "metadata": {
    "execution": {
     "iopub.execute_input": "2021-12-04T18:54:02.467918Z",
     "iopub.status.busy": "2021-12-04T18:54:02.467204Z",
     "iopub.status.idle": "2021-12-04T18:54:06.037312Z",
     "shell.execute_reply": "2021-12-04T18:54:06.037831Z",
     "shell.execute_reply.started": "2021-12-04T18:48:36.813457Z"
    },
    "executionInfo": {
     "elapsed": 3511,
     "status": "ok",
     "timestamp": 1638398529971,
     "user": {
      "displayName": "Cristian Izquierdo Romero",
      "photoUrl": "https://lh3.googleusercontent.com/a/default-user=s64",
      "userId": "07564615891092799627"
     },
     "user_tz": -60
    },
    "id": "E6ev3PWbaW7U",
    "outputId": "768627d5-ffe7-4ac6-90bc-53c9e2c6c79e",
    "papermill": {
     "duration": 3.67592,
     "end_time": "2021-12-04T18:54:06.038011",
     "exception": false,
     "start_time": "2021-12-04T18:54:02.362091",
     "status": "completed"
    },
    "tags": []
   },
   "outputs": [
    {
     "data": {
      "text/plain": [
       "<matplotlib.axes._subplots.AxesSubplot at 0x21c69728f70>"
      ]
     },
     "execution_count": 46,
     "metadata": {},
     "output_type": "execute_result"
    },
    {
     "data": {
      "image/png": "[encoded data removed]",
      "text/plain": [
       "<Figure size 1728x864 with 2 Axes>"
      ]
     },
     "metadata": {
      "needs_background": "light"
     },
     "output_type": "display_data"
    }
   ],
   "source": [
    "plt.figure(figsize=(24,12))\n",
    "sns.heatmap(dfTrain.corr(),cmap='magma_r',annot=True)"
   ]
  },
  {
   "cell_type": "code",
   "execution_count": 47,
   "metadata": {
    "execution": {
     "iopub.execute_input": "2021-12-04T18:54:22.756380Z",
     "iopub.status.busy": "2021-12-04T18:54:22.755373Z",
     "iopub.status.idle": "2021-12-04T18:54:23.040437Z",
     "shell.execute_reply": "2021-12-04T18:54:23.040977Z",
     "shell.execute_reply.started": "2021-12-04T18:48:55.853188Z"
    },
    "executionInfo": {
     "elapsed": 15,
     "status": "ok",
     "timestamp": 1638398556766,
     "user": {
      "displayName": "Cristian Izquierdo Romero",
      "photoUrl": "https://lh3.googleusercontent.com/a/default-user=s64",
      "userId": "07564615891092799627"
     },
     "user_tz": -60
    },
    "id": "14mkxWw-kdGY",
    "outputId": "b3a4ed9b-119f-4014-a480-9191403a1b05",
    "papermill": {
     "duration": 0.416227,
     "end_time": "2021-12-04T18:54:23.041164",
     "exception": false,
     "start_time": "2021-12-04T18:54:22.624937",
     "status": "completed"
    },
    "tags": []
   },
   "outputs": [
    {
     "data": {
      "text/plain": [
       "<matplotlib.axes._subplots.AxesSubplot at 0x21c6da860d0>"
      ]
     },
     "execution_count": 47,
     "metadata": {},
     "output_type": "execute_result"
    },
    {
     "data": {
      "image/png": "[encoded data removed]",
      "text/plain": [
       "<Figure size 432x288 with 1 Axes>"
      ]
     },
     "metadata": {
      "needs_background": "light"
     },
     "output_type": "display_data"
    }
   ],
   "source": [
    "sns.countplot(data=dfTrain, x='pain', hue = 'outcome') #We can see how the bigger the pain, the less the chance of survival"
   ]
  },
  {
   "cell_type": "code",
   "execution_count": 48,
   "metadata": {
    "execution": {
     "iopub.execute_input": "2021-12-04T18:54:23.302984Z",
     "iopub.status.busy": "2021-12-04T18:54:23.302030Z",
     "iopub.status.idle": "2021-12-04T18:54:23.590229Z",
     "shell.execute_reply": "2021-12-04T18:54:23.590727Z",
     "shell.execute_reply.started": "2021-12-04T18:48:56.147414Z"
    },
    "executionInfo": {
     "elapsed": 576,
     "status": "ok",
     "timestamp": 1638398557330,
     "user": {
      "displayName": "Cristian Izquierdo Romero",
      "photoUrl": "https://lh3.googleusercontent.com/a/default-user=s64",
      "userId": "07564615891092799627"
     },
     "user_tz": -60
    },
    "id": "Fqm_o3RQlRcF",
    "outputId": "c2dff5be-7dce-4afa-a0b5-6a5834232044",
    "papermill": {
     "duration": 0.421264,
     "end_time": "2021-12-04T18:54:23.590910",
     "exception": false,
     "start_time": "2021-12-04T18:54:23.169646",
     "status": "completed"
    },
    "tags": []
   },
   "outputs": [
    {
     "data": {
      "text/plain": [
       "<matplotlib.axes._subplots.AxesSubplot at 0x21c6da69bb0>"
      ]
     },
     "execution_count": 48,
     "metadata": {},
     "output_type": "execute_result"
    },
    {
     "data": {
      "image/png": "[encoded data removed]",
      "text/plain": [
       "<Figure size 432x288 with 1 Axes>"
      ]
     },
     "metadata": {
      "needs_background": "light"
     },
     "output_type": "display_data"
    }
   ],
   "source": [
    "sns.countplot(data=dfTrain, x='mucous_membrane', hue = 'outcome') #We can see how the worse the circulation-> less the chance of survival"
   ]
  },
  {
   "cell_type": "code",
   "execution_count": 49,
   "metadata": {
    "execution": {
     "iopub.execute_input": "2021-12-04T18:54:23.854609Z",
     "iopub.status.busy": "2021-12-04T18:54:23.853605Z",
     "iopub.status.idle": "2021-12-04T18:54:24.094175Z",
     "shell.execute_reply": "2021-12-04T18:54:24.094658Z",
     "shell.execute_reply.started": "2021-12-04T18:48:56.434535Z"
    },
    "executionInfo": {
     "elapsed": 11,
     "status": "ok",
     "timestamp": 1638398557330,
     "user": {
      "displayName": "Cristian Izquierdo Romero",
      "photoUrl": "https://lh3.googleusercontent.com/a/default-user=s64",
      "userId": "07564615891092799627"
     },
     "user_tz": -60
    },
    "id": "C3z-bthjmThc",
    "outputId": "275c95fd-14b5-424a-d236-f69a06212053",
    "papermill": {
     "duration": 0.37406,
     "end_time": "2021-12-04T18:54:24.094833",
     "exception": false,
     "start_time": "2021-12-04T18:54:23.720773",
     "status": "completed"
    },
    "tags": []
   },
   "outputs": [
    {
     "data": {
      "text/plain": [
       "<matplotlib.axes._subplots.AxesSubplot at 0x21c6cfdefa0>"
      ]
     },
     "execution_count": 49,
     "metadata": {},
     "output_type": "execute_result"
    },
    {
     "data": {
      "image/png": "[encoded data removed]",
      "text/plain": [
       "<Figure size 432x288 with 1 Axes>"
      ]
     },
     "metadata": {
      "needs_background": "light"
     },
     "output_type": "display_data"
    }
   ],
   "source": [
    "sns.countplot(data=dfTrain, x='capillary_refill_time', hue = 'outcome') #We can see how the worse the circulation-> less the chance of survival"
   ]
  },
  {
   "cell_type": "code",
   "execution_count": 50,
   "metadata": {
    "execution": {
     "iopub.execute_input": "2021-12-04T18:54:24.362321Z",
     "iopub.status.busy": "2021-12-04T18:54:24.359251Z",
     "iopub.status.idle": "2021-12-04T18:54:24.624270Z",
     "shell.execute_reply": "2021-12-04T18:54:24.624840Z",
     "shell.execute_reply.started": "2021-12-04T18:48:56.674616Z"
    },
    "executionInfo": {
     "elapsed": 11,
     "status": "ok",
     "timestamp": 1638398557331,
     "user": {
      "displayName": "Cristian Izquierdo Romero",
      "photoUrl": "https://lh3.googleusercontent.com/a/default-user=s64",
      "userId": "07564615891092799627"
     },
     "user_tz": -60
    },
    "id": "1UZurwErmfI7",
    "outputId": "d2d163b3-a820-4a18-94bc-355331a15c47",
    "papermill": {
     "duration": 0.398649,
     "end_time": "2021-12-04T18:54:24.625010",
     "exception": false,
     "start_time": "2021-12-04T18:54:24.226361",
     "status": "completed"
    },
    "tags": []
   },
   "outputs": [
    {
     "data": {
      "text/plain": [
       "<matplotlib.axes._subplots.AxesSubplot at 0x21c6d526520>"
      ]
     },
     "execution_count": 50,
     "metadata": {},
     "output_type": "execute_result"
    },
    {
     "data": {
      "image/png": "[encoded data removed]",
      "text/plain": [
       "<Figure size 432x288 with 1 Axes>"
      ]
     },
     "metadata": {
      "needs_background": "light"
     },
     "output_type": "display_data"
    }
   ],
   "source": [
    "sns.countplot(data=dfTrain, x='peristalsis', hue = 'outcome') #the lesser the activity on the horses gut the lesser the chance of survival"
   ]
  },
  {
   "cell_type": "code",
   "execution_count": 51,
   "metadata": {
    "execution": {
     "iopub.execute_input": "2021-12-04T18:54:24.894669Z",
     "iopub.status.busy": "2021-12-04T18:54:24.893723Z",
     "iopub.status.idle": "2021-12-04T18:54:25.150266Z",
     "shell.execute_reply": "2021-12-04T18:54:25.150805Z",
     "shell.execute_reply.started": "2021-12-04T18:48:56.945324Z"
    },
    "executionInfo": {
     "elapsed": 9,
     "status": "ok",
     "timestamp": 1638398557331,
     "user": {
      "displayName": "Cristian Izquierdo Romero",
      "photoUrl": "https://lh3.googleusercontent.com/a/default-user=s64",
      "userId": "07564615891092799627"
     },
     "user_tz": -60
    },
    "id": "cwUGJ5ZHmiZi",
    "outputId": "4989af12-bf1c-45f5-a7a5-2445c5e4eae1",
    "papermill": {
     "duration": 0.393463,
     "end_time": "2021-12-04T18:54:25.150996",
     "exception": false,
     "start_time": "2021-12-04T18:54:24.757533",
     "status": "completed"
    },
    "tags": []
   },
   "outputs": [
    {
     "data": {
      "text/plain": [
       "<matplotlib.axes._subplots.AxesSubplot at 0x21c6d593f40>"
      ]
     },
     "execution_count": 51,
     "metadata": {},
     "output_type": "execute_result"
    },
    {
     "data": {
      "image/png": "[encoded data removed]",
      "text/plain": [
       "<Figure size 432x288 with 1 Axes>"
      ]
     },
     "metadata": {
      "needs_background": "light"
     },
     "output_type": "display_data"
    }
   ],
   "source": [
    "sns.countplot(data=dfTrain, x='abdominal_distention', hue = 'outcome') #the more distended the abdomen the lesser the chance of survival (it means more pain like the documentation says)"
   ]
  },
  {
   "cell_type": "code",
   "execution_count": 52,
   "metadata": {
    "execution": {
     "iopub.execute_input": "2021-12-04T18:54:25.421606Z",
     "iopub.status.busy": "2021-12-04T18:54:25.420626Z",
     "iopub.status.idle": "2021-12-04T18:54:25.652399Z",
     "shell.execute_reply": "2021-12-04T18:54:25.653010Z",
     "shell.execute_reply.started": "2021-12-04T18:48:57.199421Z"
    },
    "executionInfo": {
     "elapsed": 511,
     "status": "ok",
     "timestamp": 1638398557834,
     "user": {
      "displayName": "Cristian Izquierdo Romero",
      "photoUrl": "https://lh3.googleusercontent.com/a/default-user=s64",
      "userId": "07564615891092799627"
     },
     "user_tz": -60
    },
    "id": "n7EQPiRynN_S",
    "outputId": "1fe95dc4-4ed6-4eef-dbc1-3027b8becb99",
    "papermill": {
     "duration": 0.368627,
     "end_time": "2021-12-04T18:54:25.653217",
     "exception": false,
     "start_time": "2021-12-04T18:54:25.284590",
     "status": "completed"
    },
    "tags": []
   },
   "outputs": [
    {
     "data": {
      "text/plain": [
       "<matplotlib.axes._subplots.AxesSubplot at 0x21c6d60dd90>"
      ]
     },
     "execution_count": 52,
     "metadata": {},
     "output_type": "execute_result"
    },
    {
     "data": {
      "image/png": "[encoded data removed]",
      "text/plain": [
       "<Figure size 432x288 with 1 Axes>"
      ]
     },
     "metadata": {
      "needs_background": "light"
     },
     "output_type": "display_data"
    }
   ],
   "source": [
    "sns.countplot(data=dfTrain, x='age', hue = 'outcome') #surprisingly, the age of the horse doesn't have a big impact on the outcome of the surgery\n",
    "#however younger horses tend to survive less"
   ]
  },
  {
   "cell_type": "markdown",
   "metadata": {
    "id": "f61OvqgUsJl4",
    "papermill": {
     "duration": 0.136072,
     "end_time": "2021-12-04T18:54:25.926107",
     "exception": false,
     "start_time": "2021-12-04T18:54:25.790035",
     "status": "completed"
    },
    "tags": []
   },
   "source": [
    "# **FILLING MISSING VALUES**"
   ]
  },
  {
   "cell_type": "code",
   "execution_count": 53,
   "metadata": {
    "execution": {
     "iopub.execute_input": "2021-12-04T18:54:26.485903Z",
     "iopub.status.busy": "2021-12-04T18:54:26.485222Z",
     "iopub.status.idle": "2021-12-04T18:54:26.493496Z",
     "shell.execute_reply": "2021-12-04T18:54:26.492868Z",
     "shell.execute_reply.started": "2021-12-04T18:48:57.393294Z"
    },
    "executionInfo": {
     "elapsed": 6,
     "status": "ok",
     "timestamp": 1638398557835,
     "user": {
      "displayName": "Cristian Izquierdo Romero",
      "photoUrl": "https://lh3.googleusercontent.com/a/default-user=s64",
      "userId": "07564615891092799627"
     },
     "user_tz": -60
    },
    "id": "cf8sGGTJsTJ6",
    "outputId": "cc066b15-e189-48e2-aeb2-fe1f3b0b2c88",
    "papermill": {
     "duration": 0.146751,
     "end_time": "2021-12-04T18:54:26.493632",
     "exception": false,
     "start_time": "2021-12-04T18:54:26.346881",
     "status": "completed"
    },
    "tags": []
   },
   "outputs": [
    {
     "data": {
      "text/plain": [
       "surgery                    0\n",
       "age                        0\n",
       "rectal_temp               41\n",
       "pulse                     16\n",
       "respiratory_rate          37\n",
       "temp_of_extremities       42\n",
       "peripheral_pulse          50\n",
       "mucous_membrane           33\n",
       "capillary_refill_time     22\n",
       "pain                      39\n",
       "peristalsis               31\n",
       "abdominal_distention      40\n",
       "nasogastric_tube          73\n",
       "nasogastric_reflux        77\n",
       "nasogastric_reflux_ph    171\n",
       "rectal_exam_feces         76\n",
       "abdomen                   80\n",
       "packed_cell_volume        21\n",
       "total_protein             21\n",
       "abdomo_appearance        117\n",
       "abdomo_protein           144\n",
       "outcome                    0\n",
       "surgical_lesion            0\n",
       "num_lesions                0\n",
       "dtype: int64"
      ]
     },
     "execution_count": 53,
     "metadata": {},
     "output_type": "execute_result"
    }
   ],
   "source": [
    "dfTrain.isna().sum() #There are no columns that have null values in the test dataframe but not in the train dataframe"
   ]
  },
  {
   "cell_type": "code",
   "execution_count": 54,
   "metadata": {
    "execution": {
     "iopub.execute_input": "2021-12-04T18:54:26.769418Z",
     "iopub.status.busy": "2021-12-04T18:54:26.768774Z",
     "iopub.status.idle": "2021-12-04T18:54:26.782623Z",
     "shell.execute_reply": "2021-12-04T18:54:26.782066Z",
     "shell.execute_reply.started": "2021-12-04T18:48:57.408283Z"
    },
    "executionInfo": {
     "elapsed": 6,
     "status": "ok",
     "timestamp": 1638398557836,
     "user": {
      "displayName": "Cristian Izquierdo Romero",
      "photoUrl": "https://lh3.googleusercontent.com/a/default-user=s64",
      "userId": "07564615891092799627"
     },
     "user_tz": -60
    },
    "id": "iY34qITOvCkf",
    "outputId": "a771bed2-df8a-4c5f-957d-489c7f6a7b4d",
    "papermill": {
     "duration": 0.152873,
     "end_time": "2021-12-04T18:54:26.782759",
     "exception": false,
     "start_time": "2021-12-04T18:54:26.629886",
     "status": "completed"
    },
    "tags": []
   },
   "outputs": [
    {
     "name": "stdout",
     "output_type": "stream",
     "text": [
      "Column nasogastric_reflux_ph --> NULL VALUES: 171 --> Correlation with target of -0.005194866451076294\n",
      "Column abdomo_protein --> NULL VALUES: 144 --> Correlation with target of -0.07010227029698288\n"
     ]
    }
   ],
   "source": [
    "#We start finding which columns to eliminate\n",
    "for col in dfTrain.columns:\n",
    "  if dfTrain[col].isna().sum() > 120: #More than 50% missing values\n",
    "    print('Column ' + col + ' --> NULL VALUES: ' + str(dfTrain[col].isna().sum()) + ' --> Correlation with target of ' + str(dfTrain.corr()['outcome'][col]))"
   ]
  },
  {
   "cell_type": "code",
   "execution_count": 55,
   "metadata": {
    "execution": {
     "iopub.execute_input": "2021-12-04T18:54:27.063531Z",
     "iopub.status.busy": "2021-12-04T18:54:27.062814Z",
     "iopub.status.idle": "2021-12-04T18:54:27.066541Z",
     "shell.execute_reply": "2021-12-04T18:54:27.067110Z",
     "shell.execute_reply.started": "2021-12-04T18:48:57.425042Z"
    },
    "executionInfo": {
     "elapsed": 6,
     "status": "ok",
     "timestamp": 1638398557836,
     "user": {
      "displayName": "Cristian Izquierdo Romero",
      "photoUrl": "https://lh3.googleusercontent.com/a/default-user=s64",
      "userId": "07564615891092799627"
     },
     "user_tz": -60
    },
    "id": "Vn0sduqTxGpu",
    "papermill": {
     "duration": 0.146769,
     "end_time": "2021-12-04T18:54:27.067282",
     "exception": false,
     "start_time": "2021-12-04T18:54:26.920513",
     "status": "completed"
    },
    "tags": []
   },
   "outputs": [],
   "source": [
    "#We drop columns nasogastric_reflux_ph and abdomo_protein as they don't hold a significant correlation with the target and they have > 50% of null values in the train dataset\n",
    "#Filling their null values would cause more harm than good\n",
    "dfTrain = dfTrain.drop(columns = ['abdomo_protein', 'nasogastric_reflux_ph'], axis = 1)\n",
    "dfTest = dfTest.drop(columns = ['abdomo_protein', 'nasogastric_reflux_ph'], axis = 1)"
   ]
  },
  {
   "cell_type": "code",
   "execution_count": 56,
   "metadata": {
    "execution": {
     "iopub.execute_input": "2021-12-04T18:54:30.099853Z",
     "iopub.status.busy": "2021-12-04T18:54:30.099200Z",
     "iopub.status.idle": "2021-12-04T18:54:30.155221Z",
     "shell.execute_reply": "2021-12-04T18:54:30.154203Z",
     "shell.execute_reply.started": "2021-12-04T18:48:58.270491Z"
    },
    "executionInfo": {
     "elapsed": 5,
     "status": "ok",
     "timestamp": 1638398558658,
     "user": {
      "displayName": "Cristian Izquierdo Romero",
      "photoUrl": "https://lh3.googleusercontent.com/a/default-user=s64",
      "userId": "07564615891092799627"
     },
     "user_tz": -60
    },
    "id": "7yxJhdoVpHqA",
    "papermill": {
     "duration": 0.199999,
     "end_time": "2021-12-04T18:54:30.155457",
     "exception": false,
     "start_time": "2021-12-04T18:54:29.955458",
     "status": "completed"
    },
    "tags": []
   },
   "outputs": [],
   "source": [
    "KNNimpTR = KNNImputer(n_neighbors=1)\n",
    "dfTrain = pd.DataFrame(KNNimpTR.fit_transform(dfTrain),columns = dfTrain.columns)\n",
    "KNNimpTS = KNNImputer(n_neighbors=1)\n",
    "dfTest = pd.DataFrame(KNNimpTS.fit_transform(dfTest),columns = dfTest.columns)"
   ]
  },
  {
   "cell_type": "code",
   "execution_count": 57,
   "metadata": {
    "execution": {
     "iopub.execute_input": "2021-12-04T18:54:31.618580Z",
     "iopub.status.busy": "2021-12-04T18:54:31.617920Z",
     "iopub.status.idle": "2021-12-04T18:54:31.625954Z",
     "shell.execute_reply": "2021-12-04T18:54:31.625442Z",
     "shell.execute_reply.started": "2021-12-04T18:48:59.162108Z"
    },
    "executionInfo": {
     "elapsed": 10,
     "status": "ok",
     "timestamp": 1638398560040,
     "user": {
      "displayName": "Cristian Izquierdo Romero",
      "photoUrl": "https://lh3.googleusercontent.com/a/default-user=s64",
      "userId": "07564615891092799627"
     },
     "user_tz": -60
    },
    "id": "HyXDm-RfJUiC",
    "outputId": "97d3490b-e7f2-4ccf-8d25-90fce3e0b287",
    "papermill": {
     "duration": 0.152583,
     "end_time": "2021-12-04T18:54:31.626090",
     "exception": false,
     "start_time": "2021-12-04T18:54:31.473507",
     "status": "completed"
    },
    "tags": []
   },
   "outputs": [
    {
     "data": {
      "text/plain": [
       "surgery                  0\n",
       "age                      0\n",
       "rectal_temp              0\n",
       "pulse                    0\n",
       "respiratory_rate         0\n",
       "temp_of_extremities      0\n",
       "peripheral_pulse         0\n",
       "mucous_membrane          0\n",
       "capillary_refill_time    0\n",
       "pain                     0\n",
       "peristalsis              0\n",
       "abdominal_distention     0\n",
       "nasogastric_tube         0\n",
       "nasogastric_reflux       0\n",
       "rectal_exam_feces        0\n",
       "abdomen                  0\n",
       "packed_cell_volume       0\n",
       "total_protein            0\n",
       "abdomo_appearance        0\n",
       "outcome                  0\n",
       "surgical_lesion          0\n",
       "num_lesions              0\n",
       "dtype: int64"
      ]
     },
     "execution_count": 57,
     "metadata": {},
     "output_type": "execute_result"
    }
   ],
   "source": [
    "dfTrain.isna().sum() #No missing values remain!"
   ]
  },
  {
   "cell_type": "markdown",
   "metadata": {
    "id": "Moc6I6RrUgxT",
    "papermill": {
     "duration": 0.153767,
     "end_time": "2021-12-04T18:54:36.062854",
     "exception": false,
     "start_time": "2021-12-04T18:54:35.909087",
     "status": "completed"
    },
    "tags": []
   },
   "source": [
    "# **NORMALIZATION OF THE VARIABLES**"
   ]
  },
  {
   "cell_type": "code",
   "execution_count": 58,
   "metadata": {
    "execution": {
     "iopub.execute_input": "2021-12-04T18:54:36.368105Z",
     "iopub.status.busy": "2021-12-04T18:54:36.367410Z",
     "iopub.status.idle": "2021-12-04T18:54:36.373047Z",
     "shell.execute_reply": "2021-12-04T18:54:36.373520Z",
     "shell.execute_reply.started": "2021-12-04T18:49:00.107669Z"
    },
    "executionInfo": {
     "elapsed": 8,
     "status": "ok",
     "timestamp": 1638398560630,
     "user": {
      "displayName": "Cristian Izquierdo Romero",
      "photoUrl": "https://lh3.googleusercontent.com/a/default-user=s64",
      "userId": "07564615891092799627"
     },
     "user_tz": -60
    },
    "id": "4xKMzasKY2WH",
    "papermill": {
     "duration": 0.163156,
     "end_time": "2021-12-04T18:54:36.373702",
     "exception": false,
     "start_time": "2021-12-04T18:54:36.210546",
     "status": "completed"
    },
    "tags": []
   },
   "outputs": [],
   "source": [
    "#We also standardize the categorical variables despite it isn't necessary\n",
    "target = dfTrain['outcome']\n",
    "dfTrain = dfTrain.drop(columns = ['outcome'], axis = 1) #We extract the target to avoid standardizing it\n",
    "features = dfTrain.columns\n",
    "scaler = StandardScaler()\n",
    "scaledTrain = scaler.fit_transform(dfTrain)\n",
    "scaledTest = scaler.transform(dfTest) #we transform the test set with the model trained on the train set\n",
    "dfTrain = pd.DataFrame(data=scaledTrain, columns=features)\n",
    "dfTest = pd.DataFrame(data=scaledTest, columns=features) #We rebuild to a dataframe format\"\"\""
   ]
  },
  {
   "cell_type": "code",
   "execution_count": 59,
   "metadata": {
    "execution": {
     "iopub.execute_input": "2021-12-04T18:54:36.677428Z",
     "iopub.status.busy": "2021-12-04T18:54:36.676769Z",
     "iopub.status.idle": "2021-12-04T18:54:40.337135Z",
     "shell.execute_reply": "2021-12-04T18:54:40.337675Z",
     "shell.execute_reply.started": "2021-12-04T18:49:00.125007Z"
    },
    "executionInfo": {
     "elapsed": 5905,
     "status": "ok",
     "timestamp": 1638398566528,
     "user": {
      "displayName": "Cristian Izquierdo Romero",
      "photoUrl": "https://lh3.googleusercontent.com/a/default-user=s64",
      "userId": "07564615891092799627"
     },
     "user_tz": -60
    },
    "id": "oiLSR2dHbxXb",
    "outputId": "63597672-33c1-4db2-987b-8e393c33a891",
    "papermill": {
     "duration": 3.816047,
     "end_time": "2021-12-04T18:54:40.337871",
     "exception": false,
     "start_time": "2021-12-04T18:54:36.521824",
     "status": "completed"
    },
    "tags": []
   },
   "outputs": [
    {
     "data": {
      "text/plain": [
       "array([[<matplotlib.axes._subplots.AxesSubplot object at 0x0000021C6D6644C0>,\n",
       "        <matplotlib.axes._subplots.AxesSubplot object at 0x0000021C6D685DF0>,\n",
       "        <matplotlib.axes._subplots.AxesSubplot object at 0x0000021C6D6B8520>,\n",
       "        <matplotlib.axes._subplots.AxesSubplot object at 0x0000021C6D6E1D60>,\n",
       "        <matplotlib.axes._subplots.AxesSubplot object at 0x0000021C6D7165E0>],\n",
       "       [<matplotlib.axes._subplots.AxesSubplot object at 0x0000021C6D73FE20>,\n",
       "        <matplotlib.axes._subplots.AxesSubplot object at 0x0000021C6D74CD30>,\n",
       "        <matplotlib.axes._subplots.AxesSubplot object at 0x0000021C6D781610>,\n",
       "        <matplotlib.axes._subplots.AxesSubplot object at 0x0000021C6D7D4760>,\n",
       "        <matplotlib.axes._subplots.AxesSubplot object at 0x0000021C6D7FFFA0>],\n",
       "       [<matplotlib.axes._subplots.AxesSubplot object at 0x0000021C6D833820>,\n",
       "        <matplotlib.axes._subplots.AxesSubplot object at 0x0000021C6D869E80>,\n",
       "        <matplotlib.axes._subplots.AxesSubplot object at 0x0000021C6D892910>,\n",
       "        <matplotlib.axes._subplots.AxesSubplot object at 0x0000021C6D8C9F40>,\n",
       "        <matplotlib.axes._subplots.AxesSubplot object at 0x0000021C6D8F0A00>],\n",
       "       [<matplotlib.axes._subplots.AxesSubplot object at 0x0000021C6D927280>,\n",
       "        <matplotlib.axes._subplots.AxesSubplot object at 0x0000021C6D94EAC0>,\n",
       "        <matplotlib.axes._subplots.AxesSubplot object at 0x0000021C6D984340>,\n",
       "        <matplotlib.axes._subplots.AxesSubplot object at 0x0000021C6D9AEB80>,\n",
       "        <matplotlib.axes._subplots.AxesSubplot object at 0x0000021C6D9E3400>],\n",
       "       [<matplotlib.axes._subplots.AxesSubplot object at 0x0000021C6DA0CC70>,\n",
       "        <matplotlib.axes._subplots.AxesSubplot object at 0x0000021C6DEDF2E0>,\n",
       "        <matplotlib.axes._subplots.AxesSubplot object at 0x0000021C6DEDF670>,\n",
       "        <matplotlib.axes._subplots.AxesSubplot object at 0x0000021C6DF06EE0>,\n",
       "        <matplotlib.axes._subplots.AxesSubplot object at 0x0000021C6DF3E7C0>]],\n",
       "      dtype=object)"
      ]
     },
     "execution_count": 59,
     "metadata": {},
     "output_type": "execute_result"
    },
    {
     "data": {
      "image/png": "[encoded data removed]",
      "text/plain": [
       "<Figure size 1080x1080 with 25 Axes>"
      ]
     },
     "metadata": {
      "needs_background": "light"
     },
     "output_type": "display_data"
    }
   ],
   "source": [
    "dfTrain.hist(bins=22, figsize=(15, 15))"
   ]
  },
  {
   "cell_type": "code",
   "execution_count": 28,
   "metadata": {
    "execution": {
     "iopub.execute_input": "2021-12-04T18:54:53.087139Z",
     "iopub.status.busy": "2021-12-04T18:54:53.086216Z",
     "iopub.status.idle": "2021-12-04T18:54:53.088869Z",
     "shell.execute_reply": "2021-12-04T18:54:53.089598Z",
     "shell.execute_reply.started": "2021-12-04T18:49:09.514535Z"
    },
    "executionInfo": {
     "elapsed": 276,
     "status": "ok",
     "timestamp": 1638398631989,
     "user": {
      "displayName": "Cristian Izquierdo Romero",
      "photoUrl": "https://lh3.googleusercontent.com/a/default-user=s64",
      "userId": "07564615891092799627"
     },
     "user_tz": -60
    },
    "id": "vXLtxIK22Aau",
    "papermill": {
     "duration": 0.207859,
     "end_time": "2021-12-04T18:54:53.089778",
     "exception": false,
     "start_time": "2021-12-04T18:54:52.881919",
     "status": "completed"
    },
    "tags": []
   },
   "outputs": [],
   "source": [
    "y_train = target\n",
    "x_train = dfTrain\n",
    "x_test = dfTest"
   ]
  },
  {
   "cell_type": "markdown",
   "metadata": {
    "id": "FEKk_S-_2d82",
    "papermill": {
     "duration": 0.164849,
     "end_time": "2021-12-04T18:54:53.749082",
     "exception": false,
     "start_time": "2021-12-04T18:54:53.584233",
     "status": "completed"
    },
    "tags": []
   },
   "source": [
    "**Logistic Regression**"
   ]
  },
  {
   "cell_type": "code",
   "execution_count": 29,
   "metadata": {
    "execution": {
     "iopub.execute_input": "2021-12-04T18:54:54.081163Z",
     "iopub.status.busy": "2021-12-04T18:54:54.080171Z",
     "iopub.status.idle": "2021-12-04T18:54:54.891667Z",
     "shell.execute_reply": "2021-12-04T18:54:54.892165Z",
     "shell.execute_reply.started": "2021-12-04T18:49:09.522632Z"
    },
    "executionInfo": {
     "elapsed": 523,
     "status": "ok",
     "timestamp": 1638398632509,
     "user": {
      "displayName": "Cristian Izquierdo Romero",
      "photoUrl": "https://lh3.googleusercontent.com/a/default-user=s64",
      "userId": "07564615891092799627"
     },
     "user_tz": -60
    },
    "id": "AdUfm2JAdB64",
    "outputId": "ba570297-545a-4250-c7e4-89268bbbcfb0",
    "papermill": {
     "duration": 0.980187,
     "end_time": "2021-12-04T18:54:54.892339",
     "exception": false,
     "start_time": "2021-12-04T18:54:53.912152",
     "status": "completed"
    },
    "tags": []
   },
   "outputs": [
    {
     "name": "stdout",
     "output_type": "stream",
     "text": [
      "The best value found for the hyperparameter C is 0.1\n",
      "The best result on the training set using 5-Fold CV was 0.7031358885017422\n",
      "The best result predicting the test set was 0.6444444444444445\n"
     ]
    },
    {
     "data": {
      "text/plain": [
       "array([[43,  5,  2],\n",
       "       [ 9, 11,  2],\n",
       "       [ 9,  5,  4]], dtype=int64)"
      ]
     },
     "execution_count": 29,
     "metadata": {},
     "output_type": "execute_result"
    }
   ],
   "source": [
    "lr = LogisticRegression(random_state=0)\n",
    "param_grid={\"C\":np.logspace(-3,3,10)}\n",
    "grid = GridSearchCV(lr, param_grid, cv=5, verbose=0)\n",
    "grid_search=grid.fit(x_train, y_train)\n",
    "print('The best value found for the hyperparameter C is ' + str(grid_search.best_params_['C']))\n",
    "print('The best result on the training set using 5-Fold CV was ' + str(grid_search.best_score_))\n",
    "y_pred = grid_search.predict(x_test)\n",
    "print('The best result predicting the test set was ' + str(accuracy_score(y_test, y_pred)))\n",
    "confusion_matrix(y_test, y_pred)"
   ]
  },
  {
   "cell_type": "code",
   "execution_count": 30,
   "metadata": {},
   "outputs": [],
   "source": [
    "fpr, tpr, thresholds = roc_curve(y_test, y_pred, pos_label=2)"
   ]
  },
  {
   "cell_type": "code",
   "execution_count": 31,
   "metadata": {},
   "outputs": [
    {
     "data": {
      "text/plain": [
       "array([0.        , 0.08823529, 0.23529412, 1.        ])"
      ]
     },
     "execution_count": 31,
     "metadata": {},
     "output_type": "execute_result"
    }
   ],
   "source": [
    "fpr"
   ]
  },
  {
   "cell_type": "code",
   "execution_count": 32,
   "metadata": {},
   "outputs": [
    {
     "data": {
      "text/plain": [
       "array([0.        , 0.09090909, 0.59090909, 1.        ])"
      ]
     },
     "execution_count": 32,
     "metadata": {},
     "output_type": "execute_result"
    }
   ],
   "source": [
    "tpr"
   ]
  },
  {
   "cell_type": "code",
   "execution_count": 33,
   "metadata": {},
   "outputs": [
    {
     "data": {
      "text/plain": [
       "array([4., 3., 2., 1.])"
      ]
     },
     "execution_count": 33,
     "metadata": {},
     "output_type": "execute_result"
    }
   ],
   "source": [
    "thresholds"
   ]
  },
  {
   "cell_type": "code",
   "execution_count": null,
   "metadata": {},
   "outputs": [],
   "source": []
  }
 ],
 "metadata": {
  "kernelspec": {
   "display_name": "Python 3.8.5 64-bit ('my_env': conda)",
   "language": "python",
   "name": "python38564bitmyenvconda7b982795a6a340a883e6b75be6985984"
  },
  "language_info": {
   "codemirror_mode": {
    "name": "ipython",
    "version": 3
   },
   "file_extension": ".py",
   "mimetype": "text/x-python",
   "name": "python",
   "nbconvert_exporter": "python",
   "pygments_lexer": "ipython3",
   "version": "3.8.5"
  },
  "papermill": {
   "default_parameters": {},
   "duration": 166.212191,
   "end_time": "2021-12-04T18:56:34.313115",
   "environment_variables": {},
   "exception": null,
   "input_path": "__notebook__.ipynb",
   "output_path": "__notebook__.ipynb",
   "parameters": {},
   "start_time": "2021-12-04T18:53:48.100924",
   "version": "2.3.3"
  }
 },
 "nbformat": 4,
 "nbformat_minor": 5
}
