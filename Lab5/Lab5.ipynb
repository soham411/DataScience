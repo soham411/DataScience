{
 "cells": [
  {
   "cell_type": "code",
   "execution_count": 1,
   "id": "223df166",
   "metadata": {
    "_cell_guid": "b1076dfc-b9ad-4769-8c92-a6c4dae69d19",
    "_uuid": "8f2839f25d086af736a60e9eeb907d3b93b6e0e5",
    "execution": {
     "iopub.execute_input": "2022-03-03T07:50:11.185040Z",
     "iopub.status.busy": "2022-03-03T07:50:11.182517Z",
     "iopub.status.idle": "2022-03-03T07:50:11.191064Z",
     "shell.execute_reply": "2022-03-03T07:50:11.191574Z",
     "shell.execute_reply.started": "2022-03-03T07:47:54.478927Z"
    },
    "papermill": {
     "duration": 0.053953,
     "end_time": "2022-03-03T07:50:11.191867",
     "exception": false,
     "start_time": "2022-03-03T07:50:11.137914",
     "status": "completed"
    },
    "tags": []
   },
   "outputs": [
    {
     "name": "stdout",
     "output_type": "stream",
     "text": [
      "/kaggle/input/house-prices-advanced-regression-techniques/sample_submission.csv\n",
      "/kaggle/input/house-prices-advanced-regression-techniques/data_description.txt\n",
      "/kaggle/input/house-prices-advanced-regression-techniques/train.csv\n",
      "/kaggle/input/house-prices-advanced-regression-techniques/test.csv\n"
     ]
    }
   ],
   "source": [
    "# This Python 3 environment comes with many helpful analytics libraries installed\n",
    "# It is defined by the kaggle/python Docker image: https://github.com/kaggle/docker-python\n",
    "# For example, here's several helpful packages to load\n",
    "\n",
    "import numpy as np # linear algebra\n",
    "import pandas as pd # data processing, CSV file I/O (e.g. pd.read_csv)\n",
    "\n",
    "# Input data files are available in the read-only \"../input/\" directory\n",
    "# For example, running this (by clicking run or pressing Shift+Enter) will list all files under the input directory\n",
    "\n",
    "import os\n",
    "for dirname, _, filenames in os.walk('/kaggle/input'):\n",
    "    for filename in filenames:\n",
    "        print(os.path.join(dirname, filename))\n",
    "\n",
    "# You can write up to 20GB to the current directory (/kaggle/working/) that gets preserved as output when you create a version using \"Save & Run All\" \n",
    "# You can also write temporary files to /kaggle/temp/, but they won't be saved outside of the current session"
   ]
  },
  {
   "cell_type": "code",
   "execution_count": 2,
   "id": "805c867e",
   "metadata": {
    "execution": {
     "iopub.execute_input": "2022-03-03T07:50:11.266504Z",
     "iopub.status.busy": "2022-03-03T07:50:11.265854Z",
     "iopub.status.idle": "2022-03-03T07:50:11.332915Z",
     "shell.execute_reply": "2022-03-03T07:50:11.333425Z",
     "shell.execute_reply.started": "2022-03-03T07:47:54.496537Z"
    },
    "papermill": {
     "duration": 0.105779,
     "end_time": "2022-03-03T07:50:11.333627",
     "exception": false,
     "start_time": "2022-03-03T07:50:11.227848",
     "status": "completed"
    },
    "tags": []
   },
   "outputs": [],
   "source": [
    "train_df =pd.read_csv('../input/house-prices-advanced-regression-techniques/train.csv')\n",
    "test_df = pd.read_csv('../input/house-prices-advanced-regression-techniques/test.csv')"
   ]
  },
  {
   "cell_type": "code",
   "execution_count": 3,
   "id": "39ed49da",
   "metadata": {
    "execution": {
     "iopub.execute_input": "2022-03-03T07:50:11.408506Z",
     "iopub.status.busy": "2022-03-03T07:50:11.407575Z",
     "iopub.status.idle": "2022-03-03T07:50:11.448975Z",
     "shell.execute_reply": "2022-03-03T07:50:11.449439Z",
     "shell.execute_reply.started": "2022-03-03T07:47:54.549817Z"
    },
    "papermill": {
     "duration": 0.080206,
     "end_time": "2022-03-03T07:50:11.449623",
     "exception": false,
     "start_time": "2022-03-03T07:50:11.369417",
     "status": "completed"
    },
    "tags": []
   },
   "outputs": [
    {
     "data": {
      "text/html": [
       "<div>\n",
       "<style scoped>\n",
       "    .dataframe tbody tr th:only-of-type {\n",
       "        vertical-align: middle;\n",
       "    }\n",
       "\n",
       "    .dataframe tbody tr th {\n",
       "        vertical-align: top;\n",
       "    }\n",
       "\n",
       "    .dataframe thead th {\n",
       "        text-align: right;\n",
       "    }\n",
       "</style>\n",
       "<table border=\"1\" class=\"dataframe\">\n",
       "  <thead>\n",
       "    <tr style=\"text-align: right;\">\n",
       "      <th></th>\n",
       "      <th>Id</th>\n",
       "      <th>MSSubClass</th>\n",
       "      <th>MSZoning</th>\n",
       "      <th>LotFrontage</th>\n",
       "      <th>LotArea</th>\n",
       "      <th>Street</th>\n",
       "      <th>Alley</th>\n",
       "      <th>LotShape</th>\n",
       "      <th>LandContour</th>\n",
       "      <th>Utilities</th>\n",
       "      <th>...</th>\n",
       "      <th>PoolArea</th>\n",
       "      <th>PoolQC</th>\n",
       "      <th>Fence</th>\n",
       "      <th>MiscFeature</th>\n",
       "      <th>MiscVal</th>\n",
       "      <th>MoSold</th>\n",
       "      <th>YrSold</th>\n",
       "      <th>SaleType</th>\n",
       "      <th>SaleCondition</th>\n",
       "      <th>SalePrice</th>\n",
       "    </tr>\n",
       "  </thead>\n",
       "  <tbody>\n",
       "    <tr>\n",
       "      <th>0</th>\n",
       "      <td>1</td>\n",
       "      <td>60</td>\n",
       "      <td>RL</td>\n",
       "      <td>65.0</td>\n",
       "      <td>8450</td>\n",
       "      <td>Pave</td>\n",
       "      <td>NaN</td>\n",
       "      <td>Reg</td>\n",
       "      <td>Lvl</td>\n",
       "      <td>AllPub</td>\n",
       "      <td>...</td>\n",
       "      <td>0</td>\n",
       "      <td>NaN</td>\n",
       "      <td>NaN</td>\n",
       "      <td>NaN</td>\n",
       "      <td>0</td>\n",
       "      <td>2</td>\n",
       "      <td>2008</td>\n",
       "      <td>WD</td>\n",
       "      <td>Normal</td>\n",
       "      <td>208500</td>\n",
       "    </tr>\n",
       "    <tr>\n",
       "      <th>1</th>\n",
       "      <td>2</td>\n",
       "      <td>20</td>\n",
       "      <td>RL</td>\n",
       "      <td>80.0</td>\n",
       "      <td>9600</td>\n",
       "      <td>Pave</td>\n",
       "      <td>NaN</td>\n",
       "      <td>Reg</td>\n",
       "      <td>Lvl</td>\n",
       "      <td>AllPub</td>\n",
       "      <td>...</td>\n",
       "      <td>0</td>\n",
       "      <td>NaN</td>\n",
       "      <td>NaN</td>\n",
       "      <td>NaN</td>\n",
       "      <td>0</td>\n",
       "      <td>5</td>\n",
       "      <td>2007</td>\n",
       "      <td>WD</td>\n",
       "      <td>Normal</td>\n",
       "      <td>181500</td>\n",
       "    </tr>\n",
       "    <tr>\n",
       "      <th>2</th>\n",
       "      <td>3</td>\n",
       "      <td>60</td>\n",
       "      <td>RL</td>\n",
       "      <td>68.0</td>\n",
       "      <td>11250</td>\n",
       "      <td>Pave</td>\n",
       "      <td>NaN</td>\n",
       "      <td>IR1</td>\n",
       "      <td>Lvl</td>\n",
       "      <td>AllPub</td>\n",
       "      <td>...</td>\n",
       "      <td>0</td>\n",
       "      <td>NaN</td>\n",
       "      <td>NaN</td>\n",
       "      <td>NaN</td>\n",
       "      <td>0</td>\n",
       "      <td>9</td>\n",
       "      <td>2008</td>\n",
       "      <td>WD</td>\n",
       "      <td>Normal</td>\n",
       "      <td>223500</td>\n",
       "    </tr>\n",
       "    <tr>\n",
       "      <th>3</th>\n",
       "      <td>4</td>\n",
       "      <td>70</td>\n",
       "      <td>RL</td>\n",
       "      <td>60.0</td>\n",
       "      <td>9550</td>\n",
       "      <td>Pave</td>\n",
       "      <td>NaN</td>\n",
       "      <td>IR1</td>\n",
       "      <td>Lvl</td>\n",
       "      <td>AllPub</td>\n",
       "      <td>...</td>\n",
       "      <td>0</td>\n",
       "      <td>NaN</td>\n",
       "      <td>NaN</td>\n",
       "      <td>NaN</td>\n",
       "      <td>0</td>\n",
       "      <td>2</td>\n",
       "      <td>2006</td>\n",
       "      <td>WD</td>\n",
       "      <td>Abnorml</td>\n",
       "      <td>140000</td>\n",
       "    </tr>\n",
       "    <tr>\n",
       "      <th>4</th>\n",
       "      <td>5</td>\n",
       "      <td>60</td>\n",
       "      <td>RL</td>\n",
       "      <td>84.0</td>\n",
       "      <td>14260</td>\n",
       "      <td>Pave</td>\n",
       "      <td>NaN</td>\n",
       "      <td>IR1</td>\n",
       "      <td>Lvl</td>\n",
       "      <td>AllPub</td>\n",
       "      <td>...</td>\n",
       "      <td>0</td>\n",
       "      <td>NaN</td>\n",
       "      <td>NaN</td>\n",
       "      <td>NaN</td>\n",
       "      <td>0</td>\n",
       "      <td>12</td>\n",
       "      <td>2008</td>\n",
       "      <td>WD</td>\n",
       "      <td>Normal</td>\n",
       "      <td>250000</td>\n",
       "    </tr>\n",
       "    <tr>\n",
       "      <th>...</th>\n",
       "      <td>...</td>\n",
       "      <td>...</td>\n",
       "      <td>...</td>\n",
       "      <td>...</td>\n",
       "      <td>...</td>\n",
       "      <td>...</td>\n",
       "      <td>...</td>\n",
       "      <td>...</td>\n",
       "      <td>...</td>\n",
       "      <td>...</td>\n",
       "      <td>...</td>\n",
       "      <td>...</td>\n",
       "      <td>...</td>\n",
       "      <td>...</td>\n",
       "      <td>...</td>\n",
       "      <td>...</td>\n",
       "      <td>...</td>\n",
       "      <td>...</td>\n",
       "      <td>...</td>\n",
       "      <td>...</td>\n",
       "      <td>...</td>\n",
       "    </tr>\n",
       "    <tr>\n",
       "      <th>1455</th>\n",
       "      <td>1456</td>\n",
       "      <td>60</td>\n",
       "      <td>RL</td>\n",
       "      <td>62.0</td>\n",
       "      <td>7917</td>\n",
       "      <td>Pave</td>\n",
       "      <td>NaN</td>\n",
       "      <td>Reg</td>\n",
       "      <td>Lvl</td>\n",
       "      <td>AllPub</td>\n",
       "      <td>...</td>\n",
       "      <td>0</td>\n",
       "      <td>NaN</td>\n",
       "      <td>NaN</td>\n",
       "      <td>NaN</td>\n",
       "      <td>0</td>\n",
       "      <td>8</td>\n",
       "      <td>2007</td>\n",
       "      <td>WD</td>\n",
       "      <td>Normal</td>\n",
       "      <td>175000</td>\n",
       "    </tr>\n",
       "    <tr>\n",
       "      <th>1456</th>\n",
       "      <td>1457</td>\n",
       "      <td>20</td>\n",
       "      <td>RL</td>\n",
       "      <td>85.0</td>\n",
       "      <td>13175</td>\n",
       "      <td>Pave</td>\n",
       "      <td>NaN</td>\n",
       "      <td>Reg</td>\n",
       "      <td>Lvl</td>\n",
       "      <td>AllPub</td>\n",
       "      <td>...</td>\n",
       "      <td>0</td>\n",
       "      <td>NaN</td>\n",
       "      <td>MnPrv</td>\n",
       "      <td>NaN</td>\n",
       "      <td>0</td>\n",
       "      <td>2</td>\n",
       "      <td>2010</td>\n",
       "      <td>WD</td>\n",
       "      <td>Normal</td>\n",
       "      <td>210000</td>\n",
       "    </tr>\n",
       "    <tr>\n",
       "      <th>1457</th>\n",
       "      <td>1458</td>\n",
       "      <td>70</td>\n",
       "      <td>RL</td>\n",
       "      <td>66.0</td>\n",
       "      <td>9042</td>\n",
       "      <td>Pave</td>\n",
       "      <td>NaN</td>\n",
       "      <td>Reg</td>\n",
       "      <td>Lvl</td>\n",
       "      <td>AllPub</td>\n",
       "      <td>...</td>\n",
       "      <td>0</td>\n",
       "      <td>NaN</td>\n",
       "      <td>GdPrv</td>\n",
       "      <td>Shed</td>\n",
       "      <td>2500</td>\n",
       "      <td>5</td>\n",
       "      <td>2010</td>\n",
       "      <td>WD</td>\n",
       "      <td>Normal</td>\n",
       "      <td>266500</td>\n",
       "    </tr>\n",
       "    <tr>\n",
       "      <th>1458</th>\n",
       "      <td>1459</td>\n",
       "      <td>20</td>\n",
       "      <td>RL</td>\n",
       "      <td>68.0</td>\n",
       "      <td>9717</td>\n",
       "      <td>Pave</td>\n",
       "      <td>NaN</td>\n",
       "      <td>Reg</td>\n",
       "      <td>Lvl</td>\n",
       "      <td>AllPub</td>\n",
       "      <td>...</td>\n",
       "      <td>0</td>\n",
       "      <td>NaN</td>\n",
       "      <td>NaN</td>\n",
       "      <td>NaN</td>\n",
       "      <td>0</td>\n",
       "      <td>4</td>\n",
       "      <td>2010</td>\n",
       "      <td>WD</td>\n",
       "      <td>Normal</td>\n",
       "      <td>142125</td>\n",
       "    </tr>\n",
       "    <tr>\n",
       "      <th>1459</th>\n",
       "      <td>1460</td>\n",
       "      <td>20</td>\n",
       "      <td>RL</td>\n",
       "      <td>75.0</td>\n",
       "      <td>9937</td>\n",
       "      <td>Pave</td>\n",
       "      <td>NaN</td>\n",
       "      <td>Reg</td>\n",
       "      <td>Lvl</td>\n",
       "      <td>AllPub</td>\n",
       "      <td>...</td>\n",
       "      <td>0</td>\n",
       "      <td>NaN</td>\n",
       "      <td>NaN</td>\n",
       "      <td>NaN</td>\n",
       "      <td>0</td>\n",
       "      <td>6</td>\n",
       "      <td>2008</td>\n",
       "      <td>WD</td>\n",
       "      <td>Normal</td>\n",
       "      <td>147500</td>\n",
       "    </tr>\n",
       "  </tbody>\n",
       "</table>\n",
       "<p>1460 rows × 81 columns</p>\n",
       "</div>"
      ],
      "text/plain": [
       "        Id  MSSubClass MSZoning  LotFrontage  LotArea Street Alley LotShape  \\\n",
       "0        1          60       RL         65.0     8450   Pave   NaN      Reg   \n",
       "1        2          20       RL         80.0     9600   Pave   NaN      Reg   \n",
       "2        3          60       RL         68.0    11250   Pave   NaN      IR1   \n",
       "3        4          70       RL         60.0     9550   Pave   NaN      IR1   \n",
       "4        5          60       RL         84.0    14260   Pave   NaN      IR1   \n",
       "...    ...         ...      ...          ...      ...    ...   ...      ...   \n",
       "1455  1456          60       RL         62.0     7917   Pave   NaN      Reg   \n",
       "1456  1457          20       RL         85.0    13175   Pave   NaN      Reg   \n",
       "1457  1458          70       RL         66.0     9042   Pave   NaN      Reg   \n",
       "1458  1459          20       RL         68.0     9717   Pave   NaN      Reg   \n",
       "1459  1460          20       RL         75.0     9937   Pave   NaN      Reg   \n",
       "\n",
       "     LandContour Utilities  ... PoolArea PoolQC  Fence MiscFeature MiscVal  \\\n",
       "0            Lvl    AllPub  ...        0    NaN    NaN         NaN       0   \n",
       "1            Lvl    AllPub  ...        0    NaN    NaN         NaN       0   \n",
       "2            Lvl    AllPub  ...        0    NaN    NaN         NaN       0   \n",
       "3            Lvl    AllPub  ...        0    NaN    NaN         NaN       0   \n",
       "4            Lvl    AllPub  ...        0    NaN    NaN         NaN       0   \n",
       "...          ...       ...  ...      ...    ...    ...         ...     ...   \n",
       "1455         Lvl    AllPub  ...        0    NaN    NaN         NaN       0   \n",
       "1456         Lvl    AllPub  ...        0    NaN  MnPrv         NaN       0   \n",
       "1457         Lvl    AllPub  ...        0    NaN  GdPrv        Shed    2500   \n",
       "1458         Lvl    AllPub  ...        0    NaN    NaN         NaN       0   \n",
       "1459         Lvl    AllPub  ...        0    NaN    NaN         NaN       0   \n",
       "\n",
       "     MoSold YrSold  SaleType  SaleCondition  SalePrice  \n",
       "0         2   2008        WD         Normal     208500  \n",
       "1         5   2007        WD         Normal     181500  \n",
       "2         9   2008        WD         Normal     223500  \n",
       "3         2   2006        WD        Abnorml     140000  \n",
       "4        12   2008        WD         Normal     250000  \n",
       "...     ...    ...       ...            ...        ...  \n",
       "1455      8   2007        WD         Normal     175000  \n",
       "1456      2   2010        WD         Normal     210000  \n",
       "1457      5   2010        WD         Normal     266500  \n",
       "1458      4   2010        WD         Normal     142125  \n",
       "1459      6   2008        WD         Normal     147500  \n",
       "\n",
       "[1460 rows x 81 columns]"
      ]
     },
     "execution_count": 3,
     "metadata": {},
     "output_type": "execute_result"
    }
   ],
   "source": [
    "train_df\n"
   ]
  },
  {
   "cell_type": "code",
   "execution_count": 4,
   "id": "e8726d2c",
   "metadata": {
    "execution": {
     "iopub.execute_input": "2022-03-03T07:50:11.525784Z",
     "iopub.status.busy": "2022-03-03T07:50:11.524884Z",
     "iopub.status.idle": "2022-03-03T07:50:11.558119Z",
     "shell.execute_reply": "2022-03-03T07:50:11.558749Z",
     "shell.execute_reply.started": "2022-03-03T07:47:54.582714Z"
    },
    "papermill": {
     "duration": 0.07299,
     "end_time": "2022-03-03T07:50:11.558930",
     "exception": false,
     "start_time": "2022-03-03T07:50:11.485940",
     "status": "completed"
    },
    "tags": []
   },
   "outputs": [
    {
     "name": "stdout",
     "output_type": "stream",
     "text": [
      "<class 'pandas.core.frame.DataFrame'>\n",
      "RangeIndex: 1460 entries, 0 to 1459\n",
      "Data columns (total 81 columns):\n",
      " #   Column         Non-Null Count  Dtype  \n",
      "---  ------         --------------  -----  \n",
      " 0   Id             1460 non-null   int64  \n",
      " 1   MSSubClass     1460 non-null   int64  \n",
      " 2   MSZoning       1460 non-null   object \n",
      " 3   LotFrontage    1201 non-null   float64\n",
      " 4   LotArea        1460 non-null   int64  \n",
      " 5   Street         1460 non-null   object \n",
      " 6   Alley          91 non-null     object \n",
      " 7   LotShape       1460 non-null   object \n",
      " 8   LandContour    1460 non-null   object \n",
      " 9   Utilities      1460 non-null   object \n",
      " 10  LotConfig      1460 non-null   object \n",
      " 11  LandSlope      1460 non-null   object \n",
      " 12  Neighborhood   1460 non-null   object \n",
      " 13  Condition1     1460 non-null   object \n",
      " 14  Condition2     1460 non-null   object \n",
      " 15  BldgType       1460 non-null   object \n",
      " 16  HouseStyle     1460 non-null   object \n",
      " 17  OverallQual    1460 non-null   int64  \n",
      " 18  OverallCond    1460 non-null   int64  \n",
      " 19  YearBuilt      1460 non-null   int64  \n",
      " 20  YearRemodAdd   1460 non-null   int64  \n",
      " 21  RoofStyle      1460 non-null   object \n",
      " 22  RoofMatl       1460 non-null   object \n",
      " 23  Exterior1st    1460 non-null   object \n",
      " 24  Exterior2nd    1460 non-null   object \n",
      " 25  MasVnrType     1452 non-null   object \n",
      " 26  MasVnrArea     1452 non-null   float64\n",
      " 27  ExterQual      1460 non-null   object \n",
      " 28  ExterCond      1460 non-null   object \n",
      " 29  Foundation     1460 non-null   object \n",
      " 30  BsmtQual       1423 non-null   object \n",
      " 31  BsmtCond       1423 non-null   object \n",
      " 32  BsmtExposure   1422 non-null   object \n",
      " 33  BsmtFinType1   1423 non-null   object \n",
      " 34  BsmtFinSF1     1460 non-null   int64  \n",
      " 35  BsmtFinType2   1422 non-null   object \n",
      " 36  BsmtFinSF2     1460 non-null   int64  \n",
      " 37  BsmtUnfSF      1460 non-null   int64  \n",
      " 38  TotalBsmtSF    1460 non-null   int64  \n",
      " 39  Heating        1460 non-null   object \n",
      " 40  HeatingQC      1460 non-null   object \n",
      " 41  CentralAir     1460 non-null   object \n",
      " 42  Electrical     1459 non-null   object \n",
      " 43  1stFlrSF       1460 non-null   int64  \n",
      " 44  2ndFlrSF       1460 non-null   int64  \n",
      " 45  LowQualFinSF   1460 non-null   int64  \n",
      " 46  GrLivArea      1460 non-null   int64  \n",
      " 47  BsmtFullBath   1460 non-null   int64  \n",
      " 48  BsmtHalfBath   1460 non-null   int64  \n",
      " 49  FullBath       1460 non-null   int64  \n",
      " 50  HalfBath       1460 non-null   int64  \n",
      " 51  BedroomAbvGr   1460 non-null   int64  \n",
      " 52  KitchenAbvGr   1460 non-null   int64  \n",
      " 53  KitchenQual    1460 non-null   object \n",
      " 54  TotRmsAbvGrd   1460 non-null   int64  \n",
      " 55  Functional     1460 non-null   object \n",
      " 56  Fireplaces     1460 non-null   int64  \n",
      " 57  FireplaceQu    770 non-null    object \n",
      " 58  GarageType     1379 non-null   object \n",
      " 59  GarageYrBlt    1379 non-null   float64\n",
      " 60  GarageFinish   1379 non-null   object \n",
      " 61  GarageCars     1460 non-null   int64  \n",
      " 62  GarageArea     1460 non-null   int64  \n",
      " 63  GarageQual     1379 non-null   object \n",
      " 64  GarageCond     1379 non-null   object \n",
      " 65  PavedDrive     1460 non-null   object \n",
      " 66  WoodDeckSF     1460 non-null   int64  \n",
      " 67  OpenPorchSF    1460 non-null   int64  \n",
      " 68  EnclosedPorch  1460 non-null   int64  \n",
      " 69  3SsnPorch      1460 non-null   int64  \n",
      " 70  ScreenPorch    1460 non-null   int64  \n",
      " 71  PoolArea       1460 non-null   int64  \n",
      " 72  PoolQC         7 non-null      object \n",
      " 73  Fence          281 non-null    object \n",
      " 74  MiscFeature    54 non-null     object \n",
      " 75  MiscVal        1460 non-null   int64  \n",
      " 76  MoSold         1460 non-null   int64  \n",
      " 77  YrSold         1460 non-null   int64  \n",
      " 78  SaleType       1460 non-null   object \n",
      " 79  SaleCondition  1460 non-null   object \n",
      " 80  SalePrice      1460 non-null   int64  \n",
      "dtypes: float64(3), int64(35), object(43)\n",
      "memory usage: 924.0+ KB\n"
     ]
    }
   ],
   "source": [
    "train_df.info()"
   ]
  },
  {
   "cell_type": "code",
   "execution_count": 5,
   "id": "b04dd6ae",
   "metadata": {
    "execution": {
     "iopub.execute_input": "2022-03-03T07:50:11.645721Z",
     "iopub.status.busy": "2022-03-03T07:50:11.644964Z",
     "iopub.status.idle": "2022-03-03T07:50:11.673885Z",
     "shell.execute_reply": "2022-03-03T07:50:11.673202Z",
     "shell.execute_reply.started": "2022-03-03T07:47:54.606461Z"
    },
    "papermill": {
     "duration": 0.0781,
     "end_time": "2022-03-03T07:50:11.674038",
     "exception": false,
     "start_time": "2022-03-03T07:50:11.595938",
     "status": "completed"
    },
    "tags": []
   },
   "outputs": [],
   "source": [
    "to_be_dropped = (train_df.isna().sum()[train_df.isna().sum() > 0]/len(train_df))[train_df.isna().sum()[train_df.isna().sum() > 0]/len(train_df) > 0.5].index "
   ]
  },
  {
   "cell_type": "code",
   "execution_count": 6,
   "id": "f15a604b",
   "metadata": {
    "execution": {
     "iopub.execute_input": "2022-03-03T07:50:11.756182Z",
     "iopub.status.busy": "2022-03-03T07:50:11.755575Z",
     "iopub.status.idle": "2022-03-03T07:50:11.758021Z",
     "shell.execute_reply": "2022-03-03T07:50:11.758599Z",
     "shell.execute_reply.started": "2022-03-03T07:47:54.628260Z"
    },
    "papermill": {
     "duration": 0.045352,
     "end_time": "2022-03-03T07:50:11.758758",
     "exception": false,
     "start_time": "2022-03-03T07:50:11.713406",
     "status": "completed"
    },
    "tags": []
   },
   "outputs": [],
   "source": [
    "train_df = train_df.drop(to_be_dropped,axis=1)"
   ]
  },
  {
   "cell_type": "code",
   "execution_count": 7,
   "id": "5e24407c",
   "metadata": {
    "execution": {
     "iopub.execute_input": "2022-03-03T07:50:11.836706Z",
     "iopub.status.busy": "2022-03-03T07:50:11.836094Z",
     "iopub.status.idle": "2022-03-03T07:50:11.841511Z",
     "shell.execute_reply": "2022-03-03T07:50:11.841987Z",
     "shell.execute_reply.started": "2022-03-03T07:47:54.634591Z"
    },
    "papermill": {
     "duration": 0.046238,
     "end_time": "2022-03-03T07:50:11.842157",
     "exception": false,
     "start_time": "2022-03-03T07:50:11.795919",
     "status": "completed"
    },
    "tags": []
   },
   "outputs": [],
   "source": [
    "test_df = test_df.drop(to_be_dropped,axis=1)"
   ]
  },
  {
   "cell_type": "code",
   "execution_count": 8,
   "id": "c598ed58",
   "metadata": {
    "execution": {
     "iopub.execute_input": "2022-03-03T07:50:11.919534Z",
     "iopub.status.busy": "2022-03-03T07:50:11.918851Z",
     "iopub.status.idle": "2022-03-03T07:50:11.940451Z",
     "shell.execute_reply": "2022-03-03T07:50:11.940979Z",
     "shell.execute_reply.started": "2022-03-03T07:47:54.647424Z"
    },
    "papermill": {
     "duration": 0.062215,
     "end_time": "2022-03-03T07:50:11.941153",
     "exception": false,
     "start_time": "2022-03-03T07:50:11.878938",
     "status": "completed"
    },
    "tags": []
   },
   "outputs": [
    {
     "data": {
      "text/plain": [
       "LotFrontage     259\n",
       "MasVnrType        8\n",
       "MasVnrArea        8\n",
       "BsmtQual         37\n",
       "BsmtCond         37\n",
       "BsmtExposure     38\n",
       "BsmtFinType1     37\n",
       "BsmtFinType2     38\n",
       "Electrical        1\n",
       "FireplaceQu     690\n",
       "GarageType       81\n",
       "GarageYrBlt      81\n",
       "GarageFinish     81\n",
       "GarageQual       81\n",
       "GarageCond       81\n",
       "dtype: int64"
      ]
     },
     "execution_count": 8,
     "metadata": {},
     "output_type": "execute_result"
    }
   ],
   "source": [
    "train_df.isna().sum()[train_df.isna().sum() > 0]"
   ]
  },
  {
   "cell_type": "code",
   "execution_count": 9,
   "id": "fe522047",
   "metadata": {
    "execution": {
     "iopub.execute_input": "2022-03-03T07:50:12.018678Z",
     "iopub.status.busy": "2022-03-03T07:50:12.018037Z",
     "iopub.status.idle": "2022-03-03T07:50:12.039421Z",
     "shell.execute_reply": "2022-03-03T07:50:12.039982Z",
     "shell.execute_reply.started": "2022-03-03T07:47:54.672673Z"
    },
    "papermill": {
     "duration": 0.062209,
     "end_time": "2022-03-03T07:50:12.040167",
     "exception": false,
     "start_time": "2022-03-03T07:50:11.977958",
     "status": "completed"
    },
    "tags": []
   },
   "outputs": [
    {
     "name": "stdout",
     "output_type": "stream",
     "text": [
      "<class 'pandas.core.frame.DataFrame'>\n",
      "RangeIndex: 1459 entries, 0 to 1458\n",
      "Data columns (total 76 columns):\n",
      " #   Column         Non-Null Count  Dtype  \n",
      "---  ------         --------------  -----  \n",
      " 0   Id             1459 non-null   int64  \n",
      " 1   MSSubClass     1459 non-null   int64  \n",
      " 2   MSZoning       1455 non-null   object \n",
      " 3   LotFrontage    1232 non-null   float64\n",
      " 4   LotArea        1459 non-null   int64  \n",
      " 5   Street         1459 non-null   object \n",
      " 6   LotShape       1459 non-null   object \n",
      " 7   LandContour    1459 non-null   object \n",
      " 8   Utilities      1457 non-null   object \n",
      " 9   LotConfig      1459 non-null   object \n",
      " 10  LandSlope      1459 non-null   object \n",
      " 11  Neighborhood   1459 non-null   object \n",
      " 12  Condition1     1459 non-null   object \n",
      " 13  Condition2     1459 non-null   object \n",
      " 14  BldgType       1459 non-null   object \n",
      " 15  HouseStyle     1459 non-null   object \n",
      " 16  OverallQual    1459 non-null   int64  \n",
      " 17  OverallCond    1459 non-null   int64  \n",
      " 18  YearBuilt      1459 non-null   int64  \n",
      " 19  YearRemodAdd   1459 non-null   int64  \n",
      " 20  RoofStyle      1459 non-null   object \n",
      " 21  RoofMatl       1459 non-null   object \n",
      " 22  Exterior1st    1458 non-null   object \n",
      " 23  Exterior2nd    1458 non-null   object \n",
      " 24  MasVnrType     1443 non-null   object \n",
      " 25  MasVnrArea     1444 non-null   float64\n",
      " 26  ExterQual      1459 non-null   object \n",
      " 27  ExterCond      1459 non-null   object \n",
      " 28  Foundation     1459 non-null   object \n",
      " 29  BsmtQual       1415 non-null   object \n",
      " 30  BsmtCond       1414 non-null   object \n",
      " 31  BsmtExposure   1415 non-null   object \n",
      " 32  BsmtFinType1   1417 non-null   object \n",
      " 33  BsmtFinSF1     1458 non-null   float64\n",
      " 34  BsmtFinType2   1417 non-null   object \n",
      " 35  BsmtFinSF2     1458 non-null   float64\n",
      " 36  BsmtUnfSF      1458 non-null   float64\n",
      " 37  TotalBsmtSF    1458 non-null   float64\n",
      " 38  Heating        1459 non-null   object \n",
      " 39  HeatingQC      1459 non-null   object \n",
      " 40  CentralAir     1459 non-null   object \n",
      " 41  Electrical     1459 non-null   object \n",
      " 42  1stFlrSF       1459 non-null   int64  \n",
      " 43  2ndFlrSF       1459 non-null   int64  \n",
      " 44  LowQualFinSF   1459 non-null   int64  \n",
      " 45  GrLivArea      1459 non-null   int64  \n",
      " 46  BsmtFullBath   1457 non-null   float64\n",
      " 47  BsmtHalfBath   1457 non-null   float64\n",
      " 48  FullBath       1459 non-null   int64  \n",
      " 49  HalfBath       1459 non-null   int64  \n",
      " 50  BedroomAbvGr   1459 non-null   int64  \n",
      " 51  KitchenAbvGr   1459 non-null   int64  \n",
      " 52  KitchenQual    1458 non-null   object \n",
      " 53  TotRmsAbvGrd   1459 non-null   int64  \n",
      " 54  Functional     1457 non-null   object \n",
      " 55  Fireplaces     1459 non-null   int64  \n",
      " 56  FireplaceQu    729 non-null    object \n",
      " 57  GarageType     1383 non-null   object \n",
      " 58  GarageYrBlt    1381 non-null   float64\n",
      " 59  GarageFinish   1381 non-null   object \n",
      " 60  GarageCars     1458 non-null   float64\n",
      " 61  GarageArea     1458 non-null   float64\n",
      " 62  GarageQual     1381 non-null   object \n",
      " 63  GarageCond     1381 non-null   object \n",
      " 64  PavedDrive     1459 non-null   object \n",
      " 65  WoodDeckSF     1459 non-null   int64  \n",
      " 66  OpenPorchSF    1459 non-null   int64  \n",
      " 67  EnclosedPorch  1459 non-null   int64  \n",
      " 68  3SsnPorch      1459 non-null   int64  \n",
      " 69  ScreenPorch    1459 non-null   int64  \n",
      " 70  PoolArea       1459 non-null   int64  \n",
      " 71  MiscVal        1459 non-null   int64  \n",
      " 72  MoSold         1459 non-null   int64  \n",
      " 73  YrSold         1459 non-null   int64  \n",
      " 74  SaleType       1458 non-null   object \n",
      " 75  SaleCondition  1459 non-null   object \n",
      "dtypes: float64(11), int64(26), object(39)\n",
      "memory usage: 866.4+ KB\n"
     ]
    }
   ],
   "source": [
    "test_df.info()"
   ]
  },
  {
   "cell_type": "code",
   "execution_count": null,
   "id": "e7957916",
   "metadata": {
    "papermill": {
     "duration": 0.037692,
     "end_time": "2022-03-03T07:50:12.116068",
     "exception": false,
     "start_time": "2022-03-03T07:50:12.078376",
     "status": "completed"
    },
    "tags": []
   },
   "outputs": [],
   "source": []
  },
  {
   "cell_type": "code",
   "execution_count": null,
   "id": "e34cbc82",
   "metadata": {
    "papermill": {
     "duration": 0.036493,
     "end_time": "2022-03-03T07:50:12.190021",
     "exception": false,
     "start_time": "2022-03-03T07:50:12.153528",
     "status": "completed"
    },
    "tags": []
   },
   "outputs": [],
   "source": []
  },
  {
   "cell_type": "code",
   "execution_count": 10,
   "id": "12286223",
   "metadata": {
    "execution": {
     "iopub.execute_input": "2022-03-03T07:50:12.266770Z",
     "iopub.status.busy": "2022-03-03T07:50:12.266165Z",
     "iopub.status.idle": "2022-03-03T07:50:12.269560Z",
     "shell.execute_reply": "2022-03-03T07:50:12.270057Z",
     "shell.execute_reply.started": "2022-03-03T07:47:54.692808Z"
    },
    "papermill": {
     "duration": 0.043118,
     "end_time": "2022-03-03T07:50:12.270203",
     "exception": false,
     "start_time": "2022-03-03T07:50:12.227085",
     "status": "completed"
    },
    "tags": []
   },
   "outputs": [],
   "source": [
    "numeric = train_df._get_numeric_data()"
   ]
  },
  {
   "cell_type": "code",
   "execution_count": 11,
   "id": "fc80ab2a",
   "metadata": {
    "execution": {
     "iopub.execute_input": "2022-03-03T07:50:12.347892Z",
     "iopub.status.busy": "2022-03-03T07:50:12.347229Z",
     "iopub.status.idle": "2022-03-03T07:50:12.354386Z",
     "shell.execute_reply": "2022-03-03T07:50:12.354991Z",
     "shell.execute_reply.started": "2022-03-03T07:47:54.698359Z"
    },
    "papermill": {
     "duration": 0.04774,
     "end_time": "2022-03-03T07:50:12.355150",
     "exception": false,
     "start_time": "2022-03-03T07:50:12.307410",
     "status": "completed"
    },
    "tags": []
   },
   "outputs": [
    {
     "data": {
      "text/plain": [
       "Id                 0\n",
       "MSSubClass         0\n",
       "LotFrontage      259\n",
       "LotArea            0\n",
       "OverallQual        0\n",
       "OverallCond        0\n",
       "YearBuilt          0\n",
       "YearRemodAdd       0\n",
       "MasVnrArea         8\n",
       "BsmtFinSF1         0\n",
       "BsmtFinSF2         0\n",
       "BsmtUnfSF          0\n",
       "TotalBsmtSF        0\n",
       "1stFlrSF           0\n",
       "2ndFlrSF           0\n",
       "LowQualFinSF       0\n",
       "GrLivArea          0\n",
       "BsmtFullBath       0\n",
       "BsmtHalfBath       0\n",
       "FullBath           0\n",
       "HalfBath           0\n",
       "BedroomAbvGr       0\n",
       "KitchenAbvGr       0\n",
       "TotRmsAbvGrd       0\n",
       "Fireplaces         0\n",
       "GarageYrBlt       81\n",
       "GarageCars         0\n",
       "GarageArea         0\n",
       "WoodDeckSF         0\n",
       "OpenPorchSF        0\n",
       "EnclosedPorch      0\n",
       "3SsnPorch          0\n",
       "ScreenPorch        0\n",
       "PoolArea           0\n",
       "MiscVal            0\n",
       "MoSold             0\n",
       "YrSold             0\n",
       "SalePrice          0\n",
       "dtype: int64"
      ]
     },
     "execution_count": 11,
     "metadata": {},
     "output_type": "execute_result"
    }
   ],
   "source": [
    "numeric.isna().sum()"
   ]
  },
  {
   "cell_type": "code",
   "execution_count": 12,
   "id": "362fb708",
   "metadata": {
    "execution": {
     "iopub.execute_input": "2022-03-03T07:50:12.437782Z",
     "iopub.status.busy": "2022-03-03T07:50:12.437115Z",
     "iopub.status.idle": "2022-03-03T07:50:13.602751Z",
     "shell.execute_reply": "2022-03-03T07:50:13.602147Z",
     "shell.execute_reply.started": "2022-03-03T07:47:54.713526Z"
    },
    "papermill": {
     "duration": 1.208879,
     "end_time": "2022-03-03T07:50:13.602901",
     "exception": false,
     "start_time": "2022-03-03T07:50:12.394022",
     "status": "completed"
    },
    "tags": []
   },
   "outputs": [],
   "source": [
    "from sklearn.impute import SimpleImputer\n",
    "imp_median = SimpleImputer(missing_values=np.nan, strategy='median')\n",
    "filled_numeric = pd.DataFrame(imp_median.fit_transform(train_df[numeric.columns]),columns=numeric.columns)"
   ]
  },
  {
   "cell_type": "code",
   "execution_count": 13,
   "id": "b2aa69e7",
   "metadata": {
    "execution": {
     "iopub.execute_input": "2022-03-03T07:50:13.684511Z",
     "iopub.status.busy": "2022-03-03T07:50:13.683857Z",
     "iopub.status.idle": "2022-03-03T07:50:13.687264Z",
     "shell.execute_reply": "2022-03-03T07:50:13.687830Z",
     "shell.execute_reply.started": "2022-03-03T07:47:54.731454Z"
    },
    "papermill": {
     "duration": 0.045927,
     "end_time": "2022-03-03T07:50:13.688012",
     "exception": false,
     "start_time": "2022-03-03T07:50:13.642085",
     "status": "completed"
    },
    "tags": []
   },
   "outputs": [],
   "source": [
    "catAttr = list(set(train_df.columns)-set(numeric.columns))\n"
   ]
  },
  {
   "cell_type": "code",
   "execution_count": 14,
   "id": "912cc0c0",
   "metadata": {
    "execution": {
     "iopub.execute_input": "2022-03-03T07:50:13.770370Z",
     "iopub.status.busy": "2022-03-03T07:50:13.769773Z",
     "iopub.status.idle": "2022-03-03T07:50:13.782496Z",
     "shell.execute_reply": "2022-03-03T07:50:13.783048Z",
     "shell.execute_reply.started": "2022-03-03T07:47:54.736615Z"
    },
    "papermill": {
     "duration": 0.056436,
     "end_time": "2022-03-03T07:50:13.783219",
     "exception": false,
     "start_time": "2022-03-03T07:50:13.726783",
     "status": "completed"
    },
    "tags": []
   },
   "outputs": [
    {
     "data": {
      "text/plain": [
       "BsmtExposure      38\n",
       "MasVnrType         8\n",
       "BsmtFinType2      38\n",
       "KitchenQual        0\n",
       "MSZoning           0\n",
       "GarageCond        81\n",
       "ExterQual          0\n",
       "Exterior2nd        0\n",
       "Exterior1st        0\n",
       "PavedDrive         0\n",
       "HouseStyle         0\n",
       "SaleType           0\n",
       "SaleCondition      0\n",
       "LandSlope          0\n",
       "Foundation         0\n",
       "Neighborhood       0\n",
       "Functional         0\n",
       "Condition2         0\n",
       "BsmtQual          37\n",
       "LandContour        0\n",
       "Condition1         0\n",
       "ExterCond          0\n",
       "RoofStyle          0\n",
       "Street             0\n",
       "GarageFinish      81\n",
       "HeatingQC          0\n",
       "Utilities          0\n",
       "GarageType        81\n",
       "BldgType           0\n",
       "BsmtCond          37\n",
       "Electrical         1\n",
       "GarageQual        81\n",
       "BsmtFinType1      37\n",
       "LotShape           0\n",
       "RoofMatl           0\n",
       "LotConfig          0\n",
       "Heating            0\n",
       "CentralAir         0\n",
       "FireplaceQu      690\n",
       "dtype: int64"
      ]
     },
     "execution_count": 14,
     "metadata": {},
     "output_type": "execute_result"
    }
   ],
   "source": [
    "train_df[catAttr].isna().sum()"
   ]
  },
  {
   "cell_type": "code",
   "execution_count": 15,
   "id": "c6d2999d",
   "metadata": {
    "execution": {
     "iopub.execute_input": "2022-03-03T07:50:13.864571Z",
     "iopub.status.busy": "2022-03-03T07:50:13.863903Z",
     "iopub.status.idle": "2022-03-03T07:50:13.925547Z",
     "shell.execute_reply": "2022-03-03T07:50:13.924780Z",
     "shell.execute_reply.started": "2022-03-03T07:47:54.753713Z"
    },
    "papermill": {
     "duration": 0.10253,
     "end_time": "2022-03-03T07:50:13.925687",
     "exception": false,
     "start_time": "2022-03-03T07:50:13.823157",
     "status": "completed"
    },
    "tags": []
   },
   "outputs": [
    {
     "name": "stdout",
     "output_type": "stream",
     "text": [
      "No     953\n",
      "Av     221\n",
      "Gd     134\n",
      "Mn     114\n",
      "NaN     38\n",
      "Name: BsmtExposure, dtype: int64\n",
      "None       864\n",
      "BrkFace    445\n",
      "Stone      128\n",
      "BrkCmn      15\n",
      "NaN          8\n",
      "Name: MasVnrType, dtype: int64\n",
      "Unf    1256\n",
      "Rec      54\n",
      "LwQ      46\n",
      "NaN      38\n",
      "BLQ      33\n",
      "ALQ      19\n",
      "GLQ      14\n",
      "Name: BsmtFinType2, dtype: int64\n",
      "TA    735\n",
      "Gd    586\n",
      "Ex    100\n",
      "Fa     39\n",
      "Name: KitchenQual, dtype: int64\n",
      "RL         1151\n",
      "RM          218\n",
      "FV           65\n",
      "RH           16\n",
      "C (all)      10\n",
      "Name: MSZoning, dtype: int64\n",
      "TA     1326\n",
      "NaN      81\n",
      "Fa       35\n",
      "Gd        9\n",
      "Po        7\n",
      "Ex        2\n",
      "Name: GarageCond, dtype: int64\n",
      "TA    906\n",
      "Gd    488\n",
      "Ex     52\n",
      "Fa     14\n",
      "Name: ExterQual, dtype: int64\n",
      "VinylSd    504\n",
      "MetalSd    214\n",
      "HdBoard    207\n",
      "Wd Sdng    197\n",
      "Plywood    142\n",
      "CmentBd     60\n",
      "Wd Shng     38\n",
      "Stucco      26\n",
      "BrkFace     25\n",
      "AsbShng     20\n",
      "ImStucc     10\n",
      "Brk Cmn      7\n",
      "Stone        5\n",
      "AsphShn      3\n",
      "Other        1\n",
      "CBlock       1\n",
      "Name: Exterior2nd, dtype: int64\n",
      "VinylSd    515\n",
      "HdBoard    222\n",
      "MetalSd    220\n",
      "Wd Sdng    206\n",
      "Plywood    108\n",
      "CemntBd     61\n",
      "BrkFace     50\n",
      "WdShing     26\n",
      "Stucco      25\n",
      "AsbShng     20\n",
      "BrkComm      2\n",
      "Stone        2\n",
      "AsphShn      1\n",
      "ImStucc      1\n",
      "CBlock       1\n",
      "Name: Exterior1st, dtype: int64\n",
      "Y    1340\n",
      "N      90\n",
      "P      30\n",
      "Name: PavedDrive, dtype: int64\n",
      "1Story    726\n",
      "2Story    445\n",
      "1.5Fin    154\n",
      "SLvl       65\n",
      "SFoyer     37\n",
      "1.5Unf     14\n",
      "2.5Unf     11\n",
      "2.5Fin      8\n",
      "Name: HouseStyle, dtype: int64\n",
      "WD       1267\n",
      "New       122\n",
      "COD        43\n",
      "ConLD       9\n",
      "ConLI       5\n",
      "ConLw       5\n",
      "CWD         4\n",
      "Oth         3\n",
      "Con         2\n",
      "Name: SaleType, dtype: int64\n",
      "Normal     1198\n",
      "Partial     125\n",
      "Abnorml     101\n",
      "Family       20\n",
      "Alloca       12\n",
      "AdjLand       4\n",
      "Name: SaleCondition, dtype: int64\n",
      "Gtl    1382\n",
      "Mod      65\n",
      "Sev      13\n",
      "Name: LandSlope, dtype: int64\n",
      "PConc     647\n",
      "CBlock    634\n",
      "BrkTil    146\n",
      "Slab       24\n",
      "Stone       6\n",
      "Wood        3\n",
      "Name: Foundation, dtype: int64\n",
      "NAmes      225\n",
      "CollgCr    150\n",
      "OldTown    113\n",
      "Edwards    100\n",
      "Somerst     86\n",
      "Gilbert     79\n",
      "NridgHt     77\n",
      "Sawyer      74\n",
      "NWAmes      73\n",
      "SawyerW     59\n",
      "BrkSide     58\n",
      "Crawfor     51\n",
      "Mitchel     49\n",
      "NoRidge     41\n",
      "Timber      38\n",
      "IDOTRR      37\n",
      "ClearCr     28\n",
      "StoneBr     25\n",
      "SWISU       25\n",
      "MeadowV     17\n",
      "Blmngtn     17\n",
      "BrDale      16\n",
      "Veenker     11\n",
      "NPkVill      9\n",
      "Blueste      2\n",
      "Name: Neighborhood, dtype: int64\n",
      "Typ     1360\n",
      "Min2      34\n",
      "Min1      31\n",
      "Mod       15\n",
      "Maj1      14\n",
      "Maj2       5\n",
      "Sev        1\n",
      "Name: Functional, dtype: int64\n",
      "Norm      1445\n",
      "Feedr        6\n",
      "Artery       2\n",
      "RRNn         2\n",
      "PosN         2\n",
      "PosA         1\n",
      "RRAn         1\n",
      "RRAe         1\n",
      "Name: Condition2, dtype: int64\n",
      "TA     649\n",
      "Gd     618\n",
      "Ex     121\n",
      "NaN     37\n",
      "Fa      35\n",
      "Name: BsmtQual, dtype: int64\n",
      "Lvl    1311\n",
      "Bnk      63\n",
      "HLS      50\n",
      "Low      36\n",
      "Name: LandContour, dtype: int64\n",
      "Norm      1260\n",
      "Feedr       81\n",
      "Artery      48\n",
      "RRAn        26\n",
      "PosN        19\n",
      "RRAe        11\n",
      "PosA         8\n",
      "RRNn         5\n",
      "RRNe         2\n",
      "Name: Condition1, dtype: int64\n",
      "TA    1282\n",
      "Gd     146\n",
      "Fa      28\n",
      "Ex       3\n",
      "Po       1\n",
      "Name: ExterCond, dtype: int64\n",
      "Gable      1141\n",
      "Hip         286\n",
      "Flat         13\n",
      "Gambrel      11\n",
      "Mansard       7\n",
      "Shed          2\n",
      "Name: RoofStyle, dtype: int64\n",
      "Pave    1454\n",
      "Grvl       6\n",
      "Name: Street, dtype: int64\n",
      "Unf    605\n",
      "RFn    422\n",
      "Fin    352\n",
      "NaN     81\n",
      "Name: GarageFinish, dtype: int64\n",
      "Ex    741\n",
      "TA    428\n",
      "Gd    241\n",
      "Fa     49\n",
      "Po      1\n",
      "Name: HeatingQC, dtype: int64\n",
      "AllPub    1459\n",
      "NoSeWa       1\n",
      "Name: Utilities, dtype: int64\n",
      "Attchd     870\n",
      "Detchd     387\n",
      "BuiltIn     88\n",
      "NaN         81\n",
      "Basment     19\n",
      "CarPort      9\n",
      "2Types       6\n",
      "Name: GarageType, dtype: int64\n",
      "1Fam      1220\n",
      "TwnhsE     114\n",
      "Duplex      52\n",
      "Twnhs       43\n",
      "2fmCon      31\n",
      "Name: BldgType, dtype: int64\n",
      "TA     1311\n",
      "Gd       65\n",
      "Fa       45\n",
      "NaN      37\n",
      "Po        2\n",
      "Name: BsmtCond, dtype: int64\n",
      "SBrkr    1334\n",
      "FuseA      94\n",
      "FuseF      27\n",
      "FuseP       3\n",
      "Mix         1\n",
      "NaN         1\n",
      "Name: Electrical, dtype: int64\n",
      "TA     1311\n",
      "NaN      81\n",
      "Fa       48\n",
      "Gd       14\n",
      "Ex        3\n",
      "Po        3\n",
      "Name: GarageQual, dtype: int64\n",
      "Unf    430\n",
      "GLQ    418\n",
      "ALQ    220\n",
      "BLQ    148\n",
      "Rec    133\n",
      "LwQ     74\n",
      "NaN     37\n",
      "Name: BsmtFinType1, dtype: int64\n",
      "Reg    925\n",
      "IR1    484\n",
      "IR2     41\n",
      "IR3     10\n",
      "Name: LotShape, dtype: int64\n",
      "CompShg    1434\n",
      "Tar&Grv      11\n",
      "WdShngl       6\n",
      "WdShake       5\n",
      "Metal         1\n",
      "Membran       1\n",
      "Roll          1\n",
      "ClyTile       1\n",
      "Name: RoofMatl, dtype: int64\n",
      "Inside     1052\n",
      "Corner      263\n",
      "CulDSac      94\n",
      "FR2          47\n",
      "FR3           4\n",
      "Name: LotConfig, dtype: int64\n",
      "GasA     1428\n",
      "GasW       18\n",
      "Grav        7\n",
      "Wall        4\n",
      "OthW        2\n",
      "Floor       1\n",
      "Name: Heating, dtype: int64\n",
      "Y    1365\n",
      "N      95\n",
      "Name: CentralAir, dtype: int64\n",
      "NaN    690\n",
      "Gd     380\n",
      "TA     313\n",
      "Fa      33\n",
      "Ex      24\n",
      "Po      20\n",
      "Name: FireplaceQu, dtype: int64\n"
     ]
    }
   ],
   "source": [
    "for att in catAttr:\n",
    "    print(train_df[att].value_counts(dropna=False))"
   ]
  },
  {
   "cell_type": "code",
   "execution_count": 16,
   "id": "912ba833",
   "metadata": {
    "execution": {
     "iopub.execute_input": "2022-03-03T07:50:14.009769Z",
     "iopub.status.busy": "2022-03-03T07:50:14.008865Z",
     "iopub.status.idle": "2022-03-03T07:50:14.011662Z",
     "shell.execute_reply": "2022-03-03T07:50:14.011106Z",
     "shell.execute_reply.started": "2022-03-03T07:47:54.797806Z"
    },
    "papermill": {
     "duration": 0.04661,
     "end_time": "2022-03-03T07:50:14.011812",
     "exception": false,
     "start_time": "2022-03-03T07:50:13.965202",
     "status": "completed"
    },
    "tags": []
   },
   "outputs": [],
   "source": [
    "# for att in catAttr:\n",
    "#     train_df[att] = train_df[att].apply(lambda x: train_df[att].mode() if np.isnan(x) else x )"
   ]
  },
  {
   "cell_type": "code",
   "execution_count": 17,
   "id": "e3ea2d63",
   "metadata": {
    "execution": {
     "iopub.execute_input": "2022-03-03T07:50:14.093619Z",
     "iopub.status.busy": "2022-03-03T07:50:14.092637Z",
     "iopub.status.idle": "2022-03-03T07:50:14.094787Z",
     "shell.execute_reply": "2022-03-03T07:50:14.095343Z",
     "shell.execute_reply.started": "2022-03-03T07:47:54.805210Z"
    },
    "papermill": {
     "duration": 0.045117,
     "end_time": "2022-03-03T07:50:14.095514",
     "exception": false,
     "start_time": "2022-03-03T07:50:14.050397",
     "status": "completed"
    },
    "tags": []
   },
   "outputs": [],
   "source": [
    "from sklearn.preprocessing import OrdinalEncoder\n",
    "enc = OrdinalEncoder()"
   ]
  },
  {
   "cell_type": "code",
   "execution_count": 18,
   "id": "791a71a8",
   "metadata": {
    "execution": {
     "iopub.execute_input": "2022-03-03T07:50:14.176312Z",
     "iopub.status.busy": "2022-03-03T07:50:14.175382Z",
     "iopub.status.idle": "2022-03-03T07:50:14.180325Z",
     "shell.execute_reply": "2022-03-03T07:50:14.180922Z",
     "shell.execute_reply.started": "2022-03-03T07:47:54.814960Z"
    },
    "papermill": {
     "duration": 0.046911,
     "end_time": "2022-03-03T07:50:14.181085",
     "exception": false,
     "start_time": "2022-03-03T07:50:14.134174",
     "status": "completed"
    },
    "tags": []
   },
   "outputs": [],
   "source": [
    "filled_numeric = filled_numeric.drop('Id',axis=1)"
   ]
  },
  {
   "cell_type": "code",
   "execution_count": 19,
   "id": "18d08af0",
   "metadata": {
    "execution": {
     "iopub.execute_input": "2022-03-03T07:50:14.263399Z",
     "iopub.status.busy": "2022-03-03T07:50:14.262402Z",
     "iopub.status.idle": "2022-03-03T07:50:14.267440Z",
     "shell.execute_reply": "2022-03-03T07:50:14.268045Z",
     "shell.execute_reply.started": "2022-03-03T07:47:54.826735Z"
    },
    "papermill": {
     "duration": 0.047552,
     "end_time": "2022-03-03T07:50:14.268203",
     "exception": false,
     "start_time": "2022-03-03T07:50:14.220651",
     "status": "completed"
    },
    "tags": []
   },
   "outputs": [],
   "source": [
    "X = filled_numeric.drop('SalePrice',axis=1)\n",
    "Y = filled_numeric['SalePrice']\n",
    "\n"
   ]
  },
  {
   "cell_type": "code",
   "execution_count": 20,
   "id": "7280d632",
   "metadata": {
    "execution": {
     "iopub.execute_input": "2022-03-03T07:50:14.350382Z",
     "iopub.status.busy": "2022-03-03T07:50:14.349428Z",
     "iopub.status.idle": "2022-03-03T07:50:14.433701Z",
     "shell.execute_reply": "2022-03-03T07:50:14.432508Z",
     "shell.execute_reply.started": "2022-03-03T07:47:54.837120Z"
    },
    "papermill": {
     "duration": 0.126125,
     "end_time": "2022-03-03T07:50:14.433849",
     "exception": false,
     "start_time": "2022-03-03T07:50:14.307724",
     "status": "completed"
    },
    "tags": []
   },
   "outputs": [],
   "source": [
    "from sklearn.linear_model import LinearRegression\n",
    "lin_reg = LinearRegression()\n",
    "from sklearn.ensemble import RandomForestRegressor\n",
    "regr = RandomForestRegressor(max_depth=2, random_state=0)\n"
   ]
  },
  {
   "cell_type": "code",
   "execution_count": 21,
   "id": "8b1dce8f",
   "metadata": {
    "execution": {
     "iopub.execute_input": "2022-03-03T07:50:14.519240Z",
     "iopub.status.busy": "2022-03-03T07:50:14.518255Z",
     "iopub.status.idle": "2022-03-03T07:50:14.522736Z",
     "shell.execute_reply": "2022-03-03T07:50:14.523282Z",
     "shell.execute_reply.started": "2022-03-03T07:47:54.932074Z"
    },
    "papermill": {
     "duration": 0.050157,
     "end_time": "2022-03-03T07:50:14.523439",
     "exception": false,
     "start_time": "2022-03-03T07:50:14.473282",
     "status": "completed"
    },
    "tags": []
   },
   "outputs": [],
   "source": [
    "from sklearn.model_selection import train_test_split\n",
    "X_train , X_val , y_train, y_val = train_test_split(X,Y,test_size=0.2,random_state = 42)"
   ]
  },
  {
   "cell_type": "code",
   "execution_count": 22,
   "id": "61a6d1c2",
   "metadata": {
    "execution": {
     "iopub.execute_input": "2022-03-03T07:50:14.606050Z",
     "iopub.status.busy": "2022-03-03T07:50:14.605092Z",
     "iopub.status.idle": "2022-03-03T07:50:14.608238Z",
     "shell.execute_reply": "2022-03-03T07:50:14.608833Z",
     "shell.execute_reply.started": "2022-03-03T07:47:54.940424Z"
    },
    "papermill": {
     "duration": 0.046149,
     "end_time": "2022-03-03T07:50:14.608998",
     "exception": false,
     "start_time": "2022-03-03T07:50:14.562849",
     "status": "completed"
    },
    "tags": []
   },
   "outputs": [],
   "source": [
    "# from sklearn.preprocessing import StandardScaler\n",
    "# scaler = StandardScaler()\n",
    "# scaler.fit(X_train)"
   ]
  },
  {
   "cell_type": "code",
   "execution_count": null,
   "id": "e3e4ff9a",
   "metadata": {
    "papermill": {
     "duration": 0.038448,
     "end_time": "2022-03-03T07:50:14.686553",
     "exception": false,
     "start_time": "2022-03-03T07:50:14.648105",
     "status": "completed"
    },
    "tags": []
   },
   "outputs": [],
   "source": []
  },
  {
   "cell_type": "code",
   "execution_count": 23,
   "id": "a5afba2e",
   "metadata": {
    "execution": {
     "iopub.execute_input": "2022-03-03T07:50:14.769142Z",
     "iopub.status.busy": "2022-03-03T07:50:14.768220Z",
     "iopub.status.idle": "2022-03-03T07:50:15.165583Z",
     "shell.execute_reply": "2022-03-03T07:50:15.165045Z",
     "shell.execute_reply.started": "2022-03-03T07:47:54.950781Z"
    },
    "papermill": {
     "duration": 0.440124,
     "end_time": "2022-03-03T07:50:15.165728",
     "exception": false,
     "start_time": "2022-03-03T07:50:14.725604",
     "status": "completed"
    },
    "tags": []
   },
   "outputs": [
    {
     "data": {
      "text/plain": [
       "RandomForestRegressor(max_depth=2, random_state=0)"
      ]
     },
     "execution_count": 23,
     "metadata": {},
     "output_type": "execute_result"
    }
   ],
   "source": [
    "lin_reg.fit(X_train,y_train)\n",
    "regr.fit(X_train, y_train)"
   ]
  },
  {
   "cell_type": "code",
   "execution_count": 24,
   "id": "d0750e07",
   "metadata": {
    "execution": {
     "iopub.execute_input": "2022-03-03T07:50:15.248642Z",
     "iopub.status.busy": "2022-03-03T07:50:15.247727Z",
     "iopub.status.idle": "2022-03-03T07:50:15.260948Z",
     "shell.execute_reply": "2022-03-03T07:50:15.261926Z",
     "shell.execute_reply.started": "2022-03-03T07:47:55.305772Z"
    },
    "papermill": {
     "duration": 0.05708,
     "end_time": "2022-03-03T07:50:15.262174",
     "exception": false,
     "start_time": "2022-03-03T07:50:15.205094",
     "status": "completed"
    },
    "tags": []
   },
   "outputs": [],
   "source": [
    "y_fit_0 = lin_reg.predict(X_val)"
   ]
  },
  {
   "cell_type": "code",
   "execution_count": 25,
   "id": "50fa19de",
   "metadata": {
    "execution": {
     "iopub.execute_input": "2022-03-03T07:50:15.398001Z",
     "iopub.status.busy": "2022-03-03T07:50:15.397244Z",
     "iopub.status.idle": "2022-03-03T07:50:15.399652Z",
     "shell.execute_reply": "2022-03-03T07:50:15.400070Z",
     "shell.execute_reply.started": "2022-03-03T07:47:55.319535Z"
    },
    "papermill": {
     "duration": 0.064243,
     "end_time": "2022-03-03T07:50:15.400221",
     "exception": false,
     "start_time": "2022-03-03T07:50:15.335978",
     "status": "completed"
    },
    "tags": []
   },
   "outputs": [],
   "source": [
    "num_test_df = test_df[test_df._get_numeric_data().columns]"
   ]
  },
  {
   "cell_type": "code",
   "execution_count": 26,
   "id": "dd902a58",
   "metadata": {
    "execution": {
     "iopub.execute_input": "2022-03-03T07:50:15.482833Z",
     "iopub.status.busy": "2022-03-03T07:50:15.481903Z",
     "iopub.status.idle": "2022-03-03T07:50:15.500587Z",
     "shell.execute_reply": "2022-03-03T07:50:15.501011Z",
     "shell.execute_reply.started": "2022-03-03T07:47:55.334659Z"
    },
    "papermill": {
     "duration": 0.061132,
     "end_time": "2022-03-03T07:50:15.501186",
     "exception": false,
     "start_time": "2022-03-03T07:50:15.440054",
     "status": "completed"
    },
    "tags": []
   },
   "outputs": [
    {
     "name": "stderr",
     "output_type": "stream",
     "text": [
      "/opt/conda/lib/python3.7/site-packages/pandas/core/generic.py:6392: SettingWithCopyWarning: \n",
      "A value is trying to be set on a copy of a slice from a DataFrame\n",
      "\n",
      "See the caveats in the documentation: https://pandas.pydata.org/pandas-docs/stable/user_guide/indexing.html#returning-a-view-versus-a-copy\n",
      "  return self._update_inplace(result)\n"
     ]
    }
   ],
   "source": [
    "# filled_test_num = imp_median.transform(num_test_df)\n",
    "num_test_df.fillna(num_test_df.median(),inplace=True)"
   ]
  },
  {
   "cell_type": "code",
   "execution_count": 27,
   "id": "df3d5216",
   "metadata": {
    "execution": {
     "iopub.execute_input": "2022-03-03T07:50:15.583827Z",
     "iopub.status.busy": "2022-03-03T07:50:15.583214Z",
     "iopub.status.idle": "2022-03-03T07:50:15.587834Z",
     "shell.execute_reply": "2022-03-03T07:50:15.588395Z",
     "shell.execute_reply.started": "2022-03-03T07:47:55.365133Z"
    },
    "papermill": {
     "duration": 0.047384,
     "end_time": "2022-03-03T07:50:15.588569",
     "exception": false,
     "start_time": "2022-03-03T07:50:15.541185",
     "status": "completed"
    },
    "tags": []
   },
   "outputs": [],
   "source": [
    "ids_test = num_test_df['Id']\n",
    "num_test_df = num_test_df.drop('Id',axis=1)\n"
   ]
  },
  {
   "cell_type": "code",
   "execution_count": 28,
   "id": "fd682d24",
   "metadata": {
    "execution": {
     "iopub.execute_input": "2022-03-03T07:50:15.670670Z",
     "iopub.status.busy": "2022-03-03T07:50:15.670049Z",
     "iopub.status.idle": "2022-03-03T07:50:15.706652Z",
     "shell.execute_reply": "2022-03-03T07:50:15.707554Z",
     "shell.execute_reply.started": "2022-03-03T07:49:01.543365Z"
    },
    "papermill": {
     "duration": 0.079733,
     "end_time": "2022-03-03T07:50:15.707821",
     "exception": false,
     "start_time": "2022-03-03T07:50:15.628088",
     "status": "completed"
    },
    "tags": []
   },
   "outputs": [],
   "source": [
    "y_pred_0 = lin_reg.predict(num_test_df)\n",
    "ypred_regr = regr.predict(num_test_df)"
   ]
  },
  {
   "cell_type": "code",
   "execution_count": 29,
   "id": "57037ade",
   "metadata": {
    "execution": {
     "iopub.execute_input": "2022-03-03T07:50:15.841726Z",
     "iopub.status.busy": "2022-03-03T07:50:15.840895Z",
     "iopub.status.idle": "2022-03-03T07:50:15.844409Z",
     "shell.execute_reply": "2022-03-03T07:50:15.844907Z",
     "shell.execute_reply.started": "2022-03-03T07:49:23.454468Z"
    },
    "papermill": {
     "duration": 0.063753,
     "end_time": "2022-03-03T07:50:15.845072",
     "exception": false,
     "start_time": "2022-03-03T07:50:15.781319",
     "status": "completed"
    },
    "tags": []
   },
   "outputs": [
    {
     "data": {
      "text/html": [
       "<div>\n",
       "<style scoped>\n",
       "    .dataframe tbody tr th:only-of-type {\n",
       "        vertical-align: middle;\n",
       "    }\n",
       "\n",
       "    .dataframe tbody tr th {\n",
       "        vertical-align: top;\n",
       "    }\n",
       "\n",
       "    .dataframe thead th {\n",
       "        text-align: right;\n",
       "    }\n",
       "</style>\n",
       "<table border=\"1\" class=\"dataframe\">\n",
       "  <thead>\n",
       "    <tr style=\"text-align: right;\">\n",
       "      <th></th>\n",
       "      <th>Id</th>\n",
       "      <th>SalePrice</th>\n",
       "    </tr>\n",
       "  </thead>\n",
       "  <tbody>\n",
       "    <tr>\n",
       "      <th>0</th>\n",
       "      <td>1461</td>\n",
       "      <td>134836.456653</td>\n",
       "    </tr>\n",
       "    <tr>\n",
       "      <th>1</th>\n",
       "      <td>1462</td>\n",
       "      <td>139382.277868</td>\n",
       "    </tr>\n",
       "    <tr>\n",
       "      <th>2</th>\n",
       "      <td>1463</td>\n",
       "      <td>159158.387232</td>\n",
       "    </tr>\n",
       "    <tr>\n",
       "      <th>3</th>\n",
       "      <td>1464</td>\n",
       "      <td>163704.208447</td>\n",
       "    </tr>\n",
       "    <tr>\n",
       "      <th>4</th>\n",
       "      <td>1465</td>\n",
       "      <td>267786.489538</td>\n",
       "    </tr>\n",
       "    <tr>\n",
       "      <th>...</th>\n",
       "      <td>...</td>\n",
       "      <td>...</td>\n",
       "    </tr>\n",
       "    <tr>\n",
       "      <th>1454</th>\n",
       "      <td>2915</td>\n",
       "      <td>134836.456653</td>\n",
       "    </tr>\n",
       "    <tr>\n",
       "      <th>1455</th>\n",
       "      <td>2916</td>\n",
       "      <td>134836.456653</td>\n",
       "    </tr>\n",
       "    <tr>\n",
       "      <th>1456</th>\n",
       "      <td>2917</td>\n",
       "      <td>134836.456653</td>\n",
       "    </tr>\n",
       "    <tr>\n",
       "      <th>1457</th>\n",
       "      <td>2918</td>\n",
       "      <td>134836.456653</td>\n",
       "    </tr>\n",
       "    <tr>\n",
       "      <th>1458</th>\n",
       "      <td>2919</td>\n",
       "      <td>207265.857996</td>\n",
       "    </tr>\n",
       "  </tbody>\n",
       "</table>\n",
       "<p>1459 rows × 2 columns</p>\n",
       "</div>"
      ],
      "text/plain": [
       "        Id      SalePrice\n",
       "0     1461  134836.456653\n",
       "1     1462  139382.277868\n",
       "2     1463  159158.387232\n",
       "3     1464  163704.208447\n",
       "4     1465  267786.489538\n",
       "...    ...            ...\n",
       "1454  2915  134836.456653\n",
       "1455  2916  134836.456653\n",
       "1456  2917  134836.456653\n",
       "1457  2918  134836.456653\n",
       "1458  2919  207265.857996\n",
       "\n",
       "[1459 rows x 2 columns]"
      ]
     },
     "execution_count": 29,
     "metadata": {},
     "output_type": "execute_result"
    }
   ],
   "source": [
    "submission = pd.DataFrame({'Id':pd.Series(ids_test),'SalePrice':pd.Series(ypred_regr)})\n",
    "submission"
   ]
  },
  {
   "cell_type": "code",
   "execution_count": 30,
   "id": "4a878c65",
   "metadata": {
    "execution": {
     "iopub.execute_input": "2022-03-03T07:50:15.932347Z",
     "iopub.status.busy": "2022-03-03T07:50:15.931635Z",
     "iopub.status.idle": "2022-03-03T07:50:15.942305Z",
     "shell.execute_reply": "2022-03-03T07:50:15.941761Z",
     "shell.execute_reply.started": "2022-03-03T07:49:28.459007Z"
    },
    "papermill": {
     "duration": 0.056521,
     "end_time": "2022-03-03T07:50:15.942450",
     "exception": false,
     "start_time": "2022-03-03T07:50:15.885929",
     "status": "completed"
    },
    "tags": []
   },
   "outputs": [],
   "source": [
    "submission.to_csv('./submission.csv',index=False)"
   ]
  },
  {
   "cell_type": "code",
   "execution_count": 31,
   "id": "d72d7e1d",
   "metadata": {
    "execution": {
     "iopub.execute_input": "2022-03-03T07:50:16.029689Z",
     "iopub.status.busy": "2022-03-03T07:50:16.028895Z",
     "iopub.status.idle": "2022-03-03T07:50:16.037070Z",
     "shell.execute_reply": "2022-03-03T07:50:16.037612Z",
     "shell.execute_reply.started": "2022-03-03T07:49:30.074172Z"
    },
    "papermill": {
     "duration": 0.054468,
     "end_time": "2022-03-03T07:50:16.037785",
     "exception": false,
     "start_time": "2022-03-03T07:50:15.983317",
     "status": "completed"
    },
    "tags": []
   },
   "outputs": [
    {
     "data": {
      "text/html": [
       "<div>\n",
       "<style scoped>\n",
       "    .dataframe tbody tr th:only-of-type {\n",
       "        vertical-align: middle;\n",
       "    }\n",
       "\n",
       "    .dataframe tbody tr th {\n",
       "        vertical-align: top;\n",
       "    }\n",
       "\n",
       "    .dataframe thead th {\n",
       "        text-align: right;\n",
       "    }\n",
       "</style>\n",
       "<table border=\"1\" class=\"dataframe\">\n",
       "  <thead>\n",
       "    <tr style=\"text-align: right;\">\n",
       "      <th></th>\n",
       "      <th>Id</th>\n",
       "      <th>SalePrice</th>\n",
       "    </tr>\n",
       "  </thead>\n",
       "  <tbody>\n",
       "    <tr>\n",
       "      <th>0</th>\n",
       "      <td>1461</td>\n",
       "      <td>134836.456653</td>\n",
       "    </tr>\n",
       "    <tr>\n",
       "      <th>1</th>\n",
       "      <td>1462</td>\n",
       "      <td>139382.277868</td>\n",
       "    </tr>\n",
       "    <tr>\n",
       "      <th>2</th>\n",
       "      <td>1463</td>\n",
       "      <td>159158.387232</td>\n",
       "    </tr>\n",
       "    <tr>\n",
       "      <th>3</th>\n",
       "      <td>1464</td>\n",
       "      <td>163704.208447</td>\n",
       "    </tr>\n",
       "    <tr>\n",
       "      <th>4</th>\n",
       "      <td>1465</td>\n",
       "      <td>267786.489538</td>\n",
       "    </tr>\n",
       "    <tr>\n",
       "      <th>...</th>\n",
       "      <td>...</td>\n",
       "      <td>...</td>\n",
       "    </tr>\n",
       "    <tr>\n",
       "      <th>1454</th>\n",
       "      <td>2915</td>\n",
       "      <td>134836.456653</td>\n",
       "    </tr>\n",
       "    <tr>\n",
       "      <th>1455</th>\n",
       "      <td>2916</td>\n",
       "      <td>134836.456653</td>\n",
       "    </tr>\n",
       "    <tr>\n",
       "      <th>1456</th>\n",
       "      <td>2917</td>\n",
       "      <td>134836.456653</td>\n",
       "    </tr>\n",
       "    <tr>\n",
       "      <th>1457</th>\n",
       "      <td>2918</td>\n",
       "      <td>134836.456653</td>\n",
       "    </tr>\n",
       "    <tr>\n",
       "      <th>1458</th>\n",
       "      <td>2919</td>\n",
       "      <td>207265.857996</td>\n",
       "    </tr>\n",
       "  </tbody>\n",
       "</table>\n",
       "<p>1459 rows × 2 columns</p>\n",
       "</div>"
      ],
      "text/plain": [
       "        Id      SalePrice\n",
       "0     1461  134836.456653\n",
       "1     1462  139382.277868\n",
       "2     1463  159158.387232\n",
       "3     1464  163704.208447\n",
       "4     1465  267786.489538\n",
       "...    ...            ...\n",
       "1454  2915  134836.456653\n",
       "1455  2916  134836.456653\n",
       "1456  2917  134836.456653\n",
       "1457  2918  134836.456653\n",
       "1458  2919  207265.857996\n",
       "\n",
       "[1459 rows x 2 columns]"
      ]
     },
     "execution_count": 31,
     "metadata": {},
     "output_type": "execute_result"
    }
   ],
   "source": [
    "submission"
   ]
  },
  {
   "cell_type": "code",
   "execution_count": 32,
   "id": "fc8711c0",
   "metadata": {
    "execution": {
     "iopub.execute_input": "2022-03-03T07:50:16.124844Z",
     "iopub.status.busy": "2022-03-03T07:50:16.124222Z",
     "iopub.status.idle": "2022-03-03T07:50:16.126927Z",
     "shell.execute_reply": "2022-03-03T07:50:16.127431Z",
     "shell.execute_reply.started": "2022-03-03T07:47:55.435074Z"
    },
    "papermill": {
     "duration": 0.047868,
     "end_time": "2022-03-03T07:50:16.127607",
     "exception": false,
     "start_time": "2022-03-03T07:50:16.079739",
     "status": "completed"
    },
    "tags": []
   },
   "outputs": [],
   "source": [
    "# pd.read_csv('./submission.csv')"
   ]
  },
  {
   "cell_type": "code",
   "execution_count": null,
   "id": "219b3135",
   "metadata": {
    "papermill": {
     "duration": 0.041275,
     "end_time": "2022-03-03T07:50:16.210209",
     "exception": false,
     "start_time": "2022-03-03T07:50:16.168934",
     "status": "completed"
    },
    "tags": []
   },
   "outputs": [],
   "source": []
  }
 ],
 "metadata": {
  "kernelspec": {
   "display_name": "Python 3",
   "language": "python",
   "name": "python3"
  },
  "language_info": {
   "codemirror_mode": {
    "name": "ipython",
    "version": 3
   },
   "file_extension": ".py",
   "mimetype": "text/x-python",
   "name": "python",
   "nbconvert_exporter": "python",
   "pygments_lexer": "ipython3",
   "version": "3.7.12"
  },
  "papermill": {
   "default_parameters": {},
   "duration": 15.671482,
   "end_time": "2022-03-03T07:50:16.962078",
   "environment_variables": {},
   "exception": null,
   "input_path": "__notebook__.ipynb",
   "output_path": "__notebook__.ipynb",
   "parameters": {},
   "start_time": "2022-03-03T07:50:01.290596",
   "version": "2.3.3"
  }
 },
 "nbformat": 4,
 "nbformat_minor": 5
}
